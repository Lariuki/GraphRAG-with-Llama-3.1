{
 "cells": [
  {
   "cell_type": "code",
   "execution_count": 1,
   "metadata": {},
   "outputs": [
    {
     "name": "stdout",
     "output_type": "stream",
     "text": [
      "Note: you may need to restart the kernel to use updated packages.\n"
     ]
    }
   ],
   "source": [
    "%pip install --upgrade --quiet  langchain langchain-community langchain-openai langchain-ollama langchain-experimental neo4j tiktoken yfiles_jupyter_graphs python-dotenv"
   ]
  },
  {
   "cell_type": "code",
   "execution_count": 2,
   "metadata": {},
   "outputs": [
    {
     "name": "stdout",
     "output_type": "stream",
     "text": [
      "Requirement already satisfied: neo4j in /Library/Frameworks/Python.framework/Versions/3.12/lib/python3.12/site-packages (5.24.0)\n",
      "Requirement already satisfied: pytz in /Library/Frameworks/Python.framework/Versions/3.12/lib/python3.12/site-packages (from neo4j) (2024.2)\n",
      "Note: you may need to restart the kernel to use updated packages.\n",
      "Requirement already satisfied: json-repair in /Library/Frameworks/Python.framework/Versions/3.12/lib/python3.12/site-packages (0.29.4)\n",
      "Note: you may need to restart the kernel to use updated packages.\n"
     ]
    }
   ],
   "source": [
    "%pip install neo4j\n",
    "%pip install json-repair"
   ]
  },
  {
   "cell_type": "code",
   "execution_count": 3,
   "metadata": {},
   "outputs": [
    {
     "name": "stderr",
     "output_type": "stream",
     "text": [
      "/Users/larissakemicloud.com/Library/Python/3.12/lib/python/site-packages/IPython/core/interactiveshell.py:3577: LangChainDeprecationWarning: As of langchain-core 0.3.0, LangChain uses pydantic v2 internally. The langchain_core.pydantic_v1 module was a compatibility shim for pydantic v1, and should no longer be used. Please update the code to import from Pydantic directly.\n",
      "\n",
      "For example, replace imports like: `from langchain_core.pydantic_v1 import BaseModel`\n",
      "with: `from pydantic import BaseModel`\n",
      "or the v1 compatibility namespace if you are working in a code base that has not been fully upgraded to pydantic 2 yet. \tfrom pydantic.v1 import BaseModel\n",
      "\n",
      "  exec(code_obj, self.user_global_ns, self.user_ns)\n"
     ]
    },
    {
     "data": {
      "text/plain": [
       "False"
      ]
     },
     "execution_count": 3,
     "metadata": {},
     "output_type": "execute_result"
    }
   ],
   "source": [
    "from langchain_core.runnables import  RunnablePassthrough\n",
    "from langchain_core.prompts import ChatPromptTemplate\n",
    "from langchain_core.pydantic_v1 import BaseModel, Field\n",
    "from langchain_core.output_parsers import StrOutputParser\n",
    "import os\n",
    "from langchain_community.graphs import Neo4jGraph\n",
    "from langchain.text_splitter import RecursiveCharacterTextSplitter\n",
    "from langchain_openai import ChatOpenAI\n",
    "from langchain_community.chat_models import ChatOllama\n",
    "from langchain_experimental.graph_transformers import LLMGraphTransformer\n",
    "from neo4j import GraphDatabase\n",
    "from yfiles_jupyter_graphs import GraphWidget\n",
    "from langchain_community.vectorstores import Neo4jVector\n",
    "from langchain_openai import OpenAIEmbeddings\n",
    "from langchain_community.document_loaders import TextLoader\n",
    "from langchain_community.vectorstores.neo4j_vector import remove_lucene_chars\n",
    "\n",
    "from dotenv import load_dotenv\n",
    "\n",
    "load_dotenv()"
   ]
  },
  {
   "cell_type": "code",
   "execution_count": 4,
   "metadata": {},
   "outputs": [],
   "source": [
    "import os\n",
    "\n",
    "os.environ[\"NEO4J_URI\"] \n",
    "os.environ[\"NEO4J_USERNAME\"] \n",
    "os.environ[\"NEO4J_PASSWORD\"] \n",
    "\n",
    "# Agora você pode criar o gráfico sem passar os parâmetros diretamente\n",
    "graph = Neo4jGraph()"
   ]
  },
  {
   "cell_type": "code",
   "execution_count": 5,
   "metadata": {},
   "outputs": [
    {
     "data": {
      "text/plain": [
       "'\\ufeffCREATE TABLE [dbo].[ControleDeAcessoGrupo] (\\n    [ID]                      INT            IDENTITY (1, 1) NOT NULL,\\n    [ID_Empresa]              INT            NOT NULL,\\n    [Nome]                    NVARCHAR (250) NOT NULL,\\n    [Descricao]               NVARCHAR (600) NULL,\\n    [Tipo]                    NVARCHAR (100) NOT NULL,\\n    [Bloqueado]               BIT            NOT NULL,\\n    [DataDaUltimaAlteracao]   DATETIME       NOT NULL,\\n    [UltimoUsuarioQueAlterou] INT            NOT NULL,\\n    [DataDeDelecao]           DATETIME       NULL,\\n    CONSTRAINT [PK_ControleDeAcessoGrupo] PRIMARY KEY CLUSTERED ([ID] ASC)\\n);\\n\\n'"
      ]
     },
     "execution_count": 5,
     "metadata": {},
     "output_type": "execute_result"
    }
   ],
   "source": [
    "# Carregar os conteúdos dos arquivos SQL fornecidos\n",
    "file_paths = [\n",
    "    '/Users/larissakemicloud.com/Documents/GitHub/GraphRAG-with-Llama-3.1/tables/ControleDeAcessoGrupo.sql',\n",
    "    '/Users/larissakemicloud.com/Documents/GitHub/GraphRAG-with-Llama-3.1/tables/ControleDeAcessoGrupoUsuario.sql',\n",
    "]\n",
    "\n",
    "# Lendo os conteúdos dos arquivos SQL\n",
    "sql_contents = []\n",
    "for path in file_paths:\n",
    "    with open(path, 'r') as file:\n",
    "        sql_contents.append(file.read())\n",
    "\n",
    "# Exibir o conteúdo do primeiro arquivo como exemplo\n",
    "sql_contents[0][:1000]  # Exibir os primeiros 1000 caracteres do primeiro arquivo para análise"
   ]
  },
  {
   "cell_type": "code",
   "execution_count": 6,
   "metadata": {},
   "outputs": [
    {
     "data": {
      "text/plain": [
       "[\"\\nMERGE (g:Grupo {id: 1, nome: 'NomeDoGrupo', descricao: 'DescricaoGrupo', tipo: 'TipoGrupo'})\\n\",\n",
       " \"\\nMERGE (g:Grupo {id: 1})\\nMERGE (u:Usuario {id: 101, nome: 'NomeDoUsuario'})\\nMERGE (g)-[:CONTAINS]->(u)\\n\",\n",
       " \"\\nMERGE (m:Menu {id: 1, nome: 'MenuPrincipal'})\\nMERGE (sub:Menu {id: 2, nome: 'SubMenu'})\\nMERGE (sub)-[:CHILD_OF]->(m)\\n\",\n",
       " \"\\nMERGE (mod:Modulo {id: 1, nome: 'ModuloA'})\\nMERGE (tela:Tela {id: 1, nome: 'TelaA'})\\nMERGE (mod)-[:INCLUDES]->(tela)\\n\",\n",
       " \"\\nMERGE (p:Permissao {id: 1, nome: 'PermissaoA'})\\n\",\n",
       " '\\nMERGE (p:Permissao {id: 1})\\nMERGE (m:Menu {id: 1})\\nMERGE (p)-[:APPLIES_TO]->(m)\\n',\n",
       " \"\\nMERGE (r:Recurso {id: 1, nome: 'RecursoA'})\\n\",\n",
       " \"\\nMERGE (t:Tela {id: 1, nome: 'TelaA'})\\n\",\n",
       " \"\\nMERGE (u:Usuario {id: 101, nome: 'NomeDoUsuario', email: 'usuario@exemplo.com'})\\n\"]"
      ]
     },
     "execution_count": 6,
     "metadata": {},
     "output_type": "execute_result"
    }
   ],
   "source": [
    "# Criando as consultas Cypher para todas as tabelas baseadas nos arquivos SQL\n",
    "\n",
    "queries = []\n",
    "\n",
    "# ControleDeAcessoGrupo\n",
    "queries.append(\"\"\"\n",
    "MERGE (g:Grupo {id: 1, nome: 'NomeDoGrupo', descricao: 'DescricaoGrupo', tipo: 'TipoGrupo'})\n",
    "\"\"\")\n",
    "\n",
    "# ControleDeAcessoGrupoUsuario - Relaciona Grupos a Usuários\n",
    "queries.append(\"\"\"\n",
    "MERGE (g:Grupo {id: 1})\n",
    "MERGE (u:Usuario {id: 101, nome: 'NomeDoUsuario'})\n",
    "MERGE (g)-[:CONTAINS]->(u)\n",
    "\"\"\")\n",
    "\n",
    "# ControleDeAcessoMenu - Relaciona Menus e Submenus\n",
    "queries.append(\"\"\"\n",
    "MERGE (m:Menu {id: 1, nome: 'MenuPrincipal'})\n",
    "MERGE (sub:Menu {id: 2, nome: 'SubMenu'})\n",
    "MERGE (sub)-[:CHILD_OF]->(m)\n",
    "\"\"\")\n",
    "\n",
    "# ControleDeAcessoModulo e ControleDeAcessoModuloTela - Relaciona Módulos a Telas\n",
    "queries.append(\"\"\"\n",
    "MERGE (mod:Modulo {id: 1, nome: 'ModuloA'})\n",
    "MERGE (tela:Tela {id: 1, nome: 'TelaA'})\n",
    "MERGE (mod)-[:INCLUDES]->(tela)\n",
    "\"\"\")\n",
    "\n",
    "# ControleDeAcessoPermissao - Define permissões\n",
    "queries.append(\"\"\"\n",
    "MERGE (p:Permissao {id: 1, nome: 'PermissaoA'})\n",
    "\"\"\")\n",
    "\n",
    "# ControleDeAcessoPermissaoMenu - Relaciona Permissões com Menus\n",
    "queries.append(\"\"\"\n",
    "MERGE (p:Permissao {id: 1})\n",
    "MERGE (m:Menu {id: 1})\n",
    "MERGE (p)-[:APPLIES_TO]->(m)\n",
    "\"\"\")\n",
    "\n",
    "# ControleDeAcessoRecurso - Define Recursos\n",
    "queries.append(\"\"\"\n",
    "MERGE (r:Recurso {id: 1, nome: 'RecursoA'})\n",
    "\"\"\")\n",
    "\n",
    "# ControleDeAcessoTela - Define Telas\n",
    "queries.append(\"\"\"\n",
    "MERGE (t:Tela {id: 1, nome: 'TelaA'})\n",
    "\"\"\")\n",
    "\n",
    "# ControleDeAcessoUsuario - Define Usuários\n",
    "queries.append(\"\"\"\n",
    "MERGE (u:Usuario {id: 101, nome: 'NomeDoUsuario', email: 'usuario@exemplo.com'})\n",
    "\"\"\")\n",
    "\n",
    "queries"
   ]
  },
  {
   "cell_type": "code",
   "execution_count": 7,
   "metadata": {},
   "outputs": [],
   "source": [
    "# Executando as queries geradas no seu banco de dados Neo4j\n",
    "queries = [\n",
    "    \"\"\"\n",
    "    MERGE (g:Grupo {id: 1, nome: 'NomeDoGrupo', descricao: 'DescricaoGrupo', tipo: 'TipoGrupo'})\n",
    "    \"\"\",\n",
    "    \"\"\"\n",
    "    MERGE (g:Grupo {id: 1})\n",
    "    MERGE (u:Usuario {id: 101, nome: 'NomeDoUsuario'})\n",
    "    MERGE (g)-[:CONTAINS]->(u)\n",
    "    \"\"\",\n",
    "    \"\"\"\n",
    "    MERGE (m:Menu {id: 1, nome: 'MenuPrincipal'})\n",
    "    MERGE (sub:Menu {id: 2, nome: 'SubMenu'})\n",
    "    MERGE (sub)-[:CHILD_OF]->(m)\n",
    "    \"\"\",\n",
    "    \"\"\"\n",
    "    MERGE (mod:Modulo {id: 1, nome: 'ModuloA'})\n",
    "    MERGE (tela:Tela {id: 1, nome: 'TelaA'})\n",
    "    MERGE (mod)-[:INCLUDES]->(tela)\n",
    "    \"\"\",\n",
    "    \"\"\"\n",
    "    MERGE (p:Permissao {id: 1, nome: 'PermissaoA'})\n",
    "    \"\"\",\n",
    "    \"\"\"\n",
    "    MERGE (p:Permissao {id: 1})\n",
    "    MERGE (m:Menu {id: 1})\n",
    "    MERGE (p)-[:APPLIES_TO]->(m)\n",
    "    \"\"\",\n",
    "    \"\"\"\n",
    "    MERGE (r:Recurso {id: 1, nome: 'RecursoA'})\n",
    "    \"\"\",\n",
    "    \"\"\"\n",
    "    MERGE (t:Tela {id: 1, nome: 'TelaA'})\n",
    "    \"\"\",\n",
    "    \"\"\"\n",
    "    MERGE (u:Usuario {id: 101, nome: 'NomeDoUsuario', email: 'usuario@exemplo.com'})\n",
    "    \"\"\"\n",
    "]\n",
    "\n",
    "# Assumindo que você tenha um objeto `graph` já conectado ao seu banco de dados Neo4j\n",
    "for query in queries:\n",
    "    graph.query(query)"
   ]
  },
  {
   "cell_type": "code",
   "execution_count": 8,
   "metadata": {},
   "outputs": [],
   "source": [
    "# Consultas para deletar todos os nós e relacionamentos criados anteriormente\n",
    "delete_queries = [\n",
    "    \"\"\"\n",
    "    MATCH (g:Grupo {id: 1})\n",
    "    DETACH DELETE g\n",
    "    \"\"\",\n",
    "    \"\"\"\n",
    "    MATCH (u:Usuario {id: 101})\n",
    "    DETACH DELETE u\n",
    "    \"\"\",\n",
    "    \"\"\"\n",
    "    MATCH (m:Menu {id: 1})\n",
    "    DETACH DELETE m\n",
    "    \"\"\",\n",
    "    \"\"\"\n",
    "    MATCH (sub:Menu {id: 2})\n",
    "    DETACH DELETE sub\n",
    "    \"\"\",\n",
    "    \"\"\"\n",
    "    MATCH (mod:Modulo {id: 1})\n",
    "    DETACH DELETE mod\n",
    "    \"\"\",\n",
    "    \"\"\"\n",
    "    MATCH (tela:Tela {id: 1})\n",
    "    DETACH DELETE tela\n",
    "    \"\"\",\n",
    "    \"\"\"\n",
    "    MATCH (p:Permissao {id: 1})\n",
    "    DETACH DELETE p\n",
    "    \"\"\",\n",
    "    \"\"\"\n",
    "    MATCH (r:Recurso {id: 1})\n",
    "    DETACH DELETE r\n",
    "    \"\"\"\n",
    "]\n",
    "\n",
    "# Assumindo que você tenha um objeto `graph` já conectado ao seu banco de dados Neo4j\n",
    "for delete_query in delete_queries:\n",
    "    graph.query(delete_query)"
   ]
  },
  {
   "cell_type": "code",
   "execution_count": 9,
   "metadata": {},
   "outputs": [
    {
     "data": {
      "text/plain": [
       "[]"
      ]
     },
     "execution_count": 9,
     "metadata": {},
     "output_type": "execute_result"
    }
   ],
   "source": [
    "graph.query(\n",
    "    \"\"\"\n",
    "    MATCH (u:Usuario {id: 101})-[r1:BELONGS_TO]->(e:Empresa {id: 1})\n",
    "    MATCH (u)-[r2:HAS_TOKEN]->(t:Token {token: 'abc123token'})\n",
    "    DETACH DELETE r1, r2, u, e, t\n",
    "    \"\"\"\n",
    ")"
   ]
  }
 ],
 "metadata": {
  "kernelspec": {
   "display_name": "Python 3",
   "language": "python",
   "name": "python3"
  },
  "language_info": {
   "codemirror_mode": {
    "name": "ipython",
    "version": 3
   },
   "file_extension": ".py",
   "mimetype": "text/x-python",
   "name": "python",
   "nbconvert_exporter": "python",
   "pygments_lexer": "ipython3",
   "version": "3.12.4"
  }
 },
 "nbformat": 4,
 "nbformat_minor": 2
}
