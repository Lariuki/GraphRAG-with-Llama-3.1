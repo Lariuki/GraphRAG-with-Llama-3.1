{
 "cells": [
  {
   "cell_type": "code",
   "execution_count": null,
   "metadata": {},
   "outputs": [],
   "source": [
    "%pip install --upgrade --quiet  langchain langchain-community langchain-openai langchain-ollama langchain-experimental neo4j tiktoken yfiles_jupyter_graphs python-dotenv\n",
    "%pip install neo4j\n",
    "%pip install json-repair\n",
    "%pip install py2neo\n",
    "%pip install tree_sitter\n",
    "%pip install --upgrade langchain\n",
    "%pip install llama-index --upgrade\n",
    "%pip show llama-index\n",
    "%pip install yfiles-jupyter-graphs\n",
    "%pip install --upgrade yfiles-jupyter-graphs\n",
    "%pip install --upgrade jupyterlab ipywidgets\n",
    "%pip install jupyterlab\n",
    "%pip install sqlfluff"
   ]
  },
  {
   "cell_type": "code",
   "execution_count": 33,
   "metadata": {},
   "outputs": [
    {
     "name": "stdout",
     "output_type": "stream",
     "text": [
      "Requirement already satisfied: langgraph in /Library/Frameworks/Python.framework/Versions/3.12/lib/python3.12/site-packages (0.2.28)\n",
      "Requirement already satisfied: langchain-core<0.4,>=0.2.39 in /Library/Frameworks/Python.framework/Versions/3.12/lib/python3.12/site-packages (from langgraph) (0.3.6)\n",
      "Requirement already satisfied: langgraph-checkpoint<2.0.0,>=1.0.2 in /Library/Frameworks/Python.framework/Versions/3.12/lib/python3.12/site-packages (from langgraph) (1.0.12)\n",
      "Requirement already satisfied: PyYAML>=5.3 in /Library/Frameworks/Python.framework/Versions/3.12/lib/python3.12/site-packages (from langchain-core<0.4,>=0.2.39->langgraph) (6.0.2)\n",
      "Requirement already satisfied: jsonpatch<2.0,>=1.33 in /Library/Frameworks/Python.framework/Versions/3.12/lib/python3.12/site-packages (from langchain-core<0.4,>=0.2.39->langgraph) (1.33)\n",
      "Requirement already satisfied: langsmith<0.2.0,>=0.1.125 in /Library/Frameworks/Python.framework/Versions/3.12/lib/python3.12/site-packages (from langchain-core<0.4,>=0.2.39->langgraph) (0.1.129)\n",
      "Requirement already satisfied: packaging<25,>=23.2 in /Library/Frameworks/Python.framework/Versions/3.12/lib/python3.12/site-packages (from langchain-core<0.4,>=0.2.39->langgraph) (23.2)\n",
      "Requirement already satisfied: pydantic<3.0.0,>=2.7.4 in /Library/Frameworks/Python.framework/Versions/3.12/lib/python3.12/site-packages (from langchain-core<0.4,>=0.2.39->langgraph) (2.9.1)\n",
      "Requirement already satisfied: tenacity!=8.4.0,<9.0.0,>=8.1.0 in /Library/Frameworks/Python.framework/Versions/3.12/lib/python3.12/site-packages (from langchain-core<0.4,>=0.2.39->langgraph) (8.5.0)\n",
      "Requirement already satisfied: typing-extensions>=4.7 in /Library/Frameworks/Python.framework/Versions/3.12/lib/python3.12/site-packages (from langchain-core<0.4,>=0.2.39->langgraph) (4.12.2)\n",
      "Requirement already satisfied: msgpack<2.0.0,>=1.1.0 in /Library/Frameworks/Python.framework/Versions/3.12/lib/python3.12/site-packages (from langgraph-checkpoint<2.0.0,>=1.0.2->langgraph) (1.1.0)\n",
      "Requirement already satisfied: jsonpointer>=1.9 in /Library/Frameworks/Python.framework/Versions/3.12/lib/python3.12/site-packages (from jsonpatch<2.0,>=1.33->langchain-core<0.4,>=0.2.39->langgraph) (3.0.0)\n",
      "Requirement already satisfied: httpx<1,>=0.23.0 in /Library/Frameworks/Python.framework/Versions/3.12/lib/python3.12/site-packages (from langsmith<0.2.0,>=0.1.125->langchain-core<0.4,>=0.2.39->langgraph) (0.27.2)\n",
      "Requirement already satisfied: orjson<4.0.0,>=3.9.14 in /Library/Frameworks/Python.framework/Versions/3.12/lib/python3.12/site-packages (from langsmith<0.2.0,>=0.1.125->langchain-core<0.4,>=0.2.39->langgraph) (3.10.7)\n",
      "Requirement already satisfied: requests<3,>=2 in /Library/Frameworks/Python.framework/Versions/3.12/lib/python3.12/site-packages (from langsmith<0.2.0,>=0.1.125->langchain-core<0.4,>=0.2.39->langgraph) (2.32.3)\n",
      "Requirement already satisfied: annotated-types>=0.6.0 in /Library/Frameworks/Python.framework/Versions/3.12/lib/python3.12/site-packages (from pydantic<3.0.0,>=2.7.4->langchain-core<0.4,>=0.2.39->langgraph) (0.7.0)\n",
      "Requirement already satisfied: pydantic-core==2.23.3 in /Library/Frameworks/Python.framework/Versions/3.12/lib/python3.12/site-packages (from pydantic<3.0.0,>=2.7.4->langchain-core<0.4,>=0.2.39->langgraph) (2.23.3)\n",
      "Requirement already satisfied: anyio in /Library/Frameworks/Python.framework/Versions/3.12/lib/python3.12/site-packages (from httpx<1,>=0.23.0->langsmith<0.2.0,>=0.1.125->langchain-core<0.4,>=0.2.39->langgraph) (4.4.0)\n",
      "Requirement already satisfied: certifi in /Library/Frameworks/Python.framework/Versions/3.12/lib/python3.12/site-packages (from httpx<1,>=0.23.0->langsmith<0.2.0,>=0.1.125->langchain-core<0.4,>=0.2.39->langgraph) (2024.7.4)\n",
      "Requirement already satisfied: httpcore==1.* in /Library/Frameworks/Python.framework/Versions/3.12/lib/python3.12/site-packages (from httpx<1,>=0.23.0->langsmith<0.2.0,>=0.1.125->langchain-core<0.4,>=0.2.39->langgraph) (1.0.5)\n",
      "Requirement already satisfied: idna in /Library/Frameworks/Python.framework/Versions/3.12/lib/python3.12/site-packages (from httpx<1,>=0.23.0->langsmith<0.2.0,>=0.1.125->langchain-core<0.4,>=0.2.39->langgraph) (3.7)\n",
      "Requirement already satisfied: sniffio in /Library/Frameworks/Python.framework/Versions/3.12/lib/python3.12/site-packages (from httpx<1,>=0.23.0->langsmith<0.2.0,>=0.1.125->langchain-core<0.4,>=0.2.39->langgraph) (1.3.1)\n",
      "Requirement already satisfied: h11<0.15,>=0.13 in /Library/Frameworks/Python.framework/Versions/3.12/lib/python3.12/site-packages (from httpcore==1.*->httpx<1,>=0.23.0->langsmith<0.2.0,>=0.1.125->langchain-core<0.4,>=0.2.39->langgraph) (0.14.0)\n",
      "Requirement already satisfied: charset-normalizer<4,>=2 in /Library/Frameworks/Python.framework/Versions/3.12/lib/python3.12/site-packages (from requests<3,>=2->langsmith<0.2.0,>=0.1.125->langchain-core<0.4,>=0.2.39->langgraph) (3.3.2)\n",
      "Requirement already satisfied: urllib3<3,>=1.21.1 in /Library/Frameworks/Python.framework/Versions/3.12/lib/python3.12/site-packages (from requests<3,>=2->langsmith<0.2.0,>=0.1.125->langchain-core<0.4,>=0.2.39->langgraph) (2.2.2)\n",
      "Note: you may need to restart the kernel to use updated packages.\n"
     ]
    }
   ],
   "source": [
    "%pip install langgraph"
   ]
  },
  {
   "cell_type": "code",
   "execution_count": 13,
   "metadata": {},
   "outputs": [
    {
     "data": {
      "text/plain": [
       "True"
      ]
     },
     "execution_count": 13,
     "metadata": {},
     "output_type": "execute_result"
    }
   ],
   "source": [
    "from langchain_core.runnables import  RunnablePassthrough\n",
    "from langchain_core.prompts import ChatPromptTemplate\n",
    "from langchain_core.pydantic_v1 import BaseModel, Field\n",
    "from langchain_core.output_parsers import StrOutputParser\n",
    "import os\n",
    "from langchain_community.graphs import Neo4jGraph\n",
    "from langchain.text_splitter import RecursiveCharacterTextSplitter\n",
    "from langchain_openai import ChatOpenAI\n",
    "from langchain_community.chat_models import ChatOllama\n",
    "from langchain_experimental.graph_transformers import LLMGraphTransformer\n",
    "from neo4j import GraphDatabase\n",
    "from yfiles_jupyter_graphs import GraphWidget\n",
    "from langchain_community.vectorstores import Neo4jVector\n",
    "from langchain_openai import OpenAIEmbeddings\n",
    "from langchain_community.document_loaders import TextLoader\n",
    "from langchain_community.vectorstores.neo4j_vector import remove_lucene_chars\n",
    "import re\n",
    "from langchain_core.prompts import PromptTemplate\n",
    "from langchain.chains import LLMChain\n",
    "\n",
    "from dotenv import load_dotenv\n",
    "\n",
    "load_dotenv()"
   ]
  },
  {
   "cell_type": "code",
   "execution_count": 7,
   "metadata": {},
   "outputs": [],
   "source": [
    "uri = os.environ[\"NEO4J_URI\"] \n",
    "username = os.environ[\"NEO4J_USERNAME\"]\n",
    "password = os.environ[\"NEO4J_PASSWORD\"]\n",
    "api_url = os.getenv('API_URL')\n",
    "\n",
    "# Agora você pode criar o gráfico sem passar os parâmetros diretamente\n",
    "graph = Neo4jGraph()"
   ]
  },
  {
   "cell_type": "code",
   "execution_count": 8,
   "metadata": {},
   "outputs": [
    {
     "name": "stdout",
     "output_type": "stream",
     "text": [
      "Generated Cypher Query: MATCH (t:Table)-[:HAS_COLUMN]->(c:Column)\n",
      "WHERE toLower(t.id) CONTAINS 'usuario' OR toLower(c.id) CONTAINS 'usuario' OR toLower(c.id) CONTAINS 'ativo' OR toLower(c.id) CONTAINS 'sistema'\n",
      "RETURN t.id, c.id\n",
      "Cypher Query Output: [{'t.id': 'Controledeacessoapitokens', 'c.id': 'Id_Usuario'}, {'t.id': 'Controledeacessousuario', 'c.id': 'Redefinirsenha'}, {'t.id': 'Controledeacessousuario', 'c.id': 'Datadaultimaatualizacao'}, {'t.id': 'Controledeacessousuario', 'c.id': 'Databloqueiousuario'}, {'t.id': 'Controledeacessousuario', 'c.id': 'Email'}, {'t.id': 'Controledeacessousuario', 'c.id': 'Datadecriacao'}, {'t.id': 'Controledeacessousuario', 'c.id': 'Status'}, {'t.id': 'Controledeacessousuario', 'c.id': 'Tipo'}, {'t.id': 'Controledeacessousuario', 'c.id': 'Nomecompleto'}, {'t.id': 'Controledeacessousuario', 'c.id': 'Identificacao'}, {'t.id': 'Controledeacessousuario', 'c.id': 'Senha'}, {'t.id': 'Controledeacessousuario', 'c.id': 'Login'}, {'t.id': 'Controledeacessousuario', 'c.id': 'Id_Empresa'}, {'t.id': 'Controledeacessousuario', 'c.id': 'Id'}, {'t.id': 'Controledeacessogrupo', 'c.id': 'Ultimousuarioquealterou'}, {'t.id': 'Controledeacessomenu', 'c.id': 'Ultimousuarioquealterou'}, {'t.id': 'Controledeacessomenu', 'c.id': 'Aplicativo'}, {'t.id': 'Controledeacessomodulotela', 'c.id': 'Utimousuarioquealterou'}, {'t.id': 'Controledeacessotela', 'c.id': 'Utimousuarioquealterou'}, {'t.id': 'Controledeacessorecurso', 'c.id': 'Aplicativo'}, {'t.id': 'Controledeacessorecurso', 'c.id': 'Id_Usuario'}, {'t.id': 'Controledeacessopermissaomenu', 'c.id': 'Ativo'}, {'t.id': 'Controledeacessopermissaomenu', 'c.id': 'Id_Usuario'}, {'t.id': 'Controledeacessopermissaomenu', 'c.id': 'Ultimousuarioquealterou'}]\n"
     ]
    }
   ],
   "source": [
    "from langchain_openai import ChatOpenAI\n",
    "from neo4j import GraphDatabase\n",
    "\n",
    "# Função para executar a consulta Cypher no Neo4j\n",
    "def execute_cypher_query(query, uri, username, password):\n",
    "    driver = GraphDatabase.driver(uri, auth=(username, password))\n",
    "    with driver.session() as session:\n",
    "        result = session.run(query)\n",
    "        # Extrair os resultados da query\n",
    "        return [record.data() for record in result]\n",
    "\n",
    "# Definir o template para geração de Cypher\n",
    "CYPHER_GENERATION_TEMPLATE = \"\"\"Objetivo: Gerar uma instrução Cypher para consultar o banco de dados Neo4J que possui uma estrutura de grafos representando um Schema de Banco de dados SQL.\n",
    "Instruções:\n",
    "- Verifique o esquema do banco de dados SQL consultando o Neo4j para obter os nomes das tabelas (nós) e colunas (propriedades).\n",
    "- Converta qualquer termo no plural para o singular antes de gerar a query.\n",
    "- Construa uma query Cypher para obter todas as Tabelas e Colunas que relacionem com o Prompt do usuário.\n",
    "- Certifique-se de verificar os relacionamentos (chaves estrangeiras) no banco de dados gráfico.\n",
    "- **Não inclua explicações ou desculpas em suas respostas.**\n",
    "- **Nunca responda com \"Não sei a resposta\" ou frases similares.** Retorne apenas o resultado da query gerada ou uma lista vazia se não houver correspondências.\n",
    "----------\n",
    "Exemplo de Query Cypher para ser utilizado:\n",
    "MATCH (t:Table)-[:HAS_COLUMN]->(c:Column)\n",
    "WHERE t.id CONTAINS 'usuario' OR c.id CONTAINS 'usuario' OR c.id CONTAINS 'ativo' OR c.id CONTAINS 'sistema'\n",
    "RETURN t.id, c.id \n",
    "----------\n",
    "Relação do nome das tabelas existentes dentro do banco de dados Neo4j:\n",
    "Controledeacessoapitokens, \n",
    "Controledeacessousuario, \n",
    "Empresa, \n",
    "Controledeacessogrupo, \n",
    "Controledeacessogrupousuario, \n",
    "Controledeacessomenu, \n",
    "Controledeacessomodulotela, \n",
    "Controledeacessomodulo, \n",
    "Controledeacessotela, \n",
    "Controledeacessopermissao, \n",
    "Controledeacessorecurso, \n",
    "Controledeacessopermissaomenu, \n",
    "Usuario, \n",
    "Controledeacessousuariocliente\n",
    "----------\n",
    "Schema banco de dados:\n",
    "{schema}\n",
    "----------\n",
    "User prompt:\n",
    "{query}\n",
    "\"\"\"\n",
    "\n",
    "# Criar o template para o prompt de Cypher\n",
    "schema_data = graph.schema   \n",
    "query = \"Quantos usuário ativo existem no sistema?\"\n",
    "\n",
    "# Substituir as variáveis no template com o schema e query do usuário\n",
    "prompt = CYPHER_GENERATION_TEMPLATE.format(schema=schema_data, query=query)\n",
    "\n",
    "# Conectar ao modelo da OpenAI\n",
    "llm = ChatOpenAI(temperature=0)\n",
    "\n",
    "# Executar o LLM diretamente para gerar a consulta Cypher\n",
    "cypher_query = llm.predict(prompt)\n",
    "\n",
    "# Exibir a consulta Cypher gerada\n",
    "print(f\"Generated Cypher Query: {cypher_query}\")\n",
    "\n",
    "# Executar a consulta Cypher no Neo4j e obter os resultados\n",
    "output = execute_cypher_query(cypher_query, uri, username, password)\n",
    "\n",
    "# Exibir o resultado da execução da query Cypher\n",
    "print(f\"Cypher Query Output: {output}\")"
   ]
  },
  {
   "cell_type": "code",
   "execution_count": 14,
   "metadata": {},
   "outputs": [
    {
     "name": "stderr",
     "output_type": "stream",
     "text": [
      "/var/folders/gf/j9d8qz2x4cz15cmbk3g15kdm0000gn/T/ipykernel_45669/3663280512.py:32: LangChainDeprecationWarning: The class `LLMChain` was deprecated in LangChain 0.1.17 and will be removed in 1.0. Use :meth:`~RunnableSequence, e.g., `prompt | llm`` instead.\n",
      "  sql_chain = LLMChain(\n",
      "/var/folders/gf/j9d8qz2x4cz15cmbk3g15kdm0000gn/T/ipykernel_45669/3663280512.py:39: LangChainDeprecationWarning: The method `Chain.run` was deprecated in langchain 0.1.0 and will be removed in 1.0. Use :meth:`~invoke` instead.\n",
      "  sql_result = sql_chain.run({\n"
     ]
    },
    {
     "name": "stdout",
     "output_type": "stream",
     "text": [
      "\n",
      "\n",
      "\u001b[1m> Entering new LLMChain chain...\u001b[0m\n",
      "Prompt after formatting:\n",
      "\u001b[32;1m\u001b[1;3mObjetivo: Responda sempre com uma query SQL que reflita a pergunta solicitada, sem usar o caractere '*' na construção das queries.\n",
      "\n",
      "Contexto:\n",
      "- `t.id` representa o nome da tabela. Por exemplo, se `t.id` for 'Controledeacessousuario', isso significa que o nome da tabela é 'Controledeacessousuario'.\n",
      "- `c.id` representa o nome da coluna. Por exemplo, se `c.id` for 'Status', isso significa que a coluna que você deve usar na query SQL é 'Status'.\n",
      "\n",
      "Instruções:\n",
      "- Use somente o nome da tabela e o nome da coluna fornecidos no `Full Context` abaixo para construir a query SQL.\n",
      "- Se houver uma coluna `Status`, inclua uma condição `WHERE` que filtre usuários com o `Status = 'ativo'`.\n",
      "- Não permita retornos ou queries de 'SELECT *' de uma tabela.\n",
      "\n",
      "Full Context: [{'t.id': 'Controledeacessoapitokens', 'c.id': 'Id_Usuario'}, {'t.id': 'Controledeacessousuario', 'c.id': 'Redefinirsenha'}, {'t.id': 'Controledeacessousuario', 'c.id': 'Datadaultimaatualizacao'}, {'t.id': 'Controledeacessousuario', 'c.id': 'Databloqueiousuario'}, {'t.id': 'Controledeacessousuario', 'c.id': 'Email'}, {'t.id': 'Controledeacessousuario', 'c.id': 'Datadecriacao'}, {'t.id': 'Controledeacessousuario', 'c.id': 'Status'}, {'t.id': 'Controledeacessousuario', 'c.id': 'Tipo'}, {'t.id': 'Controledeacessousuario', 'c.id': 'Nomecompleto'}, {'t.id': 'Controledeacessousuario', 'c.id': 'Identificacao'}, {'t.id': 'Controledeacessousuario', 'c.id': 'Senha'}, {'t.id': 'Controledeacessousuario', 'c.id': 'Login'}, {'t.id': 'Controledeacessousuario', 'c.id': 'Id_Empresa'}, {'t.id': 'Controledeacessousuario', 'c.id': 'Id'}, {'t.id': 'Controledeacessogrupo', 'c.id': 'Ultimousuarioquealterou'}, {'t.id': 'Controledeacessomenu', 'c.id': 'Ultimousuarioquealterou'}, {'t.id': 'Controledeacessomenu', 'c.id': 'Aplicativo'}, {'t.id': 'Controledeacessomodulotela', 'c.id': 'Utimousuarioquealterou'}, {'t.id': 'Controledeacessotela', 'c.id': 'Utimousuarioquealterou'}, {'t.id': 'Controledeacessorecurso', 'c.id': 'Aplicativo'}, {'t.id': 'Controledeacessorecurso', 'c.id': 'Id_Usuario'}, {'t.id': 'Controledeacessopermissaomenu', 'c.id': 'Ativo'}, {'t.id': 'Controledeacessopermissaomenu', 'c.id': 'Id_Usuario'}, {'t.id': 'Controledeacessopermissaomenu', 'c.id': 'Ultimousuarioquealterou'}]\n",
      "----------\n",
      "User prompt:\n",
      "Quantos usuário ativo existem no sistema?\n",
      "\u001b[0m\n",
      "\n",
      "\u001b[1m> Finished chain.\u001b[0m\n",
      "SQL gerada: SELECT COUNT(*) \n",
      "FROM Controledeacessousuario \n",
      "WHERE Status = 'ativo';\n"
     ]
    }
   ],
   "source": [
    "# Definir o template para geração de SQL com uma condição de filtragem.\n",
    "# trocar por tabela e coluna, inserir o prompt da smart go. melhorar esse segundo prompt.\n",
    "# carregar os demais arquivos. indices ser keys, keys ser primer keys. colunas e tabelas ser nós. \n",
    "# trazer junto a coluna o titulo campo, propriedade do nó de coluna, podendo ser o tipo(type) dele.\n",
    "# forest key relaciona a coluna de outra tabela. deveria ser relação.   \n",
    "# mandar pro chatgpt para me ajudar a orientar sobre as create tables. \n",
    "\n",
    "# 2. a api rodar. substituir os metodos que a gente fez antes por esse. \n",
    "SQL_TEMPLATE = \"\"\"Objetivo: Responda sempre com uma query SQL que reflita a pergunta solicitada, sem usar o caractere '*' na construção das queries.\n",
    "\n",
    "Contexto:\n",
    "- `t.id` representa o nome da tabela. Por exemplo, se `t.id` for 'Controledeacessousuario', isso significa que o nome da tabela é 'Controledeacessousuario'.\n",
    "- `c.id` representa o nome da coluna. Por exemplo, se `c.id` for 'Status', isso significa que a coluna que você deve usar na query SQL é 'Status'.\n",
    "\n",
    "Instruções:\n",
    "- Use somente o nome da tabela e o nome da coluna fornecidos no `Full Context` abaixo para construir a query SQL.\n",
    "- Se houver uma coluna `Status`, inclua uma condição `WHERE` que filtre usuários com o `Status = 'ativo'`.\n",
    "- Não permita retornos ou queries de 'SELECT *' de uma tabela.\n",
    "\n",
    "Full Context: {result}\n",
    "----------\n",
    "User prompt:\n",
    "{query}\n",
    "\"\"\"\n",
    "\n",
    "# Criar o template para o prompt de SQL\n",
    "SQL_GENERATION_PROMPT = PromptTemplate(\n",
    "    input_variables=[\"result\", \"query\"], template=SQL_TEMPLATE\n",
    ")\n",
    "\n",
    "# Agora, use o Full Context para gerar uma query SQL correspondente\n",
    "sql_chain = LLMChain(\n",
    "    llm=llm,\n",
    "    prompt=SQL_GENERATION_PROMPT,\n",
    "    verbose=True\n",
    ")\n",
    "\n",
    "# Executar a cadeia para gerar a query SQL\n",
    "sql_result = sql_chain.run({\n",
    "    \"result\": output, \n",
    "    \"query\": query\n",
    "})\n",
    "\n",
    "# Imprimir a consulta SQL gerada\n",
    "print(f\"SQL gerada: {sql_result}\")"
   ]
  }
 ],
 "metadata": {
  "kernelspec": {
   "display_name": "Python 3",
   "language": "python",
   "name": "python3"
  },
  "language_info": {
   "codemirror_mode": {
    "name": "ipython",
    "version": 3
   },
   "file_extension": ".py",
   "mimetype": "text/x-python",
   "name": "python",
   "nbconvert_exporter": "python",
   "pygments_lexer": "ipython3",
   "version": "3.12.4"
  }
 },
 "nbformat": 4,
 "nbformat_minor": 2
}
