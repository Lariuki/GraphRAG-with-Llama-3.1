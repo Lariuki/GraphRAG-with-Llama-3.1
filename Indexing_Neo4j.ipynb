{
  "cells": [
    {
      "cell_type": "code",
      "execution_count": 1,
      "metadata": {
        "id": "5x3LkpUztHNU"
      },
      "outputs": [
        {
          "name": "stdout",
          "output_type": "stream",
          "text": [
            "Note: you may need to restart the kernel to use updated packages.\n"
          ]
        }
      ],
      "source": [
        "pip install --upgrade --quiet langchain langchain-community langchain-openai langchain-ollama langchain-experimental neo4j tiktoken yfiles_jupyter_graphs python-dotenv llama-index py2neo tree_sitter json-repair sqlfluff jupyterlab ipywidgets"
      ]
    },
    {
      "cell_type": "code",
      "execution_count": 2,
      "metadata": {
        "id": "jPIRSGz4tHNV"
      },
      "outputs": [
        {
          "name": "stderr",
          "output_type": "stream",
          "text": [
            "/Users/larissakemicloud.com/Library/Python/3.12/lib/python/site-packages/IPython/core/interactiveshell.py:3577: LangChainDeprecationWarning: As of langchain-core 0.3.0, LangChain uses pydantic v2 internally. The langchain_core.pydantic_v1 module was a compatibility shim for pydantic v1, and should no longer be used. Please update the code to import from Pydantic directly.\n",
            "\n",
            "For example, replace imports like: `from langchain_core.pydantic_v1 import BaseModel`\n",
            "with: `from pydantic import BaseModel`\n",
            "or the v1 compatibility namespace if you are working in a code base that has not been fully upgraded to pydantic 2 yet. \tfrom pydantic.v1 import BaseModel\n",
            "\n",
            "  exec(code_obj, self.user_global_ns, self.user_ns)\n"
          ]
        },
        {
          "data": {
            "text/plain": [
              "True"
            ]
          },
          "execution_count": 2,
          "metadata": {},
          "output_type": "execute_result"
        }
      ],
      "source": [
        "from langchain_core.runnables import  RunnablePassthrough\n",
        "from langchain_core.prompts import ChatPromptTemplate\n",
        "from langchain_core.pydantic_v1 import BaseModel, Field\n",
        "from langchain_core.output_parsers import StrOutputParser\n",
        "import os\n",
        "from langchain_community.graphs import Neo4jGraph\n",
        "from langchain.text_splitter import RecursiveCharacterTextSplitter\n",
        "from langchain_openai import ChatOpenAI\n",
        "from langchain_community.chat_models import ChatOllama\n",
        "from langchain_experimental.graph_transformers import LLMGraphTransformer\n",
        "from neo4j import GraphDatabase\n",
        "from yfiles_jupyter_graphs import GraphWidget\n",
        "from langchain_community.vectorstores import Neo4jVector\n",
        "from langchain_openai import OpenAIEmbeddings\n",
        "from langchain_community.document_loaders import TextLoader\n",
        "from langchain_community.vectorstores.neo4j_vector import remove_lucene_chars\n",
        "import re\n",
        "\n",
        "from dotenv import load_dotenv\n",
        "\n",
        "load_dotenv()\n"
      ]
    },
    {
      "cell_type": "code",
      "execution_count": 3,
      "metadata": {},
      "outputs": [],
      "source": [
        "os.environ[\"NEO4J_URI\"] \n",
        "os.environ[\"NEO4J_USERNAME\"]\n",
        "os.environ[\"NEO4J_PASSWORD\"]\n",
        "\n",
        "# Agora você pode criar o gráfico sem passar os parâmetros diretamente\n",
        "graph = Neo4jGraph()"
      ]
    },
    {
      "cell_type": "code",
      "execution_count": 4,
      "metadata": {
        "colab": {
          "base_uri": "https://localhost:8080/"
        },
        "id": "sGhtLTAStHNW",
        "outputId": "39f65561-6c6b-4370-a51f-1d8118591158"
      },
      "outputs": [
        {
          "name": "stdout",
          "output_type": "stream",
          "text": [
            "Total de documentos divididos: 20\n",
            "Chunk 1:\n",
            "﻿CREATE TABLE [dbo].[ControleDeAcessoApiTokens]([ID] INT IDENTITY(1,1)NOT NULL,[ID_Empresa] INT NOT NULL,[ID_Usuario] INT NOT NULL,[Token] VARCHAR(500)NOT NULL,[TokenExpiration] DATETIME NULL,[DataDaUltimaAlteracao] DATETIME NOT NULL,[UltimoUsuarioQueAlterou] INT NOT NULL,CONSTRAINT [PK_ControleDeAcessoApiTokens] PRIMARY KEY CLUSTERED([ID] ASC),CONSTRAINT [FK_ControleDeAcessoApiTokens_ControleDeAcessoUsuario] FOREIGN KEY([ID_Usuario])REFERENCES [dbo].[ControleDeAcessoUsuario]([ID]),CONSTRAINT\n",
            "\n",
            "Chunk 2:\n",
            "[FK_ControleDeAcessoApiTokens_Empresa] FOREIGN KEY([ID_Empresa])REFERENCES [dbo].[Empresa]([ID]),CONSTRAINT [CK_ControleDeAcessoApiTokens_Token] UNIQUE NONCLUSTERED([Token] ASC),CONSTRAINT [CK_ControleDeAcessoApiTokens_Usuario] UNIQUE NONCLUSTERED([ID_Empresa] ASC,[ID_Usuario] ASC));\n",
            "\n",
            "Chunk 3:\n",
            "﻿CREATE TABLE [dbo].[ControleDeAcessoGrupo]([ID] INT IDENTITY(1,1)NOT NULL,[ID_Empresa] INT NOT NULL,[Nome] NVARCHAR(250)NOT NULL,[Descricao] NVARCHAR(600)NULL,[Tipo] NVARCHAR(100)NOT NULL,[Bloqueado] BIT NOT NULL,[DataDaUltimaAlteracao] DATETIME NOT NULL,[UltimoUsuarioQueAlterou] INT NOT NULL,[DataDeDelecao] DATETIME NULL,CONSTRAINT [PK_ControleDeAcessoGrupo] PRIMARY KEY CLUSTERED([ID] ASC));\n",
            "\n"
          ]
        }
      ],
      "source": [
        "# Função para limpar o código SQL\n",
        "def clean_sql_code(sql_code):\n",
        "    # Remover comentários de linha (--) e de bloco (/* ... */)\n",
        "    sql_code = re.sub(r'(--[^\\n]*)', '', sql_code)  # Remove comentários de linha\n",
        "    sql_code = re.sub(r'(/\\*[\\s\\S]*?\\*/)', '', sql_code)  # Remove comentários de bloco\n",
        "    \n",
        "    # Remover espaços extras\n",
        "    sql_code = re.sub(r'\\s+', ' ', sql_code)  # Substitui múltiplos espaços por um único espaço\n",
        "    sql_code = re.sub(r'\\s*([,;()=<>])\\s*', r'\\1', sql_code)  # Remove espaços em torno de pontuação\n",
        "    \n",
        "    # Remover linhas vazias ou com espaços em branco\n",
        "    sql_code = \"\\n\".join([line for line in sql_code.splitlines() if line.strip()])\n",
        "    \n",
        "    return sql_code.strip()  # Remove espaços no início e no final\n",
        "\n",
        "# Lista de caminhos de arquivos\n",
        "file_paths = [\n",
        "    \"/Users/larissakemicloud.com/Documents/GitHub/GraphRAG-with-Llama-3.1/tables/ControleDeAcessoApiTokens.sql\",\n",
        "    \"/Users/larissakemicloud.com/Documents/GitHub/GraphRAG-with-Llama-3.1/tables/ControleDeAcessoGrupo.sql\",\n",
        "    \"/Users/larissakemicloud.com/Documents/GitHub/GraphRAG-with-Llama-3.1/tables/ControleDeAcessoGrupoUsuario.sql\",\n",
        "    \"/Users/larissakemicloud.com/Documents/GitHub/GraphRAG-with-Llama-3.1/tables/ControleDeAcessoMenu.sql\",\n",
        "    \"/Users/larissakemicloud.com/Documents/GitHub/GraphRAG-with-Llama-3.1/tables/ControleDeAcessoModuloTela.sql\",\n",
        "    \"/Users/larissakemicloud.com/Documents/GitHub/GraphRAG-with-Llama-3.1/tables/ControleDeAcessoPermissao.sql\",\n",
        "    \"/Users/larissakemicloud.com/Documents/GitHub/GraphRAG-with-Llama-3.1/tables/ControleDeAcessoPermissaoMenu.sql\",\n",
        "    \"/Users/larissakemicloud.com/Documents/GitHub/GraphRAG-with-Llama-3.1/tables/ControleDeAcessoRecurso.sql\",\n",
        "    \"/Users/larissakemicloud.com/Documents/GitHub/GraphRAG-with-Llama-3.1/tables/ControleDeAcessoTela.sql\",\n",
        "    \"/Users/larissakemicloud.com/Documents/GitHub/GraphRAG-with-Llama-3.1/tables/ControleDeAcessoUsuario.sql\",\n",
        "    \"/Users/larissakemicloud.com/Documents/GitHub/GraphRAG-with-Llama-3.1/tables/ControleDeAcessoUsuarioCliente.sql\"\n",
        "]\n",
        "\n",
        "# Carregar os documentos\n",
        "docs = []\n",
        "for file_path in file_paths:\n",
        "    loader = TextLoader(file_path, encoding=\"utf-8\")\n",
        "    docs.extend(loader.load())  # Adicionar documentos carregados à lista\n",
        "\n",
        "# Limpar o código SQL antes de dividir\n",
        "for doc in docs:\n",
        "    doc.page_content = clean_sql_code(doc.page_content)\n",
        "\n",
        "# Dividir os documentos em chunks\n",
        "text_splitter = RecursiveCharacterTextSplitter(chunk_size=500, chunk_overlap=24)\n",
        "documents = text_splitter.split_documents(documents=docs)\n",
        "\n",
        "# Verificar os documentos divididos\n",
        "print(f\"Total de documentos divididos: {len(documents)}\")\n",
        "\n",
        "# Exibir os primeiros chunks para verificar a limpeza\n",
        "for idx, chunk in enumerate(documents[:3]):  # Mostrar os primeiros 3 chunks\n",
        "    print(f\"Chunk {idx + 1}:\\n{chunk.page_content}\\n\")"
      ]
    },
    {
      "cell_type": "code",
      "execution_count": 8,
      "metadata": {},
      "outputs": [
        {
          "data": {
            "text/plain": [
              "Document(metadata={'source': '/Users/larissakemicloud.com/Documents/GitHub/GraphRAG-with-Llama-3.1/tables/ControleDeAcessoApiTokens.sql'}, page_content='\\ufeffCREATE TABLE [dbo].[ControleDeAcessoApiTokens]([ID] INT IDENTITY(1,1)NOT NULL,[ID_Empresa] INT NOT NULL,[ID_Usuario] INT NOT NULL,[Token] VARCHAR(500)NOT NULL,[TokenExpiration] DATETIME NULL,[DataDaUltimaAlteracao] DATETIME NOT NULL,[UltimoUsuarioQueAlterou] INT NOT NULL,CONSTRAINT [PK_ControleDeAcessoApiTokens] PRIMARY KEY CLUSTERED([ID] ASC),CONSTRAINT [FK_ControleDeAcessoApiTokens_ControleDeAcessoUsuario] FOREIGN KEY([ID_Usuario])REFERENCES [dbo].[ControleDeAcessoUsuario]([ID]),CONSTRAINT')"
            ]
          },
          "execution_count": 8,
          "metadata": {},
          "output_type": "execute_result"
        }
      ],
      "source": [
        "documents[0]"
      ]
    },
    {
      "cell_type": "code",
      "execution_count": null,
      "metadata": {},
      "outputs": [],
      "source": [
        "from langchain.schema import Document\n",
        "\n",
        "# Obter as chaves da API\n",
        "openai_api_key = os.getenv(\"OPENAI_API_KEY\")\n",
        "llama_api_key = os.getenv(\"LLAMA_API_KEY\")\n",
        "\n",
        "# Definir qual LLM será utilizado\n",
        "llm_type = os.getenv(\"LLM_TYPE\", \"openai\")  # Valor padrão \"openai\" se não estiver definido\n",
        "\n",
        "if llm_type == \"ollama\":\n",
        "    # Usar o modelo LLaMA/Ollama e passar a chave de API da LLaMA\n",
        "    llm = ChatOllama(model=\"llama3.1\", temperature=0, api_key=llama_api_key)\n",
        "else:\n",
        "    # Usar o modelo OpenAI e passar a chave de API da OpenAI\n",
        "    llm = ChatOpenAI(temperature=0, model=\"gpt-4o\", api_key=openai_api_key)\n",
        "\n",
        "# Criar o prompt especializado para SQL\n",
        "def generate_sql_prompt(sql_code):\n",
        "    return f\"\"\"\n",
        "    Você está analisando um código SQL. Sua tarefa é identificar as seguintes informações:\n",
        "    1. Tabelas (com nomes).\n",
        "    2. Colunas em cada tabela.\n",
        "    3. Chaves primárias e chaves estrangeiras.\n",
        "    4. Relacionamentos entre tabelas.\n",
        "\n",
        "    Aqui está o código SQL:\n",
        "    {sql_code}\n",
        "\n",
        "    Extraia essas informações de forma clara e concisa antes de transformá-las em um grafo.\n",
        "    \"\"\"\n",
        "\n",
        "# Função para processar e transformar cada documento SQL em grafo\n",
        "def process_sql_documents(documents, llm, llm_transformer):\n",
        "    graph_documents = []\n",
        "\n",
        "    for doc in documents:\n",
        "        # Gerar o prompt especializado para SQL\n",
        "        prompt = generate_sql_prompt(doc.page_content)\n",
        "        \n",
        "        # Montar a mensagem no formato correto para o LLM\n",
        "        messages = [\n",
        "            {\"role\": \"system\", \"content\": \"Você é um assistente especializado em SQL.\"},\n",
        "            {\"role\": \"user\", \"content\": prompt}\n",
        "        ]\n",
        "        \n",
        "        # Usar o LLM diretamente para interpretar o SQL e extrair as informações\n",
        "        extracted_info = llm(messages=messages)  # Passando a lista de mensagens\n",
        "        \n",
        "        # Acessar diretamente o conteúdo da resposta\n",
        "        extracted_content = extracted_info.content\n",
        "        \n",
        "        # Criar um objeto Document a partir do conteúdo extraído\n",
        "        document = Document(page_content=extracted_content)\n",
        "        \n",
        "        # Usar o LLMGraphTransformer para transformar em grafo\n",
        "        graph_doc = llm_transformer.convert_to_graph_documents([document])\n",
        "        graph_documents.extend(graph_doc)\n",
        "    \n",
        "    return graph_documents\n",
        "\n",
        "# Usar o LLMGraphTransformer\n",
        "llm_transformer = LLMGraphTransformer(llm=llm)\n",
        "\n",
        "# Converter documentos SQL para o formato de grafo, extraindo as informações importantes primeiro\n",
        "graph_documents = process_sql_documents(documents, llm, llm_transformer)\n",
        "\n",
        "# Verificar os primeiros documentos de grafo gerados\n",
        "for idx, graph_doc in enumerate(graph_documents[:3]):\n",
        "    print(f\"Grafo {idx + 1}: {graph_doc}\")"
      ]
    },
    {
      "cell_type": "code",
      "execution_count": 6,
      "metadata": {},
      "outputs": [
        {
          "name": "stdout",
          "output_type": "stream",
          "text": [
            "Grafo 1:\n",
            "Nodes: [Node(id='Controledeacessoapitokens', type='Table', properties={'name': 'ControleDeAcessoApiTokens'}), Node(id='Id', type='Column', properties={'name': 'ID', 'type': 'INT', 'restrictions': 'IDENTITY(1,1) NOT NULL', 'primary_key': 'true'}), Node(id='Id_Empresa', type='Column', properties={'name': 'ID_Empresa', 'type': 'INT', 'restrictions': 'NOT NULL'}), Node(id='Id_Usuario', type='Column', properties={'name': 'ID_Usuario', 'type': 'INT', 'restrictions': 'NOT NULL', 'foreign_key': 'ControleDeAcessoUsuario(ID)'}), Node(id='Token', type='Column', properties={'name': 'Token', 'type': 'VARCHAR(500)', 'restrictions': 'NOT NULL'}), Node(id='Tokenexpiration', type='Column', properties={'name': 'TokenExpiration', 'type': 'DATETIME', 'restrictions': 'NULL'}), Node(id='Datadaultimaalteracao', type='Column', properties={'name': 'DataDaUltimaAlteracao', 'type': 'DATETIME', 'restrictions': 'NOT NULL'}), Node(id='Ultimousuarioquealterou', type='Column', properties={'name': 'UltimoUsuarioQueAlterou', 'type': 'INT', 'restrictions': 'NOT NULL'})]\n",
            "Relationships: [Relationship(source=Node(id='Controledeacessoapitokens', type='Table', properties={}), target=Node(id='Id', type='Column', properties={}), type='HAS_COLUMN', properties={}), Relationship(source=Node(id='Controledeacessoapitokens', type='Table', properties={}), target=Node(id='Id_Empresa', type='Column', properties={}), type='HAS_COLUMN', properties={}), Relationship(source=Node(id='Controledeacessoapitokens', type='Table', properties={}), target=Node(id='Id_Usuario', type='Column', properties={}), type='HAS_COLUMN', properties={}), Relationship(source=Node(id='Controledeacessoapitokens', type='Table', properties={}), target=Node(id='Token', type='Column', properties={}), type='HAS_COLUMN', properties={}), Relationship(source=Node(id='Controledeacessoapitokens', type='Table', properties={}), target=Node(id='Tokenexpiration', type='Column', properties={}), type='HAS_COLUMN', properties={}), Relationship(source=Node(id='Controledeacessoapitokens', type='Table', properties={}), target=Node(id='Datadaultimaalteracao', type='Column', properties={}), type='HAS_COLUMN', properties={}), Relationship(source=Node(id='Controledeacessoapitokens', type='Table', properties={}), target=Node(id='Ultimousuarioquealterou', type='Column', properties={}), type='HAS_COLUMN', properties={}), Relationship(source=Node(id='Id', type='Column', properties={}), target=Node(id='Controledeacessoapitokens', type='Table', properties={}), type='PRIMARY_KEY', properties={}), Relationship(source=Node(id='Id_Usuario', type='Column', properties={}), target=Node(id='Controledeacessousuario(Id)', type='Table', properties={}), type='FOREIGN_KEY', properties={})]\n",
            "Grafo 2:\n",
            "Nodes: [Node(id='Controledeacessoapitokens', type='Table', properties={'name': 'ControleDeAcessoApiTokens'}), Node(id='Empresa', type='Table', properties={'name': 'Empresa'}), Node(id='Id_Empresa', type='Column', properties={'name': 'ID_Empresa', 'foreign_key': 'true'}), Node(id='Token', type='Column', properties={'name': 'Token', 'unique': 'true'}), Node(id='Id_Usuario', type='Column', properties={'name': 'ID_Usuario', 'unique': 'true'})]\n",
            "Relationships: [Relationship(source=Node(id='Controledeacessoapitokens', type='Table', properties={}), target=Node(id='Id_Empresa', type='Column', properties={}), type='HAS_COLUMN', properties={}), Relationship(source=Node(id='Controledeacessoapitokens', type='Table', properties={}), target=Node(id='Token', type='Column', properties={}), type='HAS_COLUMN', properties={}), Relationship(source=Node(id='Controledeacessoapitokens', type='Table', properties={}), target=Node(id='Id_Usuario', type='Column', properties={}), type='HAS_COLUMN', properties={}), Relationship(source=Node(id='Empresa', type='Table', properties={}), target=Node(id='Id_Empresa', type='Column', properties={}), type='HAS_COLUMN', properties={}), Relationship(source=Node(id='Id_Empresa', type='Column', properties={}), target=Node(id='Empresa', type='Table', properties={}), type='FOREIGN_KEY', properties={})]\n",
            "Grafo 3:\n",
            "Nodes: [Node(id='Controledeacessogrupo', type='Table', properties={'name': 'ControleDeAcessoGrupo'}), Node(id='Id', type='Column', properties={'name': 'ID', 'type': 'INT', 'restrictions': 'IDENTITY(1,1) NOT NULL', 'primary_key': 'true'}), Node(id='Id_Empresa', type='Column', properties={'name': 'ID_Empresa', 'type': 'INT', 'restrictions': 'NOT NULL'}), Node(id='Nome', type='Column', properties={'name': 'Nome', 'type': 'NVARCHAR(250)', 'restrictions': 'NOT NULL'}), Node(id='Descricao', type='Column', properties={'name': 'Descricao', 'type': 'NVARCHAR(600)', 'restrictions': 'NULL'}), Node(id='Tipo', type='Column', properties={'name': 'Tipo', 'type': 'NVARCHAR(100)', 'restrictions': 'NOT NULL'}), Node(id='Bloqueado', type='Column', properties={'name': 'Bloqueado', 'type': 'BIT', 'restrictions': 'NOT NULL'}), Node(id='Datadaultimaalteracao', type='Column', properties={'name': 'DataDaUltimaAlteracao', 'type': 'DATETIME', 'restrictions': 'NOT NULL'}), Node(id='Ultimousuarioquealterou', type='Column', properties={'name': 'UltimoUsuarioQueAlterou', 'type': 'INT', 'restrictions': 'NOT NULL'}), Node(id='Datadedelecao', type='Column', properties={'name': 'DataDeDelecao', 'type': 'DATETIME', 'restrictions': 'NULL'})]\n",
            "Relationships: [Relationship(source=Node(id='Controledeacessogrupo', type='Table', properties={}), target=Node(id='Id', type='Column', properties={}), type='HAS_COLUMN', properties={}), Relationship(source=Node(id='Controledeacessogrupo', type='Table', properties={}), target=Node(id='Id_Empresa', type='Column', properties={}), type='HAS_COLUMN', properties={}), Relationship(source=Node(id='Controledeacessogrupo', type='Table', properties={}), target=Node(id='Nome', type='Column', properties={}), type='HAS_COLUMN', properties={}), Relationship(source=Node(id='Controledeacessogrupo', type='Table', properties={}), target=Node(id='Descricao', type='Column', properties={}), type='HAS_COLUMN', properties={}), Relationship(source=Node(id='Controledeacessogrupo', type='Table', properties={}), target=Node(id='Tipo', type='Column', properties={}), type='HAS_COLUMN', properties={}), Relationship(source=Node(id='Controledeacessogrupo', type='Table', properties={}), target=Node(id='Bloqueado', type='Column', properties={}), type='HAS_COLUMN', properties={}), Relationship(source=Node(id='Controledeacessogrupo', type='Table', properties={}), target=Node(id='Datadaultimaalteracao', type='Column', properties={}), type='HAS_COLUMN', properties={}), Relationship(source=Node(id='Controledeacessogrupo', type='Table', properties={}), target=Node(id='Ultimousuarioquealterou', type='Column', properties={}), type='HAS_COLUMN', properties={}), Relationship(source=Node(id='Controledeacessogrupo', type='Table', properties={}), target=Node(id='Datadedelecao', type='Column', properties={}), type='HAS_COLUMN', properties={}), Relationship(source=Node(id='Controledeacessogrupo', type='Table', properties={}), target=Node(id='Id', type='Column', properties={}), type='PRIMARY_KEY', properties={})]\n"
          ]
        }
      ],
      "source": [
        "# Obter as chaves da API\n",
        "openai_api_key = os.getenv(\"OPENAI_API_KEY\")\n",
        "llama_api_key = os.getenv(\"LLAMA_API_KEY\")\n",
        "\n",
        "# Definir qual LLM será utilizado\n",
        "llm_type = os.getenv(\"LLM_TYPE\", \"openai\")  # Valor padrão \"openai\" se não estiver definido\n",
        "\n",
        "if llm_type == \"ollama\":\n",
        "    # Usar o modelo LLaMA/Ollama e passar a chave de API da LLaMA\n",
        "    llm = ChatOllama(model=\"llama3.1\", temperature=0, api_key=llama_api_key)\n",
        "else:\n",
        "    # Usar o modelo OpenAI e passar a chave de API da OpenAI\n",
        "    llm = ChatOpenAI(temperature=0, model=\"gpt-4o\", api_key=openai_api_key)\n",
        "\n",
        "# Criar o LLMGraphTransformer para extração de propriedades, nós e relacionamentos\n",
        "llm_transformer_props = LLMGraphTransformer(\n",
        "    llm=llm,\n",
        "    # Definir tipos de nós permitidos, ajustados para extração de colunas e tabelas SQL\n",
        "    allowed_nodes=[\"Table\", \"Column\"],\n",
        "    # Definir tipos de relacionamentos permitidos\n",
        "    allowed_relationships=[\"HAS_COLUMN\", \"PRIMARY_KEY\", \"FOREIGN_KEY\"],\n",
        "    # Definir as propriedades que queremos extrair dos nós\n",
        "    node_properties=[\"name\", \"type\", \"restrictions\", \"primary_key\", \"foreign_key\", \"unique\"]\n",
        ")\n",
        "\n",
        "# Converter documentos SQL para o formato de grafo\n",
        "graph_documents_props = llm_transformer_props.convert_to_graph_documents(documents)\n",
        "\n",
        "# Verificar os primeiros nós e relacionamentos gerados\n",
        "for idx, graph_doc in enumerate(graph_documents_props[:3]):\n",
        "    print(f\"Grafo {idx + 1}:\")\n",
        "    print(f\"Nodes: {graph_doc.nodes}\")\n",
        "    print(f\"Relationships: {graph_doc.relationships}\")"
      ]
    },
    {
      "cell_type": "code",
      "execution_count": 8,
      "metadata": {},
      "outputs": [
        {
          "data": {
            "text/plain": [
              "GraphDocument(nodes=[Node(id='Controledeacessoapitokens', type='Table', properties={'name': 'ControleDeAcessoApiTokens'}), Node(id='Id', type='Column', properties={'name': 'ID', 'type': 'INT', 'restrictions': 'IDENTITY(1,1) NOT NULL', 'primary_key': 'true'}), Node(id='Id_Empresa', type='Column', properties={'name': 'ID_Empresa', 'type': 'INT', 'restrictions': 'NOT NULL'}), Node(id='Id_Usuario', type='Column', properties={'name': 'ID_Usuario', 'type': 'INT', 'restrictions': 'NOT NULL', 'foreign_key': 'ControleDeAcessoUsuario(ID)'}), Node(id='Token', type='Column', properties={'name': 'Token', 'type': 'VARCHAR(500)', 'restrictions': 'NOT NULL'}), Node(id='Tokenexpiration', type='Column', properties={'name': 'TokenExpiration', 'type': 'DATETIME', 'restrictions': 'NULL'}), Node(id='Datadaultimaalteracao', type='Column', properties={'name': 'DataDaUltimaAlteracao', 'type': 'DATETIME', 'restrictions': 'NOT NULL'}), Node(id='Ultimousuarioquealterou', type='Column', properties={'name': 'UltimoUsuarioQueAlterou', 'type': 'INT', 'restrictions': 'NOT NULL'})], relationships=[Relationship(source=Node(id='Controledeacessoapitokens', type='Table', properties={}), target=Node(id='Id', type='Column', properties={}), type='HAS_COLUMN', properties={}), Relationship(source=Node(id='Controledeacessoapitokens', type='Table', properties={}), target=Node(id='Id_Empresa', type='Column', properties={}), type='HAS_COLUMN', properties={}), Relationship(source=Node(id='Controledeacessoapitokens', type='Table', properties={}), target=Node(id='Id_Usuario', type='Column', properties={}), type='HAS_COLUMN', properties={}), Relationship(source=Node(id='Controledeacessoapitokens', type='Table', properties={}), target=Node(id='Token', type='Column', properties={}), type='HAS_COLUMN', properties={}), Relationship(source=Node(id='Controledeacessoapitokens', type='Table', properties={}), target=Node(id='Tokenexpiration', type='Column', properties={}), type='HAS_COLUMN', properties={}), Relationship(source=Node(id='Controledeacessoapitokens', type='Table', properties={}), target=Node(id='Datadaultimaalteracao', type='Column', properties={}), type='HAS_COLUMN', properties={}), Relationship(source=Node(id='Controledeacessoapitokens', type='Table', properties={}), target=Node(id='Ultimousuarioquealterou', type='Column', properties={}), type='HAS_COLUMN', properties={}), Relationship(source=Node(id='Id', type='Column', properties={}), target=Node(id='Controledeacessoapitokens', type='Table', properties={}), type='PRIMARY_KEY', properties={}), Relationship(source=Node(id='Id_Usuario', type='Column', properties={}), target=Node(id='Controledeacessousuario(Id)', type='Table', properties={}), type='FOREIGN_KEY', properties={})], source=Document(metadata={'source': '/Users/larissakemicloud.com/Documents/GitHub/GraphRAG-with-Llama-3.1/tables/ControleDeAcessoApiTokens.sql'}, page_content='\\ufeffCREATE TABLE [dbo].[ControleDeAcessoApiTokens]([ID] INT IDENTITY(1,1)NOT NULL,[ID_Empresa] INT NOT NULL,[ID_Usuario] INT NOT NULL,[Token] VARCHAR(500)NOT NULL,[TokenExpiration] DATETIME NULL,[DataDaUltimaAlteracao] DATETIME NOT NULL,[UltimoUsuarioQueAlterou] INT NOT NULL,CONSTRAINT [PK_ControleDeAcessoApiTokens] PRIMARY KEY CLUSTERED([ID] ASC),CONSTRAINT [FK_ControleDeAcessoApiTokens_ControleDeAcessoUsuario] FOREIGN KEY([ID_Usuario])REFERENCES [dbo].[ControleDeAcessoUsuario]([ID]),CONSTRAINT'))"
            ]
          },
          "execution_count": 8,
          "metadata": {},
          "output_type": "execute_result"
        }
      ],
      "source": [
        "graph_documents_props[0]"
      ]
    },
    {
      "cell_type": "code",
      "execution_count": 10,
      "metadata": {},
      "outputs": [],
      "source": [
        "graph.add_graph_documents(\n",
        "    graph_documents_props,\n",
        "    baseEntityLabel=True,\n",
        "    include_source=True\n",
        ")"
      ]
    },
    {
      "cell_type": "code",
      "execution_count": 11,
      "metadata": {
        "colab": {
          "base_uri": "https://localhost:8080/",
          "height": 817,
          "referenced_widgets": [
            "8e37edd9789a4d57a7be401628e7ff7f",
            "9bac7003afd84cecb4e67a81a396ec8d"
          ]
        },
        "id": "RMZlhtDmtHNW",
        "outputId": "86efa842-3297-45d6-dab2-681bbc836b4d"
      },
      "outputs": [
        {
          "data": {
            "application/vnd.jupyter.widget-view+json": {
              "model_id": "d17713ea94b9465f9dc74f5d7cd9ae05",
              "version_major": 2,
              "version_minor": 0
            },
            "text/plain": [
              "GraphWidget(layout=Layout(height='800px', width='100%'))"
            ]
          },
          "metadata": {},
          "output_type": "display_data"
        }
      ],
      "source": [
        "def showGraph():\n",
        "    driver = GraphDatabase.driver(\n",
        "        uri = os.environ[\"NEO4J_URI\"],\n",
        "        auth = (os.environ[\"NEO4J_USERNAME\"],\n",
        "                os.environ[\"NEO4J_PASSWORD\"]))\n",
        "    \n",
        "    session = driver.session()\n",
        "    widget = GraphWidget(graph=session.run(\"MATCH (s)-[r:MENTIONS]->(t) RETURN s,r,t\").graph())\n",
        "    widget.node_label_mapping = 'id'\n",
        "    return widget\n",
        "\n",
        "showGraph()"
      ]
    },
    {
      "cell_type": "code",
      "execution_count": 12,
      "metadata": {},
      "outputs": [
        {
          "data": {
            "text/plain": [
              "[{'id': 3,\n",
              "  'name': 'constraint_907a464e',\n",
              "  'state': 'ONLINE',\n",
              "  'populationPercent': 100.0,\n",
              "  'type': 'RANGE',\n",
              "  'entityType': 'NODE',\n",
              "  'labelsOrTypes': ['__Entity__'],\n",
              "  'properties': ['id'],\n",
              "  'indexProvider': 'range-1.0',\n",
              "  'owningConstraint': 'constraint_907a464e',\n",
              "  'lastRead': neo4j.time.DateTime(2024, 10, 4, 15, 8, 11, 516000000, tzinfo=<UTC>),\n",
              "  'readCount': 2979},\n",
              " {'id': 1,\n",
              "  'name': 'index_343aff4e',\n",
              "  'state': 'ONLINE',\n",
              "  'populationPercent': 100.0,\n",
              "  'type': 'LOOKUP',\n",
              "  'entityType': 'NODE',\n",
              "  'labelsOrTypes': None,\n",
              "  'properties': None,\n",
              "  'indexProvider': 'token-lookup-1.0',\n",
              "  'owningConstraint': None,\n",
              "  'lastRead': neo4j.time.DateTime(2024, 10, 4, 16, 36, 8, 160000000, tzinfo=<UTC>),\n",
              "  'readCount': 2394},\n",
              " {'id': 2,\n",
              "  'name': 'index_f7700477',\n",
              "  'state': 'ONLINE',\n",
              "  'populationPercent': 100.0,\n",
              "  'type': 'LOOKUP',\n",
              "  'entityType': 'RELATIONSHIP',\n",
              "  'labelsOrTypes': None,\n",
              "  'properties': None,\n",
              "  'indexProvider': 'token-lookup-1.0',\n",
              "  'owningConstraint': None,\n",
              "  'lastRead': neo4j.time.DateTime(2024, 10, 4, 16, 37, 38, 503000000, tzinfo=<UTC>),\n",
              "  'readCount': 52},\n",
              " {'id': 6,\n",
              "  'name': 'keyword',\n",
              "  'state': 'ONLINE',\n",
              "  'populationPercent': 100.0,\n",
              "  'type': 'FULLTEXT',\n",
              "  'entityType': 'NODE',\n",
              "  'labelsOrTypes': ['Document'],\n",
              "  'properties': ['text'],\n",
              "  'indexProvider': 'fulltext-1.0',\n",
              "  'owningConstraint': None,\n",
              "  'lastRead': None,\n",
              "  'readCount': 0},\n",
              " {'id': 5,\n",
              "  'name': 'vector',\n",
              "  'state': 'ONLINE',\n",
              "  'populationPercent': 100.0,\n",
              "  'type': 'VECTOR',\n",
              "  'entityType': 'NODE',\n",
              "  'labelsOrTypes': ['Document'],\n",
              "  'properties': ['embedding'],\n",
              "  'indexProvider': 'vector-2.0',\n",
              "  'owningConstraint': None,\n",
              "  'lastRead': None,\n",
              "  'readCount': 0}]"
            ]
          },
          "execution_count": 12,
          "metadata": {},
          "output_type": "execute_result"
        }
      ],
      "source": [
        "graph.query(\"SHOW INDEXES\")"
      ]
    },
    {
      "cell_type": "code",
      "execution_count": 13,
      "metadata": {
        "id": "GHbJPMfDtHNW"
      },
      "outputs": [],
      "source": [
        "# Cria uma vectorstore\n",
        "vector_index = Neo4jVector.from_existing_graph(\n",
        "    OpenAIEmbeddings(),\n",
        "    search_type=\"hybrid\",\n",
        "    node_label=\"Document\",\n",
        "    text_node_properties=[\"text\"],\n",
        "    embedding_node_property=\"embedding\"\n",
        ")\n",
        "vector_retriever = vector_index.as_retriever()"
      ]
    },
    {
      "cell_type": "code",
      "execution_count": 14,
      "metadata": {},
      "outputs": [
        {
          "name": "stdout",
          "output_type": "stream",
          "text": [
            "Node properties:\n",
            "Document {id: STRING, text: STRING, embedding: LIST}\n",
            "Column {id: STRING}\n",
            "Table {id: STRING}\n",
            "Primary_key {id: STRING}\n",
            "Foreign_key {id: STRING}\n",
            "Relationship properties:\n",
            "\n",
            "The relationships:\n",
            "(:Document)-[:MENTIONS]->(:Table)\n",
            "(:Document)-[:MENTIONS]->(:Column)\n",
            "(:Document)-[:MENTIONS]->(:Foreign_key)\n",
            "(:Document)-[:MENTIONS]->(:Primary_key)\n",
            "(:Column)-[:PRIMARY_KEY]->(:Table)\n",
            "(:Column)-[:REFERENCES]->(:Table)\n",
            "(:Column)-[:REFERENCES]->(:Column)\n",
            "(:Column)-[:FOREIGN_KEY]->(:Column)\n",
            "(:Table)-[:HAS_COLUMN]->(:Column)\n",
            "(:Table)-[:FOREIGN_KEY]->(:Table)\n",
            "(:Table)-[:FOREIGN_KEY]->(:Column)\n",
            "(:Table)-[:REFERENCES]->(:Table)\n",
            "(:Table)-[:PRIMARY_KEY]->(:Column)\n",
            "(:Table)-[:HAS_PRIMARY_KEY]->(:Primary_key)\n",
            "(:Table)-[:HAS_FOREIGN_KEY]->(:Foreign_key)\n",
            "(:Foreign_key)-[:REFERENCES]->(:Table)\n"
          ]
        }
      ],
      "source": [
        "schema_data = print(graph.schema)"
      ]
    },
    {
      "cell_type": "code",
      "execution_count": 15,
      "metadata": {},
      "outputs": [],
      "source": [
        "name_tables = graph.query(\"MATCH (t:Table) RETURN t.id\")"
      ]
    },
    {
      "cell_type": "code",
      "execution_count": 20,
      "metadata": {},
      "outputs": [
        {
          "name": "stdout",
          "output_type": "stream",
          "text": [
            "\n",
            "\n",
            "\u001b[1m> Entering new GraphCypherQAChain chain...\u001b[0m\n",
            "Generated Cypher:\n",
            "\u001b[32;1m\u001b[1;3mMATCH (t:Table)-[:HAS_COLUMN]->(c:Column)\n",
            "WHERE t.id CONTAINS 'Controledeacessousuario' OR t.id CONTAINS 'Usuario' OR t.id CONTAINS 'Controledeacessousuariocliente'\n",
            "RETURN t.id, c.id\u001b[0m\n",
            "Full Context:\n",
            "\u001b[32;1m\u001b[1;3m[{'t.id': 'Controledeacessousuario', 'c.id': 'Redefinirsenha'}, {'t.id': 'Controledeacessousuario', 'c.id': 'Datadaultimaatualizacao'}, {'t.id': 'Controledeacessousuario', 'c.id': 'Databloqueiousuario'}, {'t.id': 'Controledeacessousuario', 'c.id': 'Email'}, {'t.id': 'Controledeacessousuario', 'c.id': 'Datadecriacao'}, {'t.id': 'Controledeacessousuario', 'c.id': 'Status'}, {'t.id': 'Controledeacessousuario', 'c.id': 'Tipo'}, {'t.id': 'Controledeacessousuario', 'c.id': 'Nomecompleto'}, {'t.id': 'Controledeacessousuario', 'c.id': 'Identificacao'}, {'t.id': 'Controledeacessousuario', 'c.id': 'Senha'}]\u001b[0m\n",
            "\n",
            "\u001b[1m> Finished chain.\u001b[0m\n",
            "Cypher gerada: Eu não sei a resposta.\n"
          ]
        }
      ],
      "source": [
        "# Perguntas básicas sobre o Graph\n",
        "from langchain.chains import GraphCypherQAChain\n",
        "from langchain_community.graphs import Neo4jGraph\n",
        "from langchain_openai import ChatOpenAI\n",
        "from langchain_core.prompts import PromptTemplate\n",
        "\n",
        "# Definir o template para geração de Cypher\n",
        "CYPHER_GENERATION_TEMPLATE = \"\"\"Objetivo: Gerar uma instrução Cypher para consultar o banco de dados Neo4J que possui uma estrutura de grafos representando um Schema de Banco de dados SQL.\n",
        "Instruções:\n",
        "- Verifique o esquema do banco de dados SQL consultando o Neo4j para obter os nomes das tabelas e colunas.\n",
        "- Construa uma query Cypher para obter todas as Tabelas e Colunas que relacionem com o Prompt do usário.\n",
        "- Certifique-se de verificar os relacionamentos (chaves estrangeiras) no banco de dados gráfico.\n",
        "- Não inclua explicações ou desculpas em suas respostas. Apenas forneça a query SQL gerada.\n",
        "- Não responda a perguntas que solicitem qualquer coisa além da construção de uma instrução Cypher.\n",
        "- Não inclua nenhum texto além da instrução Cypher gerada.\n",
        "----------\n",
        "Task: Com base no prompt de usuário abaixo faça os seguintes passos:\n",
        "1. Extraia metadados/termos do prompt do usuário que sejam importantes ou contenham possíveis nomes de entidades e colunas.\n",
        "2. Busque na Relação de tabelas existentes no banco tabelas que possam satisfazer a query do usuário e utilize elas para formatar os termos utilizados na busca Cypher.\n",
        "3. Gere uma query Chyper que consulte todas as tabelas ou colunas com esses nomes.\n",
        "4. Considre consultas relativas (LIKE) em cima dos termos buscados.\n",
        "----------\n",
        "Exemplo de Query Cypher para ser utilizado:\n",
        " \n",
        "MATCH (t:Table)-[:HAS_COLUMN]->(c:Column)\n",
        "WHERE t.id CONTAINS 'Controledeacessorecurso' OR (c.id CONTAINS 'Id_Empresa')\n",
        "RETURN t.id, c.id\n",
        "----------\n",
        "Relação do nome das tabelas existentes dentro do banco de dados Neo4j:\n",
        "Controledeacessoapitokens\n",
        "Controledeacessousuario\n",
        "Empresa\n",
        "Controledeacessogrupo\n",
        "Controledeacessogrupousuario\n",
        "Controledeacessomenu\n",
        "Controledeacessomodulotela\n",
        "Controledeacessomodulo\n",
        "Controledeacessotela\n",
        "Controledeacessopermissao\n",
        "Controledeacessorecurso\n",
        "Controledeacessopermissaomenu\n",
        "Usuario\n",
        "Controledeacessousuariocliente\n",
        " \n",
        "----------\n",
        "User prompt:\n",
        "{query}\n",
        "\n",
        "Schema banco de dados:\n",
        "{schema}\n",
        "\"\"\"\n",
        "\n",
        "# Criar o template para o prompt\n",
        "CYPHER_GENERATION_PROMPT = PromptTemplate(\n",
        "    input_variables=[\"schema\", \"query\"], template=CYPHER_GENERATION_TEMPLATE\n",
        ")\n",
        "\n",
        "# Conectar ao modelo da OpenAI\n",
        "llm = ChatOpenAI(temperature=0)\n",
        "\n",
        "# Conectar ao Neo4j e criar o chain\n",
        "chain = GraphCypherQAChain.from_llm(\n",
        "    llm,\n",
        "    graph=graph,  # Passa a conexão ao banco de dados Neo4j\n",
        "    verbose=True,\n",
        "    cypher_prompt=CYPHER_GENERATION_PROMPT,\n",
        "    allow_dangerous_requests=True,  # Permitir consultas perigosas\n",
        ")\n",
        "\n",
        "# Obter o esquema do banco de dados Neo4j automaticamente\n",
        "schema_data = graph.schema  \n",
        "\n",
        "# Definir a query\n",
        "query = \"Quais sao os usuarios ativos do sistema?\"\n",
        "\n",
        "# Executar a cadeia para gerar a consulta Cypher a partir do schema e da query\n",
        "result = chain.run({\"schema\": schema_data, \"query\": query})\n",
        "\n",
        "# Imprimir a consulta Cypher gerada\n",
        "print(f\"Cypher gerada: {result}\")"
      ]
    }
  ],
  "metadata": {
    "colab": {
      "include_colab_link": true,
      "provenance": []
    },
    "kernelspec": {
      "display_name": "Python 3 (ipykernel)",
      "language": "python",
      "name": "python3"
    },
    "language_info": {
      "codemirror_mode": {
        "name": "ipython",
        "version": 3
      },
      "file_extension": ".py",
      "mimetype": "text/x-python",
      "name": "python",
      "nbconvert_exporter": "python",
      "pygments_lexer": "ipython3",
      "version": "3.12.4"
    },
    "widgets": {
      "application/vnd.jupyter.widget-state+json": {
        "8e37edd9789a4d57a7be401628e7ff7f": {
          "model_module": "yfiles-jupyter-graphs",
          "model_module_version": "^1.6.1",
          "model_name": "GraphModel",
          "state": {
            "_context_pane_mapping": [
              {
                "id": "Neighborhood",
                "title": "Neighborhood"
              },
              {
                "id": "Data",
                "title": "Data"
              },
              {
                "id": "Search",
                "title": "Search"
              },
              {
                "id": "About",
                "title": "About"
              }
            ],
            "_data_importer": "neo4j",
            "_directed": true,
            "_dom_classes": [],
            "_edges": [
              {
                "color": "#9C27B0",
                "directed": true,
                "end": 2,
                "id": 14,
                "label": "RULED",
                "properties": {
                  "label": "RULED"
                },
                "start": 1,
                "thickness_factor": 1
              },
              {
                "color": "#9C27B0",
                "directed": true,
                "end": 3,
                "id": 15,
                "label": "RULED",
                "properties": {
                  "label": "RULED"
                },
                "start": 1,
                "thickness_factor": 1
              },
              {
                "color": "#2196F3",
                "directed": true,
                "end": 4,
                "id": 16,
                "label": "BELONGED_TO",
                "properties": {
                  "label": "BELONGED_TO"
                },
                "start": 1,
                "thickness_factor": 1
              },
              {
                "color": "#4CAF50",
                "directed": true,
                "end": 5,
                "id": 17,
                "label": "PARENT",
                "properties": {
                  "label": "PARENT"
                },
                "start": 1,
                "thickness_factor": 1
              },
              {
                "color": "#4CAF50",
                "directed": true,
                "end": 6,
                "id": 18,
                "label": "PARENT",
                "properties": {
                  "label": "PARENT"
                },
                "start": 1,
                "thickness_factor": 1
              },
              {
                "color": "#F44336",
                "directed": true,
                "end": 6,
                "id": 19,
                "label": "SPOUSE",
                "properties": {
                  "label": "SPOUSE"
                },
                "start": 5,
                "thickness_factor": 1
              },
              {
                "color": "#4CAF50",
                "directed": true,
                "end": 7,
                "id": 20,
                "label": "PARENT",
                "properties": {
                  "label": "PARENT"
                },
                "start": 5,
                "thickness_factor": 1
              },
              {
                "color": "#607D8B",
                "directed": true,
                "end": 8,
                "id": 21,
                "label": "BEQUEATHED_CROWN_TO",
                "properties": {
                  "label": "BEQUEATHED_CROWN_TO"
                },
                "start": 7,
                "thickness_factor": 1
              },
              {
                "color": "#673AB7",
                "directed": true,
                "end": 9,
                "id": 22,
                "label": "IGNORED_CLAIMS_OF",
                "properties": {
                  "label": "IGNORED_CLAIMS_OF"
                },
                "start": 7,
                "thickness_factor": 1
              },
              {
                "color": "#673AB7",
                "directed": true,
                "end": 1,
                "id": 23,
                "label": "IGNORED_CLAIMS_OF",
                "properties": {
                  "label": "IGNORED_CLAIMS_OF"
                },
                "start": 7,
                "thickness_factor": 1
              },
              {
                "color": "#CDDC39",
                "directed": true,
                "end": 1,
                "id": 24,
                "label": "IMPRISONED",
                "properties": {
                  "label": "IMPRISONED"
                },
                "start": 9,
                "thickness_factor": 1
              },
              {
                "color": "#9E9E9E",
                "directed": true,
                "end": 10,
                "id": 25,
                "label": "DEPENDED_ON",
                "properties": {
                  "label": "DEPENDED_ON"
                },
                "start": 1,
                "thickness_factor": 1
              },
              {
                "color": "#9C27B0",
                "directed": true,
                "end": 11,
                "id": 26,
                "label": "CREATED_TITLE",
                "properties": {
                  "label": "CREATED_TITLE"
                },
                "start": 1,
                "thickness_factor": 1
              },
              {
                "color": "#2196F3",
                "directed": true,
                "end": 12,
                "id": 27,
                "label": "SUCCEEDED_BY",
                "properties": {
                  "label": "SUCCEEDED_BY"
                },
                "start": 1,
                "thickness_factor": 1
              },
              {
                "color": "#4CAF50",
                "directed": true,
                "end": 12,
                "id": 28,
                "label": "PARENT",
                "properties": {
                  "label": "PARENT"
                },
                "start": 13,
                "thickness_factor": 1
              },
              {
                "color": "#9E9E9E",
                "directed": true,
                "end": 14,
                "id": 29,
                "label": "DEPENDED_ON",
                "properties": {
                  "label": "DEPENDED_ON"
                },
                "start": 1,
                "thickness_factor": 1
              },
              {
                "color": "#4CAF50",
                "directed": true,
                "end": 17,
                "id": 40,
                "label": "WAR",
                "properties": {
                  "label": "WAR"
                },
                "start": 16,
                "thickness_factor": 1
              },
              {
                "color": "#4CAF50",
                "directed": true,
                "end": 18,
                "id": 41,
                "label": "WAR",
                "properties": {
                  "label": "WAR"
                },
                "start": 16,
                "thickness_factor": 1
              },
              {
                "color": "#4CAF50",
                "directed": true,
                "end": 19,
                "id": 42,
                "label": "WAR",
                "properties": {
                  "label": "WAR"
                },
                "start": 16,
                "thickness_factor": 1
              },
              {
                "color": "#4CAF50",
                "directed": true,
                "end": 3,
                "id": 43,
                "label": "WAR",
                "properties": {
                  "label": "WAR"
                },
                "start": 16,
                "thickness_factor": 1
              },
              {
                "color": "#F44336",
                "directed": true,
                "end": 20,
                "id": 44,
                "label": "LEAD",
                "properties": {
                  "label": "LEAD"
                },
                "start": 16,
                "thickness_factor": 1
              },
              {
                "color": "#F44336",
                "directed": true,
                "end": 21,
                "id": 45,
                "label": "LEAD",
                "properties": {
                  "label": "LEAD"
                },
                "start": 16,
                "thickness_factor": 1
              },
              {
                "color": "#F44336",
                "directed": true,
                "end": 22,
                "id": 46,
                "label": "LEAD",
                "properties": {
                  "label": "LEAD"
                },
                "start": 16,
                "thickness_factor": 1
              },
              {
                "color": "#F44336",
                "directed": true,
                "end": 23,
                "id": 47,
                "label": "LEAD",
                "properties": {
                  "label": "LEAD"
                },
                "start": 16,
                "thickness_factor": 1
              },
              {
                "color": "#607D8B",
                "directed": true,
                "end": 24,
                "id": 48,
                "label": "DEFEAT",
                "properties": {
                  "label": "DEFEAT"
                },
                "start": 16,
                "thickness_factor": 1
              },
              {
                "color": "#673AB7",
                "directed": true,
                "end": 12,
                "id": 64,
                "label": "SUCCESSOR",
                "properties": {
                  "label": "SUCCESSOR"
                },
                "start": 1,
                "thickness_factor": 1
              },
              {
                "color": "#673AB7",
                "directed": true,
                "end": 7,
                "id": 65,
                "label": "SUCCESSOR",
                "properties": {
                  "label": "SUCCESSOR"
                },
                "start": 5,
                "thickness_factor": 1
              },
              {
                "color": "#673AB7",
                "directed": true,
                "end": 29,
                "id": 66,
                "label": "SUCCESSOR",
                "properties": {
                  "label": "SUCCESSOR"
                },
                "start": 5,
                "thickness_factor": 1
              },
              {
                "color": "#673AB7",
                "directed": true,
                "end": 1,
                "id": 67,
                "label": "SUCCESSOR",
                "properties": {
                  "label": "SUCCESSOR"
                },
                "start": 5,
                "thickness_factor": 1
              },
              {
                "color": "#673AB7",
                "directed": true,
                "end": 30,
                "id": 68,
                "label": "SUCCESSOR",
                "properties": {
                  "label": "SUCCESSOR"
                },
                "start": 5,
                "thickness_factor": 1
              },
              {
                "color": "#673AB7",
                "directed": true,
                "end": 31,
                "id": 69,
                "label": "SUCCESSOR",
                "properties": {
                  "label": "SUCCESSOR"
                },
                "start": 5,
                "thickness_factor": 1
              },
              {
                "color": "#673AB7",
                "directed": true,
                "end": 32,
                "id": 70,
                "label": "SUCCESSOR",
                "properties": {
                  "label": "SUCCESSOR"
                },
                "start": 5,
                "thickness_factor": 1
              },
              {
                "color": "#673AB7",
                "directed": true,
                "end": 33,
                "id": 71,
                "label": "SUCCESSOR",
                "properties": {
                  "label": "SUCCESSOR"
                },
                "start": 5,
                "thickness_factor": 1
              },
              {
                "color": "#CDDC39",
                "directed": true,
                "end": 34,
                "id": 72,
                "label": "PREFERRED_SUCCESSOR",
                "properties": {
                  "label": "PREFERRED_SUCCESSOR"
                },
                "start": 29,
                "thickness_factor": 1
              },
              {
                "color": "#9E9E9E",
                "directed": true,
                "end": 35,
                "id": 73,
                "label": "FAMILY_RELATION",
                "properties": {
                  "label": "FAMILY_RELATION"
                },
                "start": 34,
                "thickness_factor": 1
              },
              {
                "color": "#9C27B0",
                "directed": true,
                "end": 13,
                "id": 74,
                "label": "MARRIAGE",
                "properties": {
                  "label": "MARRIAGE"
                },
                "start": 35,
                "thickness_factor": 1
              },
              {
                "color": "#2196F3",
                "directed": true,
                "end": 37,
                "id": 91,
                "label": "GRANDPARENT",
                "properties": {
                  "label": "GRANDPARENT"
                },
                "start": 39,
                "thickness_factor": 1
              },
              {
                "color": "#2196F3",
                "directed": true,
                "end": 38,
                "id": 92,
                "label": "GRANDPARENT",
                "properties": {
                  "label": "GRANDPARENT"
                },
                "start": 39,
                "thickness_factor": 1
              },
              {
                "color": "#4CAF50",
                "directed": true,
                "end": 40,
                "id": 93,
                "label": "PARENT",
                "properties": {
                  "label": "PARENT"
                },
                "start": 34,
                "thickness_factor": 1
              },
              {
                "color": "#4CAF50",
                "directed": true,
                "end": 38,
                "id": 94,
                "label": "PARENT",
                "properties": {
                  "label": "PARENT"
                },
                "start": 40,
                "thickness_factor": 1
              },
              {
                "color": "#4CAF50",
                "directed": true,
                "end": 37,
                "id": 95,
                "label": "PARENT",
                "properties": {
                  "label": "PARENT"
                },
                "start": 13,
                "thickness_factor": 1
              },
              {
                "color": "#4CAF50",
                "directed": true,
                "end": 16,
                "id": 96,
                "label": "CONTENDER",
                "properties": {
                  "label": "CONTENDER"
                },
                "start": 13,
                "thickness_factor": 1
              },
              {
                "color": "#4CAF50",
                "directed": true,
                "end": 8,
                "id": 97,
                "label": "PARENT",
                "properties": {
                  "label": "PARENT"
                },
                "start": 41,
                "thickness_factor": 1
              },
              {
                "color": "#4CAF50",
                "directed": true,
                "end": 46,
                "id": 98,
                "label": "PARENT",
                "properties": {
                  "label": "PARENT"
                },
                "start": 41,
                "thickness_factor": 1
              },
              {
                "color": "#4CAF50",
                "directed": true,
                "end": 47,
                "id": 99,
                "label": "PARENT",
                "properties": {
                  "label": "PARENT"
                },
                "start": 41,
                "thickness_factor": 1
              },
              {
                "color": "#F44336",
                "directed": true,
                "end": 41,
                "id": 100,
                "label": "SPOUSE",
                "properties": {
                  "label": "SPOUSE"
                },
                "start": 44,
                "thickness_factor": 1
              },
              {
                "color": "#F44336",
                "directed": true,
                "end": 42,
                "id": 101,
                "label": "SPOUSE",
                "properties": {
                  "label": "SPOUSE"
                },
                "start": 44,
                "thickness_factor": 1
              },
              {
                "color": "#F44336",
                "directed": true,
                "end": 41,
                "id": 102,
                "label": "SPOUSE",
                "properties": {
                  "label": "SPOUSE"
                },
                "start": 45,
                "thickness_factor": 1
              },
              {
                "color": "#F44336",
                "directed": true,
                "end": 48,
                "id": 103,
                "label": "SPOUSE",
                "properties": {
                  "label": "SPOUSE"
                },
                "start": 46,
                "thickness_factor": 1
              },
              {
                "color": "#F44336",
                "directed": true,
                "end": 51,
                "id": 117,
                "label": "HELD_TITLE",
                "properties": {
                  "label": "HELD_TITLE"
                },
                "start": 50,
                "thickness_factor": 1
              }
            ],
            "_graph_layout": {},
            "_highlight": [],
            "_license": {},
            "_model_module": "yfiles-jupyter-graphs",
            "_model_module_version": "^1.6.1",
            "_model_name": "GraphModel",
            "_neighborhood": {},
            "_nodes": [
              {
                "color": "#2196F3",
                "id": 1,
                "label": "Elizabeth I",
                "position": [
                  0,
                  0
                ],
                "properties": {
                  "id": "Elizabeth I",
                  "label": "Person:__Entity__"
                },
                "scale_factor": 1,
                "size": [
                  55,
                  55
                ],
                "styles": {},
                "type": "#2196F3"
              },
              {
                "color": "#4CAF50",
                "id": 2,
                "label": "England",
                "position": [
                  0,
                  0
                ],
                "properties": {
                  "id": "England",
                  "label": "Country:__Entity__"
                },
                "scale_factor": 1,
                "size": [
                  55,
                  55
                ],
                "styles": {},
                "type": "#4CAF50"
              },
              {
                "color": "#4CAF50",
                "id": 3,
                "label": "Ireland",
                "position": [
                  0,
                  0
                ],
                "properties": {
                  "id": "Ireland",
                  "label": "Country:__Entity__"
                },
                "scale_factor": 1,
                "size": [
                  55,
                  55
                ],
                "styles": {},
                "type": "#4CAF50"
              },
              {
                "color": "#F44336",
                "id": 4,
                "label": "House Of Tudor",
                "position": [
                  0,
                  0
                ],
                "properties": {
                  "id": "House Of Tudor",
                  "label": "__Entity__:Royal family"
                },
                "scale_factor": 1,
                "size": [
                  55,
                  55
                ],
                "styles": {},
                "type": "#F44336"
              },
              {
                "color": "#2196F3",
                "id": 5,
                "label": "Henry Viii",
                "position": [
                  0,
                  0
                ],
                "properties": {
                  "id": "Henry Viii",
                  "label": "Person:__Entity__"
                },
                "scale_factor": 1,
                "size": [
                  55,
                  55
                ],
                "styles": {},
                "type": "#2196F3"
              },
              {
                "color": "#2196F3",
                "id": 6,
                "label": "Anne Boleyn",
                "position": [
                  0,
                  0
                ],
                "properties": {
                  "id": "Anne Boleyn",
                  "label": "Person:__Entity__"
                },
                "scale_factor": 1,
                "size": [
                  55,
                  55
                ],
                "styles": {},
                "type": "#2196F3"
              },
              {
                "color": "#2196F3",
                "id": 7,
                "label": "Edward Vi",
                "position": [
                  0,
                  0
                ],
                "properties": {
                  "id": "Edward Vi",
                  "label": "Person:__Entity__"
                },
                "scale_factor": 1,
                "size": [
                  55,
                  55
                ],
                "styles": {},
                "type": "#2196F3"
              },
              {
                "color": "#2196F3",
                "id": 8,
                "label": "Lady Jane Grey",
                "position": [
                  0,
                  0
                ],
                "properties": {
                  "id": "Lady Jane Grey",
                  "label": "Person:__Entity__"
                },
                "scale_factor": 1,
                "size": [
                  55,
                  55
                ],
                "styles": {},
                "type": "#2196F3"
              },
              {
                "color": "#2196F3",
                "id": 9,
                "label": "Mary",
                "position": [
                  0,
                  0
                ],
                "properties": {
                  "id": "Mary",
                  "label": "Person:__Entity__"
                },
                "scale_factor": 1,
                "size": [
                  55,
                  55
                ],
                "styles": {},
                "type": "#2196F3"
              },
              {
                "color": "#2196F3",
                "id": 10,
                "label": "William Cecil",
                "position": [
                  0,
                  0
                ],
                "properties": {
                  "id": "William Cecil",
                  "label": "Person:__Entity__"
                },
                "scale_factor": 1,
                "size": [
                  55,
                  55
                ],
                "styles": {},
                "type": "#2196F3"
              },
              {
                "color": "#607D8B",
                "id": 11,
                "label": "Baron Burghley",
                "position": [
                  0,
                  0
                ],
                "properties": {
                  "id": "Baron Burghley",
                  "label": "Title:__Entity__"
                },
                "scale_factor": 1,
                "size": [
                  55,
                  55
                ],
                "styles": {},
                "type": "#607D8B"
              },
              {
                "color": "#2196F3",
                "id": 12,
                "label": "James Vi Of Scotland",
                "position": [
                  0,
                  0
                ],
                "properties": {
                  "id": "James Vi Of Scotland",
                  "label": "Person:__Entity__"
                },
                "scale_factor": 1,
                "size": [
                  55,
                  55
                ],
                "styles": {},
                "type": "#2196F3"
              },
              {
                "color": "#2196F3",
                "id": 13,
                "label": "Mary, Queen Of Scots",
                "position": [
                  0,
                  0
                ],
                "properties": {
                  "id": "Mary, Queen Of Scots",
                  "label": "Person:__Entity__"
                },
                "scale_factor": 1,
                "size": [
                  55,
                  55
                ],
                "styles": {},
                "type": "#2196F3"
              },
              {
                "color": "#2196F3",
                "id": 14,
                "label": "Francis Walsingham",
                "position": [
                  0,
                  0
                ],
                "properties": {
                  "id": "Francis Walsingham",
                  "label": "Person:__Entity__"
                },
                "scale_factor": 1,
                "size": [
                  55,
                  55
                ],
                "styles": {},
                "type": "#2196F3"
              },
              {
                "color": "#2196F3",
                "id": 16,
                "label": "Elizabeth",
                "position": [
                  0,
                  0
                ],
                "properties": {
                  "id": "Elizabeth",
                  "label": "Person:__Entity__"
                },
                "scale_factor": 1,
                "size": [
                  55,
                  55
                ],
                "styles": {},
                "type": "#2196F3"
              },
              {
                "color": "#4CAF50",
                "id": 17,
                "label": "Spain",
                "position": [
                  0,
                  0
                ],
                "properties": {
                  "id": "Spain",
                  "label": "Country:__Entity__"
                },
                "scale_factor": 1,
                "size": [
                  55,
                  55
                ],
                "styles": {},
                "type": "#4CAF50"
              },
              {
                "color": "#4CAF50",
                "id": 18,
                "label": "Netherlands",
                "position": [
                  0,
                  0
                ],
                "properties": {
                  "id": "Netherlands",
                  "label": "Country:__Entity__"
                },
                "scale_factor": 1,
                "size": [
                  55,
                  55
                ],
                "styles": {},
                "type": "#4CAF50"
              },
              {
                "color": "#4CAF50",
                "id": 19,
                "label": "France",
                "position": [
                  0,
                  0
                ],
                "properties": {
                  "id": "France",
                  "label": "Country:__Entity__"
                },
                "scale_factor": 1,
                "size": [
                  55,
                  55
                ],
                "styles": {},
                "type": "#4CAF50"
              },
              {
                "color": "#673AB7",
                "id": 20,
                "label": "William Shakespeare",
                "position": [
                  0,
                  0
                ],
                "properties": {
                  "id": "William Shakespeare",
                  "label": "Playwright:__Entity__"
                },
                "scale_factor": 1,
                "size": [
                  55,
                  55
                ],
                "styles": {},
                "type": "#673AB7"
              },
              {
                "color": "#673AB7",
                "id": 21,
                "label": "Christopher Marlowe",
                "position": [
                  0,
                  0
                ],
                "properties": {
                  "id": "Christopher Marlowe",
                  "label": "Playwright:__Entity__"
                },
                "scale_factor": 1,
                "size": [
                  55,
                  55
                ],
                "styles": {},
                "type": "#673AB7"
              },
              {
                "color": "#CDDC39",
                "id": 22,
                "label": "Francis Drake",
                "position": [
                  0,
                  0
                ],
                "properties": {
                  "id": "Francis Drake",
                  "label": "Explorer:__Entity__"
                },
                "scale_factor": 1,
                "size": [
                  55,
                  55
                ],
                "styles": {},
                "type": "#CDDC39"
              },
              {
                "color": "#CDDC39",
                "id": 23,
                "label": "Walter Raleigh",
                "position": [
                  0,
                  0
                ],
                "properties": {
                  "id": "Walter Raleigh",
                  "label": "Explorer:__Entity__"
                },
                "scale_factor": 1,
                "size": [
                  55,
                  55
                ],
                "styles": {},
                "type": "#CDDC39"
              },
              {
                "color": "#9E9E9E",
                "id": 24,
                "label": "Spanish Armada",
                "position": [
                  0,
                  0
                ],
                "properties": {
                  "id": "Spanish Armada",
                  "label": "Event:__Entity__"
                },
                "scale_factor": 1,
                "size": [
                  55,
                  55
                ],
                "styles": {},
                "type": "#9E9E9E"
              },
              {
                "color": "#2196F3",
                "id": 29,
                "label": "Mary I",
                "position": [
                  0,
                  0
                ],
                "properties": {
                  "id": "Mary I",
                  "label": "Person:__Entity__"
                },
                "scale_factor": 1,
                "size": [
                  55,
                  55
                ],
                "styles": {},
                "type": "#2196F3"
              },
              {
                "color": "#2196F3",
                "id": 30,
                "label": "Jane Grey",
                "position": [
                  0,
                  0
                ],
                "properties": {
                  "id": "Jane Grey",
                  "label": "Person:__Entity__"
                },
                "scale_factor": 1,
                "size": [
                  55,
                  55
                ],
                "styles": {},
                "type": "#2196F3"
              },
              {
                "color": "#2196F3",
                "id": 31,
                "label": "Katherine Grey",
                "position": [
                  0,
                  0
                ],
                "properties": {
                  "id": "Katherine Grey",
                  "label": "Person:__Entity__"
                },
                "scale_factor": 1,
                "size": [
                  55,
                  55
                ],
                "styles": {},
                "type": "#2196F3"
              },
              {
                "color": "#2196F3",
                "id": 32,
                "label": "Mary Grey",
                "position": [
                  0,
                  0
                ],
                "properties": {
                  "id": "Mary Grey",
                  "label": "Person:__Entity__"
                },
                "scale_factor": 1,
                "size": [
                  55,
                  55
                ],
                "styles": {},
                "type": "#2196F3"
              },
              {
                "color": "#2196F3",
                "id": 33,
                "label": "Margaret Clifford",
                "position": [
                  0,
                  0
                ],
                "properties": {
                  "id": "Margaret Clifford",
                  "label": "Person:__Entity__"
                },
                "scale_factor": 1,
                "size": [
                  55,
                  55
                ],
                "styles": {},
                "type": "#2196F3"
              },
              {
                "color": "#2196F3",
                "id": 34,
                "label": "Margaret Douglas",
                "position": [
                  0,
                  0
                ],
                "properties": {
                  "id": "Margaret Douglas",
                  "label": "Person:__Entity__"
                },
                "scale_factor": 1,
                "size": [
                  55,
                  55
                ],
                "styles": {},
                "type": "#2196F3"
              },
              {
                "color": "#2196F3",
                "id": 35,
                "label": "Henry Stuart, Lord Darnley",
                "position": [
                  0,
                  0
                ],
                "properties": {
                  "id": "Henry Stuart, Lord Darnley",
                  "label": "Person:__Entity__"
                },
                "scale_factor": 1,
                "size": [
                  55,
                  55
                ],
                "styles": {},
                "type": "#2196F3"
              },
              {
                "color": "#2196F3",
                "id": 39,
                "label": "Margaret Tudor",
                "position": [
                  0,
                  0
                ],
                "properties": {
                  "id": "Margaret Tudor",
                  "label": "Person:__Entity__"
                },
                "scale_factor": 1,
                "size": [
                  55,
                  55
                ],
                "styles": {},
                "type": "#2196F3"
              },
              {
                "color": "#2196F3",
                "id": 37,
                "label": "James Vi",
                "position": [
                  0,
                  0
                ],
                "properties": {
                  "id": "James Vi",
                  "label": "Person:__Entity__"
                },
                "scale_factor": 1,
                "size": [
                  55,
                  55
                ],
                "styles": {},
                "type": "#2196F3"
              },
              {
                "color": "#2196F3",
                "id": 38,
                "label": "Arbella Stuart",
                "position": [
                  0,
                  0
                ],
                "properties": {
                  "id": "Arbella Stuart",
                  "label": "Person:__Entity__"
                },
                "scale_factor": 1,
                "size": [
                  55,
                  55
                ],
                "styles": {},
                "type": "#2196F3"
              },
              {
                "color": "#2196F3",
                "id": 40,
                "label": "Charles Stuart",
                "position": [
                  0,
                  0
                ],
                "properties": {
                  "id": "Charles Stuart",
                  "label": "Person:__Entity__"
                },
                "scale_factor": 1,
                "size": [
                  55,
                  55
                ],
                "styles": {},
                "type": "#2196F3"
              },
              {
                "color": "#2196F3",
                "id": 41,
                "label": "Frances Grey",
                "position": [
                  0,
                  0
                ],
                "properties": {
                  "id": "Frances Grey",
                  "label": "Person:__Entity__"
                },
                "scale_factor": 1,
                "size": [
                  55,
                  55
                ],
                "styles": {},
                "type": "#2196F3"
              },
              {
                "color": "#2196F3",
                "id": 46,
                "label": "Lady Catherine Grey",
                "position": [
                  0,
                  0
                ],
                "properties": {
                  "id": "Lady Catherine Grey",
                  "label": "Person:__Entity__"
                },
                "scale_factor": 1,
                "size": [
                  55,
                  55
                ],
                "styles": {},
                "type": "#2196F3"
              },
              {
                "color": "#2196F3",
                "id": 47,
                "label": "Lady Mary Grey",
                "position": [
                  0,
                  0
                ],
                "properties": {
                  "id": "Lady Mary Grey",
                  "label": "Person:__Entity__"
                },
                "scale_factor": 1,
                "size": [
                  55,
                  55
                ],
                "styles": {},
                "type": "#2196F3"
              },
              {
                "color": "#2196F3",
                "id": 44,
                "label": "Charles Brandon",
                "position": [
                  0,
                  0
                ],
                "properties": {
                  "id": "Charles Brandon",
                  "label": "Person:__Entity__"
                },
                "scale_factor": 1,
                "size": [
                  55,
                  55
                ],
                "styles": {},
                "type": "#2196F3"
              },
              {
                "color": "#2196F3",
                "id": 42,
                "label": "Eleanor Clifford",
                "position": [
                  0,
                  0
                ],
                "properties": {
                  "id": "Eleanor Clifford",
                  "label": "Person:__Entity__"
                },
                "scale_factor": 1,
                "size": [
                  55,
                  55
                ],
                "styles": {},
                "type": "#2196F3"
              },
              {
                "color": "#2196F3",
                "id": 45,
                "label": "Henry Grey",
                "position": [
                  0,
                  0
                ],
                "properties": {
                  "id": "Henry Grey",
                  "label": "Person:__Entity__"
                },
                "scale_factor": 1,
                "size": [
                  55,
                  55
                ],
                "styles": {},
                "type": "#2196F3"
              },
              {
                "color": "#2196F3",
                "id": 48,
                "label": "Henry Herbert",
                "position": [
                  0,
                  0
                ],
                "properties": {
                  "id": "Henry Herbert",
                  "label": "Person:__Entity__"
                },
                "scale_factor": 1,
                "size": [
                  55,
                  55
                ],
                "styles": {},
                "type": "#2196F3"
              },
              {
                "color": "#2196F3",
                "id": 50,
                "label": "Elizabeth Petrovna",
                "position": [
                  0,
                  0
                ],
                "properties": {
                  "id": "Elizabeth Petrovna",
                  "label": "Person:__Entity__"
                },
                "scale_factor": 1,
                "size": [
                  55,
                  55
                ],
                "styles": {},
                "type": "#2196F3"
              },
              {
                "color": "#607D8B",
                "id": 51,
                "label": "Empress Of Russia",
                "position": [
                  0,
                  0
                ],
                "properties": {
                  "id": "Empress Of Russia",
                  "label": "Title:__Entity__"
                },
                "scale_factor": 1,
                "size": [
                  55,
                  55
                ],
                "styles": {},
                "type": "#607D8B"
              }
            ],
            "_overview": {
              "enabled": null,
              "overview_set": false
            },
            "_selected_graph": [
              [],
              []
            ],
            "_sidebar": {
              "enabled": true,
              "start_with": ""
            },
            "_view_count": null,
            "_view_module": "yfiles-jupyter-graphs",
            "_view_module_version": "^1.6.1",
            "_view_name": "GraphView",
            "layout": "IPY_MODEL_9bac7003afd84cecb4e67a81a396ec8d"
          }
        },
        "9bac7003afd84cecb4e67a81a396ec8d": {
          "model_module": "@jupyter-widgets/base",
          "model_module_version": "1.2.0",
          "model_name": "LayoutModel",
          "state": {
            "_model_module": "@jupyter-widgets/base",
            "_model_module_version": "1.2.0",
            "_model_name": "LayoutModel",
            "_view_count": null,
            "_view_module": "@jupyter-widgets/base",
            "_view_module_version": "1.2.0",
            "_view_name": "LayoutView",
            "align_content": null,
            "align_items": null,
            "align_self": null,
            "border": null,
            "bottom": null,
            "display": null,
            "flex": null,
            "flex_flow": null,
            "grid_area": null,
            "grid_auto_columns": null,
            "grid_auto_flow": null,
            "grid_auto_rows": null,
            "grid_column": null,
            "grid_gap": null,
            "grid_row": null,
            "grid_template_areas": null,
            "grid_template_columns": null,
            "grid_template_rows": null,
            "height": "800px",
            "justify_content": null,
            "justify_items": null,
            "left": null,
            "margin": null,
            "max_height": null,
            "max_width": null,
            "min_height": null,
            "min_width": null,
            "object_fit": null,
            "object_position": null,
            "order": null,
            "overflow": null,
            "overflow_x": null,
            "overflow_y": null,
            "padding": null,
            "right": null,
            "top": null,
            "visibility": null,
            "width": "100%"
          }
        }
      }
    }
  },
  "nbformat": 4,
  "nbformat_minor": 0
}
