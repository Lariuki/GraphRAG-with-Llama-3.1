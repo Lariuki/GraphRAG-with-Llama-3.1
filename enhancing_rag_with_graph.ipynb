{
  "cells": [
    {
      "cell_type": "code",
      "execution_count": 2,
      "metadata": {
        "id": "5x3LkpUztHNU"
      },
      "outputs": [
        {
          "name": "stdout",
          "output_type": "stream",
          "text": [
            "Note: you may need to restart the kernel to use updated packages.\n"
          ]
        }
      ],
      "source": [
        "%pip install --upgrade --quiet  langchain langchain-community langchain-openai langchain-ollama langchain-experimental neo4j tiktoken yfiles_jupyter_graphs python-dotenv"
      ]
    },
    {
      "cell_type": "code",
      "execution_count": 3,
      "metadata": {},
      "outputs": [
        {
          "name": "stdout",
          "output_type": "stream",
          "text": [
            "Requirement already satisfied: neo4j in /Library/Frameworks/Python.framework/Versions/3.12/lib/python3.12/site-packages (5.25.0)\n",
            "Requirement already satisfied: pytz in /Library/Frameworks/Python.framework/Versions/3.12/lib/python3.12/site-packages (from neo4j) (2024.2)\n",
            "Note: you may need to restart the kernel to use updated packages.\n",
            "Requirement already satisfied: json-repair in /Library/Frameworks/Python.framework/Versions/3.12/lib/python3.12/site-packages (0.29.4)\n",
            "Note: you may need to restart the kernel to use updated packages.\n",
            "Requirement already satisfied: py2neo in /Library/Frameworks/Python.framework/Versions/3.12/lib/python3.12/site-packages (2021.2.4)\n",
            "Requirement already satisfied: certifi in /Library/Frameworks/Python.framework/Versions/3.12/lib/python3.12/site-packages (from py2neo) (2024.7.4)\n",
            "Requirement already satisfied: interchange~=2021.0.4 in /Library/Frameworks/Python.framework/Versions/3.12/lib/python3.12/site-packages (from py2neo) (2021.0.4)\n",
            "Requirement already satisfied: monotonic in /Library/Frameworks/Python.framework/Versions/3.12/lib/python3.12/site-packages (from py2neo) (1.6)\n",
            "Requirement already satisfied: packaging in /Library/Frameworks/Python.framework/Versions/3.12/lib/python3.12/site-packages (from py2neo) (23.2)\n",
            "Requirement already satisfied: pansi>=2020.7.3 in /Library/Frameworks/Python.framework/Versions/3.12/lib/python3.12/site-packages (from py2neo) (2020.7.3)\n",
            "Requirement already satisfied: pygments>=2.0.0 in /Users/larissakemicloud.com/Library/Python/3.12/lib/python/site-packages (from py2neo) (2.18.0)\n",
            "Requirement already satisfied: six>=1.15.0 in /Library/Frameworks/Python.framework/Versions/3.12/lib/python3.12/site-packages (from py2neo) (1.16.0)\n",
            "Requirement already satisfied: urllib3 in /Library/Frameworks/Python.framework/Versions/3.12/lib/python3.12/site-packages (from py2neo) (2.2.2)\n",
            "Requirement already satisfied: pytz in /Library/Frameworks/Python.framework/Versions/3.12/lib/python3.12/site-packages (from interchange~=2021.0.4->py2neo) (2024.2)\n",
            "Note: you may need to restart the kernel to use updated packages.\n",
            "Requirement already satisfied: tree_sitter in /Library/Frameworks/Python.framework/Versions/3.12/lib/python3.12/site-packages (0.23.0)\n",
            "Note: you may need to restart the kernel to use updated packages.\n"
          ]
        }
      ],
      "source": [
        "%pip install neo4j\n",
        "%pip install json-repair\n",
        "%pip install py2neo\n",
        "%pip install tree_sitter"
      ]
    },
    {
      "cell_type": "code",
      "execution_count": 4,
      "metadata": {},
      "outputs": [
        {
          "name": "stdout",
          "output_type": "stream",
          "text": [
            "Requirement already satisfied: langchain in /Library/Frameworks/Python.framework/Versions/3.12/lib/python3.12/site-packages (0.3.1)\n",
            "Requirement already satisfied: PyYAML>=5.3 in /Library/Frameworks/Python.framework/Versions/3.12/lib/python3.12/site-packages (from langchain) (6.0.2)\n",
            "Requirement already satisfied: SQLAlchemy<3,>=1.4 in /Library/Frameworks/Python.framework/Versions/3.12/lib/python3.12/site-packages (from langchain) (2.0.34)\n",
            "Requirement already satisfied: aiohttp<4.0.0,>=3.8.3 in /Library/Frameworks/Python.framework/Versions/3.12/lib/python3.12/site-packages (from langchain) (3.10.5)\n",
            "Requirement already satisfied: langchain-core<0.4.0,>=0.3.6 in /Library/Frameworks/Python.framework/Versions/3.12/lib/python3.12/site-packages (from langchain) (0.3.6)\n",
            "Requirement already satisfied: langchain-text-splitters<0.4.0,>=0.3.0 in /Library/Frameworks/Python.framework/Versions/3.12/lib/python3.12/site-packages (from langchain) (0.3.0)\n",
            "Requirement already satisfied: langsmith<0.2.0,>=0.1.17 in /Library/Frameworks/Python.framework/Versions/3.12/lib/python3.12/site-packages (from langchain) (0.1.128)\n",
            "Requirement already satisfied: numpy<2.0.0,>=1.26.0 in /Library/Frameworks/Python.framework/Versions/3.12/lib/python3.12/site-packages (from langchain) (1.26.4)\n",
            "Requirement already satisfied: pydantic<3.0.0,>=2.7.4 in /Library/Frameworks/Python.framework/Versions/3.12/lib/python3.12/site-packages (from langchain) (2.9.1)\n",
            "Requirement already satisfied: requests<3,>=2 in /Library/Frameworks/Python.framework/Versions/3.12/lib/python3.12/site-packages (from langchain) (2.32.3)\n",
            "Requirement already satisfied: tenacity!=8.4.0,<9.0.0,>=8.1.0 in /Library/Frameworks/Python.framework/Versions/3.12/lib/python3.12/site-packages (from langchain) (8.5.0)\n",
            "Requirement already satisfied: aiohappyeyeballs>=2.3.0 in /Library/Frameworks/Python.framework/Versions/3.12/lib/python3.12/site-packages (from aiohttp<4.0.0,>=3.8.3->langchain) (2.4.0)\n",
            "Requirement already satisfied: aiosignal>=1.1.2 in /Library/Frameworks/Python.framework/Versions/3.12/lib/python3.12/site-packages (from aiohttp<4.0.0,>=3.8.3->langchain) (1.3.1)\n",
            "Requirement already satisfied: attrs>=17.3.0 in /Library/Frameworks/Python.framework/Versions/3.12/lib/python3.12/site-packages (from aiohttp<4.0.0,>=3.8.3->langchain) (23.2.0)\n",
            "Requirement already satisfied: frozenlist>=1.1.1 in /Library/Frameworks/Python.framework/Versions/3.12/lib/python3.12/site-packages (from aiohttp<4.0.0,>=3.8.3->langchain) (1.4.1)\n",
            "Requirement already satisfied: multidict<7.0,>=4.5 in /Library/Frameworks/Python.framework/Versions/3.12/lib/python3.12/site-packages (from aiohttp<4.0.0,>=3.8.3->langchain) (6.1.0)\n",
            "Requirement already satisfied: yarl<2.0,>=1.0 in /Library/Frameworks/Python.framework/Versions/3.12/lib/python3.12/site-packages (from aiohttp<4.0.0,>=3.8.3->langchain) (1.11.1)\n",
            "Requirement already satisfied: jsonpatch<2.0,>=1.33 in /Library/Frameworks/Python.framework/Versions/3.12/lib/python3.12/site-packages (from langchain-core<0.4.0,>=0.3.6->langchain) (1.33)\n",
            "Requirement already satisfied: packaging<25,>=23.2 in /Library/Frameworks/Python.framework/Versions/3.12/lib/python3.12/site-packages (from langchain-core<0.4.0,>=0.3.6->langchain) (23.2)\n",
            "Requirement already satisfied: typing-extensions>=4.7 in /Library/Frameworks/Python.framework/Versions/3.12/lib/python3.12/site-packages (from langchain-core<0.4.0,>=0.3.6->langchain) (4.12.2)\n",
            "Requirement already satisfied: httpx<1,>=0.23.0 in /Library/Frameworks/Python.framework/Versions/3.12/lib/python3.12/site-packages (from langsmith<0.2.0,>=0.1.17->langchain) (0.27.2)\n",
            "Requirement already satisfied: orjson<4.0.0,>=3.9.14 in /Library/Frameworks/Python.framework/Versions/3.12/lib/python3.12/site-packages (from langsmith<0.2.0,>=0.1.17->langchain) (3.10.7)\n",
            "Requirement already satisfied: annotated-types>=0.6.0 in /Library/Frameworks/Python.framework/Versions/3.12/lib/python3.12/site-packages (from pydantic<3.0.0,>=2.7.4->langchain) (0.7.0)\n",
            "Requirement already satisfied: pydantic-core==2.23.3 in /Library/Frameworks/Python.framework/Versions/3.12/lib/python3.12/site-packages (from pydantic<3.0.0,>=2.7.4->langchain) (2.23.3)\n",
            "Requirement already satisfied: charset-normalizer<4,>=2 in /Library/Frameworks/Python.framework/Versions/3.12/lib/python3.12/site-packages (from requests<3,>=2->langchain) (3.3.2)\n",
            "Requirement already satisfied: idna<4,>=2.5 in /Library/Frameworks/Python.framework/Versions/3.12/lib/python3.12/site-packages (from requests<3,>=2->langchain) (3.7)\n",
            "Requirement already satisfied: urllib3<3,>=1.21.1 in /Library/Frameworks/Python.framework/Versions/3.12/lib/python3.12/site-packages (from requests<3,>=2->langchain) (2.2.2)\n",
            "Requirement already satisfied: certifi>=2017.4.17 in /Library/Frameworks/Python.framework/Versions/3.12/lib/python3.12/site-packages (from requests<3,>=2->langchain) (2024.7.4)\n",
            "Requirement already satisfied: greenlet!=0.4.17 in /Library/Frameworks/Python.framework/Versions/3.12/lib/python3.12/site-packages (from SQLAlchemy<3,>=1.4->langchain) (3.1.0)\n",
            "Requirement already satisfied: anyio in /Library/Frameworks/Python.framework/Versions/3.12/lib/python3.12/site-packages (from httpx<1,>=0.23.0->langsmith<0.2.0,>=0.1.17->langchain) (4.4.0)\n",
            "Requirement already satisfied: httpcore==1.* in /Library/Frameworks/Python.framework/Versions/3.12/lib/python3.12/site-packages (from httpx<1,>=0.23.0->langsmith<0.2.0,>=0.1.17->langchain) (1.0.5)\n",
            "Requirement already satisfied: sniffio in /Library/Frameworks/Python.framework/Versions/3.12/lib/python3.12/site-packages (from httpx<1,>=0.23.0->langsmith<0.2.0,>=0.1.17->langchain) (1.3.1)\n",
            "Requirement already satisfied: h11<0.15,>=0.13 in /Library/Frameworks/Python.framework/Versions/3.12/lib/python3.12/site-packages (from httpcore==1.*->httpx<1,>=0.23.0->langsmith<0.2.0,>=0.1.17->langchain) (0.14.0)\n",
            "Requirement already satisfied: jsonpointer>=1.9 in /Library/Frameworks/Python.framework/Versions/3.12/lib/python3.12/site-packages (from jsonpatch<2.0,>=1.33->langchain-core<0.4.0,>=0.3.6->langchain) (3.0.0)\n",
            "Note: you may need to restart the kernel to use updated packages.\n",
            "Requirement already satisfied: llama-index in /Library/Frameworks/Python.framework/Versions/3.12/lib/python3.12/site-packages (0.11.13)\n",
            "Collecting llama-index\n",
            "  Downloading llama_index-0.11.14-py3-none-any.whl.metadata (11 kB)\n",
            "Requirement already satisfied: llama-index-agent-openai<0.4.0,>=0.3.4 in /Library/Frameworks/Python.framework/Versions/3.12/lib/python3.12/site-packages (from llama-index) (0.3.4)\n",
            "Requirement already satisfied: llama-index-cli<0.4.0,>=0.3.1 in /Library/Frameworks/Python.framework/Versions/3.12/lib/python3.12/site-packages (from llama-index) (0.3.1)\n",
            "Collecting llama-index-core<0.12.0,>=0.11.14 (from llama-index)\n",
            "  Downloading llama_index_core-0.11.14-py3-none-any.whl.metadata (2.4 kB)\n",
            "Requirement already satisfied: llama-index-embeddings-openai<0.3.0,>=0.2.4 in /Library/Frameworks/Python.framework/Versions/3.12/lib/python3.12/site-packages (from llama-index) (0.2.5)\n",
            "Requirement already satisfied: llama-index-indices-managed-llama-cloud>=0.3.0 in /Library/Frameworks/Python.framework/Versions/3.12/lib/python3.12/site-packages (from llama-index) (0.4.0)\n",
            "Requirement already satisfied: llama-index-legacy<0.10.0,>=0.9.48 in /Library/Frameworks/Python.framework/Versions/3.12/lib/python3.12/site-packages (from llama-index) (0.9.48.post3)\n",
            "Requirement already satisfied: llama-index-llms-openai<0.3.0,>=0.2.9 in /Library/Frameworks/Python.framework/Versions/3.12/lib/python3.12/site-packages (from llama-index) (0.2.9)\n",
            "Requirement already satisfied: llama-index-multi-modal-llms-openai<0.3.0,>=0.2.0 in /Library/Frameworks/Python.framework/Versions/3.12/lib/python3.12/site-packages (from llama-index) (0.2.1)\n",
            "Requirement already satisfied: llama-index-program-openai<0.3.0,>=0.2.0 in /Library/Frameworks/Python.framework/Versions/3.12/lib/python3.12/site-packages (from llama-index) (0.2.0)\n",
            "Requirement already satisfied: llama-index-question-gen-openai<0.3.0,>=0.2.0 in /Library/Frameworks/Python.framework/Versions/3.12/lib/python3.12/site-packages (from llama-index) (0.2.0)\n",
            "Requirement already satisfied: llama-index-readers-file<0.3.0,>=0.2.0 in /Library/Frameworks/Python.framework/Versions/3.12/lib/python3.12/site-packages (from llama-index) (0.2.2)\n",
            "Requirement already satisfied: llama-index-readers-llama-parse>=0.3.0 in /Library/Frameworks/Python.framework/Versions/3.12/lib/python3.12/site-packages (from llama-index) (0.3.0)\n",
            "Requirement already satisfied: nltk>3.8.1 in /Library/Frameworks/Python.framework/Versions/3.12/lib/python3.12/site-packages (from llama-index) (3.9.1)\n",
            "Requirement already satisfied: openai>=1.14.0 in /Library/Frameworks/Python.framework/Versions/3.12/lib/python3.12/site-packages (from llama-index-agent-openai<0.4.0,>=0.3.4->llama-index) (1.48.0)\n",
            "Requirement already satisfied: PyYAML>=6.0.1 in /Library/Frameworks/Python.framework/Versions/3.12/lib/python3.12/site-packages (from llama-index-core<0.12.0,>=0.11.14->llama-index) (6.0.2)\n",
            "Requirement already satisfied: SQLAlchemy>=1.4.49 in /Library/Frameworks/Python.framework/Versions/3.12/lib/python3.12/site-packages (from SQLAlchemy[asyncio]>=1.4.49->llama-index-core<0.12.0,>=0.11.14->llama-index) (2.0.34)\n",
            "Requirement already satisfied: aiohttp<4.0.0,>=3.8.6 in /Library/Frameworks/Python.framework/Versions/3.12/lib/python3.12/site-packages (from llama-index-core<0.12.0,>=0.11.14->llama-index) (3.10.5)\n",
            "Requirement already satisfied: dataclasses-json in /Library/Frameworks/Python.framework/Versions/3.12/lib/python3.12/site-packages (from llama-index-core<0.12.0,>=0.11.14->llama-index) (0.6.7)\n",
            "Requirement already satisfied: deprecated>=1.2.9.3 in /Library/Frameworks/Python.framework/Versions/3.12/lib/python3.12/site-packages (from llama-index-core<0.12.0,>=0.11.14->llama-index) (1.2.14)\n",
            "Requirement already satisfied: dirtyjson<2.0.0,>=1.0.8 in /Library/Frameworks/Python.framework/Versions/3.12/lib/python3.12/site-packages (from llama-index-core<0.12.0,>=0.11.14->llama-index) (1.0.8)\n",
            "Requirement already satisfied: fsspec>=2023.5.0 in /Library/Frameworks/Python.framework/Versions/3.12/lib/python3.12/site-packages (from llama-index-core<0.12.0,>=0.11.14->llama-index) (2024.9.0)\n",
            "Requirement already satisfied: httpx in /Library/Frameworks/Python.framework/Versions/3.12/lib/python3.12/site-packages (from llama-index-core<0.12.0,>=0.11.14->llama-index) (0.27.2)\n",
            "Requirement already satisfied: nest-asyncio<2.0.0,>=1.5.8 in /Users/larissakemicloud.com/Library/Python/3.12/lib/python/site-packages (from llama-index-core<0.12.0,>=0.11.14->llama-index) (1.6.0)\n",
            "Requirement already satisfied: networkx>=3.0 in /Library/Frameworks/Python.framework/Versions/3.12/lib/python3.12/site-packages (from llama-index-core<0.12.0,>=0.11.14->llama-index) (3.3)\n",
            "Requirement already satisfied: numpy<2.0.0 in /Library/Frameworks/Python.framework/Versions/3.12/lib/python3.12/site-packages (from llama-index-core<0.12.0,>=0.11.14->llama-index) (1.26.4)\n",
            "Requirement already satisfied: pillow>=9.0.0 in /Library/Frameworks/Python.framework/Versions/3.12/lib/python3.12/site-packages (from llama-index-core<0.12.0,>=0.11.14->llama-index) (10.4.0)\n",
            "Requirement already satisfied: pydantic<3.0.0,>=2.7.0 in /Library/Frameworks/Python.framework/Versions/3.12/lib/python3.12/site-packages (from llama-index-core<0.12.0,>=0.11.14->llama-index) (2.9.1)\n",
            "Requirement already satisfied: requests>=2.31.0 in /Library/Frameworks/Python.framework/Versions/3.12/lib/python3.12/site-packages (from llama-index-core<0.12.0,>=0.11.14->llama-index) (2.32.3)\n",
            "Requirement already satisfied: tenacity!=8.4.0,<9.0.0,>=8.2.0 in /Library/Frameworks/Python.framework/Versions/3.12/lib/python3.12/site-packages (from llama-index-core<0.12.0,>=0.11.14->llama-index) (8.5.0)\n",
            "Requirement already satisfied: tiktoken>=0.3.3 in /Library/Frameworks/Python.framework/Versions/3.12/lib/python3.12/site-packages (from llama-index-core<0.12.0,>=0.11.14->llama-index) (0.7.0)\n",
            "Requirement already satisfied: tqdm<5.0.0,>=4.66.1 in /Library/Frameworks/Python.framework/Versions/3.12/lib/python3.12/site-packages (from llama-index-core<0.12.0,>=0.11.14->llama-index) (4.66.5)\n",
            "Requirement already satisfied: typing-extensions>=4.5.0 in /Library/Frameworks/Python.framework/Versions/3.12/lib/python3.12/site-packages (from llama-index-core<0.12.0,>=0.11.14->llama-index) (4.12.2)\n",
            "Requirement already satisfied: typing-inspect>=0.8.0 in /Library/Frameworks/Python.framework/Versions/3.12/lib/python3.12/site-packages (from llama-index-core<0.12.0,>=0.11.14->llama-index) (0.9.0)\n",
            "Requirement already satisfied: wrapt in /Library/Frameworks/Python.framework/Versions/3.12/lib/python3.12/site-packages (from llama-index-core<0.12.0,>=0.11.14->llama-index) (1.16.0)\n",
            "Requirement already satisfied: llama-cloud>=0.0.11 in /Library/Frameworks/Python.framework/Versions/3.12/lib/python3.12/site-packages (from llama-index-indices-managed-llama-cloud>=0.3.0->llama-index) (0.1.0)\n",
            "Requirement already satisfied: pandas in /Library/Frameworks/Python.framework/Versions/3.12/lib/python3.12/site-packages (from llama-index-legacy<0.10.0,>=0.9.48->llama-index) (2.2.2)\n",
            "Requirement already satisfied: beautifulsoup4<5.0.0,>=4.12.3 in /Library/Frameworks/Python.framework/Versions/3.12/lib/python3.12/site-packages (from llama-index-readers-file<0.3.0,>=0.2.0->llama-index) (4.12.3)\n",
            "Requirement already satisfied: pypdf<5.0.0,>=4.0.1 in /Library/Frameworks/Python.framework/Versions/3.12/lib/python3.12/site-packages (from llama-index-readers-file<0.3.0,>=0.2.0->llama-index) (4.3.1)\n",
            "Requirement already satisfied: striprtf<0.0.27,>=0.0.26 in /Library/Frameworks/Python.framework/Versions/3.12/lib/python3.12/site-packages (from llama-index-readers-file<0.3.0,>=0.2.0->llama-index) (0.0.26)\n",
            "Requirement already satisfied: llama-parse>=0.5.0 in /Library/Frameworks/Python.framework/Versions/3.12/lib/python3.12/site-packages (from llama-index-readers-llama-parse>=0.3.0->llama-index) (0.5.6)\n",
            "Requirement already satisfied: click in /Library/Frameworks/Python.framework/Versions/3.12/lib/python3.12/site-packages (from nltk>3.8.1->llama-index) (8.1.7)\n",
            "Requirement already satisfied: joblib in /Library/Frameworks/Python.framework/Versions/3.12/lib/python3.12/site-packages (from nltk>3.8.1->llama-index) (1.4.2)\n",
            "Requirement already satisfied: regex>=2021.8.3 in /Library/Frameworks/Python.framework/Versions/3.12/lib/python3.12/site-packages (from nltk>3.8.1->llama-index) (2024.9.11)\n",
            "Requirement already satisfied: aiohappyeyeballs>=2.3.0 in /Library/Frameworks/Python.framework/Versions/3.12/lib/python3.12/site-packages (from aiohttp<4.0.0,>=3.8.6->llama-index-core<0.12.0,>=0.11.14->llama-index) (2.4.0)\n",
            "Requirement already satisfied: aiosignal>=1.1.2 in /Library/Frameworks/Python.framework/Versions/3.12/lib/python3.12/site-packages (from aiohttp<4.0.0,>=3.8.6->llama-index-core<0.12.0,>=0.11.14->llama-index) (1.3.1)\n",
            "Requirement already satisfied: attrs>=17.3.0 in /Library/Frameworks/Python.framework/Versions/3.12/lib/python3.12/site-packages (from aiohttp<4.0.0,>=3.8.6->llama-index-core<0.12.0,>=0.11.14->llama-index) (23.2.0)\n",
            "Requirement already satisfied: frozenlist>=1.1.1 in /Library/Frameworks/Python.framework/Versions/3.12/lib/python3.12/site-packages (from aiohttp<4.0.0,>=3.8.6->llama-index-core<0.12.0,>=0.11.14->llama-index) (1.4.1)\n",
            "Requirement already satisfied: multidict<7.0,>=4.5 in /Library/Frameworks/Python.framework/Versions/3.12/lib/python3.12/site-packages (from aiohttp<4.0.0,>=3.8.6->llama-index-core<0.12.0,>=0.11.14->llama-index) (6.1.0)\n",
            "Requirement already satisfied: yarl<2.0,>=1.0 in /Library/Frameworks/Python.framework/Versions/3.12/lib/python3.12/site-packages (from aiohttp<4.0.0,>=3.8.6->llama-index-core<0.12.0,>=0.11.14->llama-index) (1.11.1)\n",
            "Requirement already satisfied: soupsieve>1.2 in /Library/Frameworks/Python.framework/Versions/3.12/lib/python3.12/site-packages (from beautifulsoup4<5.0.0,>=4.12.3->llama-index-readers-file<0.3.0,>=0.2.0->llama-index) (2.6)\n",
            "Requirement already satisfied: anyio in /Library/Frameworks/Python.framework/Versions/3.12/lib/python3.12/site-packages (from httpx->llama-index-core<0.12.0,>=0.11.14->llama-index) (4.4.0)\n",
            "Requirement already satisfied: certifi in /Library/Frameworks/Python.framework/Versions/3.12/lib/python3.12/site-packages (from httpx->llama-index-core<0.12.0,>=0.11.14->llama-index) (2024.7.4)\n",
            "Requirement already satisfied: httpcore==1.* in /Library/Frameworks/Python.framework/Versions/3.12/lib/python3.12/site-packages (from httpx->llama-index-core<0.12.0,>=0.11.14->llama-index) (1.0.5)\n",
            "Requirement already satisfied: idna in /Library/Frameworks/Python.framework/Versions/3.12/lib/python3.12/site-packages (from httpx->llama-index-core<0.12.0,>=0.11.14->llama-index) (3.7)\n",
            "Requirement already satisfied: sniffio in /Library/Frameworks/Python.framework/Versions/3.12/lib/python3.12/site-packages (from httpx->llama-index-core<0.12.0,>=0.11.14->llama-index) (1.3.1)\n",
            "Requirement already satisfied: h11<0.15,>=0.13 in /Library/Frameworks/Python.framework/Versions/3.12/lib/python3.12/site-packages (from httpcore==1.*->httpx->llama-index-core<0.12.0,>=0.11.14->llama-index) (0.14.0)\n",
            "Requirement already satisfied: distro<2,>=1.7.0 in /Library/Frameworks/Python.framework/Versions/3.12/lib/python3.12/site-packages (from openai>=1.14.0->llama-index-agent-openai<0.4.0,>=0.3.4->llama-index) (1.9.0)\n",
            "Requirement already satisfied: jiter<1,>=0.4.0 in /Library/Frameworks/Python.framework/Versions/3.12/lib/python3.12/site-packages (from openai>=1.14.0->llama-index-agent-openai<0.4.0,>=0.3.4->llama-index) (0.5.0)\n",
            "Requirement already satisfied: annotated-types>=0.6.0 in /Library/Frameworks/Python.framework/Versions/3.12/lib/python3.12/site-packages (from pydantic<3.0.0,>=2.7.0->llama-index-core<0.12.0,>=0.11.14->llama-index) (0.7.0)\n",
            "Requirement already satisfied: pydantic-core==2.23.3 in /Library/Frameworks/Python.framework/Versions/3.12/lib/python3.12/site-packages (from pydantic<3.0.0,>=2.7.0->llama-index-core<0.12.0,>=0.11.14->llama-index) (2.23.3)\n",
            "Requirement already satisfied: charset-normalizer<4,>=2 in /Library/Frameworks/Python.framework/Versions/3.12/lib/python3.12/site-packages (from requests>=2.31.0->llama-index-core<0.12.0,>=0.11.14->llama-index) (3.3.2)\n",
            "Requirement already satisfied: urllib3<3,>=1.21.1 in /Library/Frameworks/Python.framework/Versions/3.12/lib/python3.12/site-packages (from requests>=2.31.0->llama-index-core<0.12.0,>=0.11.14->llama-index) (2.2.2)\n",
            "Requirement already satisfied: greenlet!=0.4.17 in /Library/Frameworks/Python.framework/Versions/3.12/lib/python3.12/site-packages (from SQLAlchemy>=1.4.49->SQLAlchemy[asyncio]>=1.4.49->llama-index-core<0.12.0,>=0.11.14->llama-index) (3.1.0)\n",
            "Requirement already satisfied: mypy-extensions>=0.3.0 in /Library/Frameworks/Python.framework/Versions/3.12/lib/python3.12/site-packages (from typing-inspect>=0.8.0->llama-index-core<0.12.0,>=0.11.14->llama-index) (1.0.0)\n",
            "Requirement already satisfied: marshmallow<4.0.0,>=3.18.0 in /Library/Frameworks/Python.framework/Versions/3.12/lib/python3.12/site-packages (from dataclasses-json->llama-index-core<0.12.0,>=0.11.14->llama-index) (3.22.0)\n",
            "Requirement already satisfied: python-dateutil>=2.8.2 in /Library/Frameworks/Python.framework/Versions/3.12/lib/python3.12/site-packages (from pandas->llama-index-legacy<0.10.0,>=0.9.48->llama-index) (2.9.0.post0)\n",
            "Requirement already satisfied: pytz>=2020.1 in /Library/Frameworks/Python.framework/Versions/3.12/lib/python3.12/site-packages (from pandas->llama-index-legacy<0.10.0,>=0.9.48->llama-index) (2024.2)\n",
            "Requirement already satisfied: tzdata>=2022.7 in /Library/Frameworks/Python.framework/Versions/3.12/lib/python3.12/site-packages (from pandas->llama-index-legacy<0.10.0,>=0.9.48->llama-index) (2024.1)\n",
            "Requirement already satisfied: packaging>=17.0 in /Library/Frameworks/Python.framework/Versions/3.12/lib/python3.12/site-packages (from marshmallow<4.0.0,>=3.18.0->dataclasses-json->llama-index-core<0.12.0,>=0.11.14->llama-index) (23.2)\n",
            "Requirement already satisfied: six>=1.5 in /Library/Frameworks/Python.framework/Versions/3.12/lib/python3.12/site-packages (from python-dateutil>=2.8.2->pandas->llama-index-legacy<0.10.0,>=0.9.48->llama-index) (1.16.0)\n",
            "Downloading llama_index-0.11.14-py3-none-any.whl (6.8 kB)\n",
            "Downloading llama_index_core-0.11.14-py3-none-any.whl (1.6 MB)\n",
            "\u001b[2K   \u001b[90m━━━━━━━━━━━━━━━━━━━━━━━━━━━━━━━━━━━━━━━━\u001b[0m \u001b[32m1.6/1.6 MB\u001b[0m \u001b[31m16.4 MB/s\u001b[0m eta \u001b[36m0:00:00\u001b[0m\n",
            "\u001b[?25hInstalling collected packages: llama-index-core, llama-index\n",
            "  Attempting uninstall: llama-index-core\n",
            "    Found existing installation: llama-index-core 0.11.13.post1\n",
            "    Uninstalling llama-index-core-0.11.13.post1:\n",
            "      Successfully uninstalled llama-index-core-0.11.13.post1\n",
            "  Attempting uninstall: llama-index\n",
            "    Found existing installation: llama-index 0.11.13\n",
            "    Uninstalling llama-index-0.11.13:\n",
            "      Successfully uninstalled llama-index-0.11.13\n",
            "Successfully installed llama-index-0.11.14 llama-index-core-0.11.14\n",
            "Note: you may need to restart the kernel to use updated packages.\n"
          ]
        }
      ],
      "source": [
        "%pip install --upgrade langchain\n",
        "%pip install llama-index --upgrade"
      ]
    },
    {
      "cell_type": "code",
      "execution_count": 5,
      "metadata": {},
      "outputs": [
        {
          "name": "stdout",
          "output_type": "stream",
          "text": [
            "Name: llama-index\n",
            "Version: 0.11.14\n",
            "Summary: Interface between LLMs and your data\n",
            "Home-page: https://llamaindex.ai\n",
            "Author: Jerry Liu\n",
            "Author-email: jerry@llamaindex.ai\n",
            "License: MIT\n",
            "Location: /Library/Frameworks/Python.framework/Versions/3.12/lib/python3.12/site-packages\n",
            "Requires: llama-index-agent-openai, llama-index-cli, llama-index-core, llama-index-embeddings-openai, llama-index-indices-managed-llama-cloud, llama-index-legacy, llama-index-llms-openai, llama-index-multi-modal-llms-openai, llama-index-program-openai, llama-index-question-gen-openai, llama-index-readers-file, llama-index-readers-llama-parse, nltk\n",
            "Required-by: \n",
            "Note: you may need to restart the kernel to use updated packages.\n",
            "Requirement already satisfied: yfiles-jupyter-graphs in /Library/Frameworks/Python.framework/Versions/3.12/lib/python3.12/site-packages (1.8.1)\n",
            "Requirement already satisfied: ipywidgets>=8.0.0 in /Library/Frameworks/Python.framework/Versions/3.12/lib/python3.12/site-packages (from yfiles-jupyter-graphs) (8.1.5)\n",
            "Requirement already satisfied: comm>=0.1.3 in /Users/larissakemicloud.com/Library/Python/3.12/lib/python/site-packages (from ipywidgets>=8.0.0->yfiles-jupyter-graphs) (0.2.2)\n",
            "Requirement already satisfied: ipython>=6.1.0 in /Users/larissakemicloud.com/Library/Python/3.12/lib/python/site-packages (from ipywidgets>=8.0.0->yfiles-jupyter-graphs) (8.27.0)\n",
            "Requirement already satisfied: traitlets>=4.3.1 in /Users/larissakemicloud.com/Library/Python/3.12/lib/python/site-packages (from ipywidgets>=8.0.0->yfiles-jupyter-graphs) (5.14.3)\n",
            "Requirement already satisfied: widgetsnbextension~=4.0.12 in /Library/Frameworks/Python.framework/Versions/3.12/lib/python3.12/site-packages (from ipywidgets>=8.0.0->yfiles-jupyter-graphs) (4.0.13)\n",
            "Requirement already satisfied: jupyterlab-widgets~=3.0.12 in /Library/Frameworks/Python.framework/Versions/3.12/lib/python3.12/site-packages (from ipywidgets>=8.0.0->yfiles-jupyter-graphs) (3.0.13)\n",
            "Requirement already satisfied: decorator in /Users/larissakemicloud.com/Library/Python/3.12/lib/python/site-packages (from ipython>=6.1.0->ipywidgets>=8.0.0->yfiles-jupyter-graphs) (5.1.1)\n",
            "Requirement already satisfied: jedi>=0.16 in /Users/larissakemicloud.com/Library/Python/3.12/lib/python/site-packages (from ipython>=6.1.0->ipywidgets>=8.0.0->yfiles-jupyter-graphs) (0.19.1)\n",
            "Requirement already satisfied: matplotlib-inline in /Users/larissakemicloud.com/Library/Python/3.12/lib/python/site-packages (from ipython>=6.1.0->ipywidgets>=8.0.0->yfiles-jupyter-graphs) (0.1.7)\n",
            "Requirement already satisfied: prompt-toolkit<3.1.0,>=3.0.41 in /Users/larissakemicloud.com/Library/Python/3.12/lib/python/site-packages (from ipython>=6.1.0->ipywidgets>=8.0.0->yfiles-jupyter-graphs) (3.0.47)\n",
            "Requirement already satisfied: pygments>=2.4.0 in /Users/larissakemicloud.com/Library/Python/3.12/lib/python/site-packages (from ipython>=6.1.0->ipywidgets>=8.0.0->yfiles-jupyter-graphs) (2.18.0)\n",
            "Requirement already satisfied: stack-data in /Users/larissakemicloud.com/Library/Python/3.12/lib/python/site-packages (from ipython>=6.1.0->ipywidgets>=8.0.0->yfiles-jupyter-graphs) (0.6.3)\n",
            "Requirement already satisfied: pexpect>4.3 in /Users/larissakemicloud.com/Library/Python/3.12/lib/python/site-packages (from ipython>=6.1.0->ipywidgets>=8.0.0->yfiles-jupyter-graphs) (4.9.0)\n",
            "Requirement already satisfied: parso<0.9.0,>=0.8.3 in /Users/larissakemicloud.com/Library/Python/3.12/lib/python/site-packages (from jedi>=0.16->ipython>=6.1.0->ipywidgets>=8.0.0->yfiles-jupyter-graphs) (0.8.4)\n",
            "Requirement already satisfied: ptyprocess>=0.5 in /Users/larissakemicloud.com/Library/Python/3.12/lib/python/site-packages (from pexpect>4.3->ipython>=6.1.0->ipywidgets>=8.0.0->yfiles-jupyter-graphs) (0.7.0)\n",
            "Requirement already satisfied: wcwidth in /Users/larissakemicloud.com/Library/Python/3.12/lib/python/site-packages (from prompt-toolkit<3.1.0,>=3.0.41->ipython>=6.1.0->ipywidgets>=8.0.0->yfiles-jupyter-graphs) (0.2.13)\n",
            "Requirement already satisfied: executing>=1.2.0 in /Users/larissakemicloud.com/Library/Python/3.12/lib/python/site-packages (from stack-data->ipython>=6.1.0->ipywidgets>=8.0.0->yfiles-jupyter-graphs) (2.1.0)\n",
            "Requirement already satisfied: asttokens>=2.1.0 in /Users/larissakemicloud.com/Library/Python/3.12/lib/python/site-packages (from stack-data->ipython>=6.1.0->ipywidgets>=8.0.0->yfiles-jupyter-graphs) (2.4.1)\n",
            "Requirement already satisfied: pure-eval in /Users/larissakemicloud.com/Library/Python/3.12/lib/python/site-packages (from stack-data->ipython>=6.1.0->ipywidgets>=8.0.0->yfiles-jupyter-graphs) (0.2.3)\n",
            "Requirement already satisfied: six>=1.12.0 in /Library/Frameworks/Python.framework/Versions/3.12/lib/python3.12/site-packages (from asttokens>=2.1.0->stack-data->ipython>=6.1.0->ipywidgets>=8.0.0->yfiles-jupyter-graphs) (1.16.0)\n",
            "Note: you may need to restart the kernel to use updated packages.\n",
            "Requirement already satisfied: yfiles-jupyter-graphs in /Library/Frameworks/Python.framework/Versions/3.12/lib/python3.12/site-packages (1.8.1)\n",
            "Requirement already satisfied: ipywidgets>=8.0.0 in /Library/Frameworks/Python.framework/Versions/3.12/lib/python3.12/site-packages (from yfiles-jupyter-graphs) (8.1.5)\n",
            "Requirement already satisfied: comm>=0.1.3 in /Users/larissakemicloud.com/Library/Python/3.12/lib/python/site-packages (from ipywidgets>=8.0.0->yfiles-jupyter-graphs) (0.2.2)\n",
            "Requirement already satisfied: ipython>=6.1.0 in /Users/larissakemicloud.com/Library/Python/3.12/lib/python/site-packages (from ipywidgets>=8.0.0->yfiles-jupyter-graphs) (8.27.0)\n",
            "Requirement already satisfied: traitlets>=4.3.1 in /Users/larissakemicloud.com/Library/Python/3.12/lib/python/site-packages (from ipywidgets>=8.0.0->yfiles-jupyter-graphs) (5.14.3)\n",
            "Requirement already satisfied: widgetsnbextension~=4.0.12 in /Library/Frameworks/Python.framework/Versions/3.12/lib/python3.12/site-packages (from ipywidgets>=8.0.0->yfiles-jupyter-graphs) (4.0.13)\n",
            "Requirement already satisfied: jupyterlab-widgets~=3.0.12 in /Library/Frameworks/Python.framework/Versions/3.12/lib/python3.12/site-packages (from ipywidgets>=8.0.0->yfiles-jupyter-graphs) (3.0.13)\n",
            "Requirement already satisfied: decorator in /Users/larissakemicloud.com/Library/Python/3.12/lib/python/site-packages (from ipython>=6.1.0->ipywidgets>=8.0.0->yfiles-jupyter-graphs) (5.1.1)\n",
            "Requirement already satisfied: jedi>=0.16 in /Users/larissakemicloud.com/Library/Python/3.12/lib/python/site-packages (from ipython>=6.1.0->ipywidgets>=8.0.0->yfiles-jupyter-graphs) (0.19.1)\n",
            "Requirement already satisfied: matplotlib-inline in /Users/larissakemicloud.com/Library/Python/3.12/lib/python/site-packages (from ipython>=6.1.0->ipywidgets>=8.0.0->yfiles-jupyter-graphs) (0.1.7)\n",
            "Requirement already satisfied: prompt-toolkit<3.1.0,>=3.0.41 in /Users/larissakemicloud.com/Library/Python/3.12/lib/python/site-packages (from ipython>=6.1.0->ipywidgets>=8.0.0->yfiles-jupyter-graphs) (3.0.47)\n",
            "Requirement already satisfied: pygments>=2.4.0 in /Users/larissakemicloud.com/Library/Python/3.12/lib/python/site-packages (from ipython>=6.1.0->ipywidgets>=8.0.0->yfiles-jupyter-graphs) (2.18.0)\n",
            "Requirement already satisfied: stack-data in /Users/larissakemicloud.com/Library/Python/3.12/lib/python/site-packages (from ipython>=6.1.0->ipywidgets>=8.0.0->yfiles-jupyter-graphs) (0.6.3)\n",
            "Requirement already satisfied: pexpect>4.3 in /Users/larissakemicloud.com/Library/Python/3.12/lib/python/site-packages (from ipython>=6.1.0->ipywidgets>=8.0.0->yfiles-jupyter-graphs) (4.9.0)\n",
            "Requirement already satisfied: parso<0.9.0,>=0.8.3 in /Users/larissakemicloud.com/Library/Python/3.12/lib/python/site-packages (from jedi>=0.16->ipython>=6.1.0->ipywidgets>=8.0.0->yfiles-jupyter-graphs) (0.8.4)\n",
            "Requirement already satisfied: ptyprocess>=0.5 in /Users/larissakemicloud.com/Library/Python/3.12/lib/python/site-packages (from pexpect>4.3->ipython>=6.1.0->ipywidgets>=8.0.0->yfiles-jupyter-graphs) (0.7.0)\n",
            "Requirement already satisfied: wcwidth in /Users/larissakemicloud.com/Library/Python/3.12/lib/python/site-packages (from prompt-toolkit<3.1.0,>=3.0.41->ipython>=6.1.0->ipywidgets>=8.0.0->yfiles-jupyter-graphs) (0.2.13)\n",
            "Requirement already satisfied: executing>=1.2.0 in /Users/larissakemicloud.com/Library/Python/3.12/lib/python/site-packages (from stack-data->ipython>=6.1.0->ipywidgets>=8.0.0->yfiles-jupyter-graphs) (2.1.0)\n",
            "Requirement already satisfied: asttokens>=2.1.0 in /Users/larissakemicloud.com/Library/Python/3.12/lib/python/site-packages (from stack-data->ipython>=6.1.0->ipywidgets>=8.0.0->yfiles-jupyter-graphs) (2.4.1)\n",
            "Requirement already satisfied: pure-eval in /Users/larissakemicloud.com/Library/Python/3.12/lib/python/site-packages (from stack-data->ipython>=6.1.0->ipywidgets>=8.0.0->yfiles-jupyter-graphs) (0.2.3)\n",
            "Requirement already satisfied: six>=1.12.0 in /Library/Frameworks/Python.framework/Versions/3.12/lib/python3.12/site-packages (from asttokens>=2.1.0->stack-data->ipython>=6.1.0->ipywidgets>=8.0.0->yfiles-jupyter-graphs) (1.16.0)\n",
            "Note: you may need to restart the kernel to use updated packages.\n",
            "Requirement already satisfied: jupyterlab in /Library/Frameworks/Python.framework/Versions/3.12/lib/python3.12/site-packages (4.2.5)\n",
            "Requirement already satisfied: ipywidgets in /Library/Frameworks/Python.framework/Versions/3.12/lib/python3.12/site-packages (8.1.5)\n",
            "Requirement already satisfied: async-lru>=1.0.0 in /Library/Frameworks/Python.framework/Versions/3.12/lib/python3.12/site-packages (from jupyterlab) (2.0.4)\n",
            "Requirement already satisfied: httpx>=0.25.0 in /Library/Frameworks/Python.framework/Versions/3.12/lib/python3.12/site-packages (from jupyterlab) (0.27.2)\n",
            "Requirement already satisfied: ipykernel>=6.5.0 in /Users/larissakemicloud.com/Library/Python/3.12/lib/python/site-packages (from jupyterlab) (6.29.5)\n",
            "Requirement already satisfied: jinja2>=3.0.3 in /Library/Frameworks/Python.framework/Versions/3.12/lib/python3.12/site-packages (from jupyterlab) (3.1.4)\n",
            "Requirement already satisfied: jupyter-core in /Users/larissakemicloud.com/Library/Python/3.12/lib/python/site-packages (from jupyterlab) (5.7.2)\n",
            "Requirement already satisfied: jupyter-lsp>=2.0.0 in /Library/Frameworks/Python.framework/Versions/3.12/lib/python3.12/site-packages (from jupyterlab) (2.2.5)\n",
            "Requirement already satisfied: jupyter-server<3,>=2.4.0 in /Library/Frameworks/Python.framework/Versions/3.12/lib/python3.12/site-packages (from jupyterlab) (2.14.2)\n",
            "Requirement already satisfied: jupyterlab-server<3,>=2.27.1 in /Library/Frameworks/Python.framework/Versions/3.12/lib/python3.12/site-packages (from jupyterlab) (2.27.3)\n",
            "Requirement already satisfied: notebook-shim>=0.2 in /Library/Frameworks/Python.framework/Versions/3.12/lib/python3.12/site-packages (from jupyterlab) (0.2.4)\n",
            "Requirement already satisfied: packaging in /Library/Frameworks/Python.framework/Versions/3.12/lib/python3.12/site-packages (from jupyterlab) (23.2)\n",
            "Requirement already satisfied: setuptools>=40.1.0 in /Library/Frameworks/Python.framework/Versions/3.12/lib/python3.12/site-packages (from jupyterlab) (75.0.0)\n",
            "Requirement already satisfied: tornado>=6.2.0 in /Users/larissakemicloud.com/Library/Python/3.12/lib/python/site-packages (from jupyterlab) (6.4.1)\n",
            "Requirement already satisfied: traitlets in /Users/larissakemicloud.com/Library/Python/3.12/lib/python/site-packages (from jupyterlab) (5.14.3)\n",
            "Requirement already satisfied: comm>=0.1.3 in /Users/larissakemicloud.com/Library/Python/3.12/lib/python/site-packages (from ipywidgets) (0.2.2)\n",
            "Requirement already satisfied: ipython>=6.1.0 in /Users/larissakemicloud.com/Library/Python/3.12/lib/python/site-packages (from ipywidgets) (8.27.0)\n",
            "Requirement already satisfied: widgetsnbextension~=4.0.12 in /Library/Frameworks/Python.framework/Versions/3.12/lib/python3.12/site-packages (from ipywidgets) (4.0.13)\n",
            "Requirement already satisfied: jupyterlab-widgets~=3.0.12 in /Library/Frameworks/Python.framework/Versions/3.12/lib/python3.12/site-packages (from ipywidgets) (3.0.13)\n",
            "Requirement already satisfied: anyio in /Library/Frameworks/Python.framework/Versions/3.12/lib/python3.12/site-packages (from httpx>=0.25.0->jupyterlab) (4.4.0)\n",
            "Requirement already satisfied: certifi in /Library/Frameworks/Python.framework/Versions/3.12/lib/python3.12/site-packages (from httpx>=0.25.0->jupyterlab) (2024.7.4)\n",
            "Requirement already satisfied: httpcore==1.* in /Library/Frameworks/Python.framework/Versions/3.12/lib/python3.12/site-packages (from httpx>=0.25.0->jupyterlab) (1.0.5)\n",
            "Requirement already satisfied: idna in /Library/Frameworks/Python.framework/Versions/3.12/lib/python3.12/site-packages (from httpx>=0.25.0->jupyterlab) (3.7)\n",
            "Requirement already satisfied: sniffio in /Library/Frameworks/Python.framework/Versions/3.12/lib/python3.12/site-packages (from httpx>=0.25.0->jupyterlab) (1.3.1)\n",
            "Requirement already satisfied: h11<0.15,>=0.13 in /Library/Frameworks/Python.framework/Versions/3.12/lib/python3.12/site-packages (from httpcore==1.*->httpx>=0.25.0->jupyterlab) (0.14.0)\n",
            "Requirement already satisfied: appnope in /Users/larissakemicloud.com/Library/Python/3.12/lib/python/site-packages (from ipykernel>=6.5.0->jupyterlab) (0.1.4)\n",
            "Requirement already satisfied: debugpy>=1.6.5 in /Users/larissakemicloud.com/Library/Python/3.12/lib/python/site-packages (from ipykernel>=6.5.0->jupyterlab) (1.8.5)\n",
            "Requirement already satisfied: jupyter-client>=6.1.12 in /Users/larissakemicloud.com/Library/Python/3.12/lib/python/site-packages (from ipykernel>=6.5.0->jupyterlab) (8.6.2)\n",
            "Requirement already satisfied: matplotlib-inline>=0.1 in /Users/larissakemicloud.com/Library/Python/3.12/lib/python/site-packages (from ipykernel>=6.5.0->jupyterlab) (0.1.7)\n",
            "Requirement already satisfied: nest-asyncio in /Users/larissakemicloud.com/Library/Python/3.12/lib/python/site-packages (from ipykernel>=6.5.0->jupyterlab) (1.6.0)\n",
            "Requirement already satisfied: psutil in /Users/larissakemicloud.com/Library/Python/3.12/lib/python/site-packages (from ipykernel>=6.5.0->jupyterlab) (6.0.0)\n",
            "Requirement already satisfied: pyzmq>=24 in /Users/larissakemicloud.com/Library/Python/3.12/lib/python/site-packages (from ipykernel>=6.5.0->jupyterlab) (26.2.0)\n",
            "Requirement already satisfied: decorator in /Users/larissakemicloud.com/Library/Python/3.12/lib/python/site-packages (from ipython>=6.1.0->ipywidgets) (5.1.1)\n",
            "Requirement already satisfied: jedi>=0.16 in /Users/larissakemicloud.com/Library/Python/3.12/lib/python/site-packages (from ipython>=6.1.0->ipywidgets) (0.19.1)\n",
            "Requirement already satisfied: prompt-toolkit<3.1.0,>=3.0.41 in /Users/larissakemicloud.com/Library/Python/3.12/lib/python/site-packages (from ipython>=6.1.0->ipywidgets) (3.0.47)\n",
            "Requirement already satisfied: pygments>=2.4.0 in /Users/larissakemicloud.com/Library/Python/3.12/lib/python/site-packages (from ipython>=6.1.0->ipywidgets) (2.18.0)\n",
            "Requirement already satisfied: stack-data in /Users/larissakemicloud.com/Library/Python/3.12/lib/python/site-packages (from ipython>=6.1.0->ipywidgets) (0.6.3)\n",
            "Requirement already satisfied: pexpect>4.3 in /Users/larissakemicloud.com/Library/Python/3.12/lib/python/site-packages (from ipython>=6.1.0->ipywidgets) (4.9.0)\n",
            "Requirement already satisfied: MarkupSafe>=2.0 in /Library/Frameworks/Python.framework/Versions/3.12/lib/python3.12/site-packages (from jinja2>=3.0.3->jupyterlab) (2.1.5)\n",
            "Requirement already satisfied: platformdirs>=2.5 in /Users/larissakemicloud.com/Library/Python/3.12/lib/python/site-packages (from jupyter-core->jupyterlab) (4.3.3)\n",
            "Requirement already satisfied: argon2-cffi>=21.1 in /Library/Frameworks/Python.framework/Versions/3.12/lib/python3.12/site-packages (from jupyter-server<3,>=2.4.0->jupyterlab) (23.1.0)\n",
            "Requirement already satisfied: jupyter-events>=0.9.0 in /Library/Frameworks/Python.framework/Versions/3.12/lib/python3.12/site-packages (from jupyter-server<3,>=2.4.0->jupyterlab) (0.10.0)\n",
            "Requirement already satisfied: jupyter-server-terminals>=0.4.4 in /Library/Frameworks/Python.framework/Versions/3.12/lib/python3.12/site-packages (from jupyter-server<3,>=2.4.0->jupyterlab) (0.5.3)\n",
            "Requirement already satisfied: nbconvert>=6.4.4 in /Library/Frameworks/Python.framework/Versions/3.12/lib/python3.12/site-packages (from jupyter-server<3,>=2.4.0->jupyterlab) (7.16.4)\n",
            "Requirement already satisfied: nbformat>=5.3.0 in /Library/Frameworks/Python.framework/Versions/3.12/lib/python3.12/site-packages (from jupyter-server<3,>=2.4.0->jupyterlab) (5.10.4)\n",
            "Requirement already satisfied: overrides>=5.0 in /Library/Frameworks/Python.framework/Versions/3.12/lib/python3.12/site-packages (from jupyter-server<3,>=2.4.0->jupyterlab) (7.7.0)\n",
            "Requirement already satisfied: prometheus-client>=0.9 in /Library/Frameworks/Python.framework/Versions/3.12/lib/python3.12/site-packages (from jupyter-server<3,>=2.4.0->jupyterlab) (0.21.0)\n",
            "Requirement already satisfied: send2trash>=1.8.2 in /Library/Frameworks/Python.framework/Versions/3.12/lib/python3.12/site-packages (from jupyter-server<3,>=2.4.0->jupyterlab) (1.8.3)\n",
            "Requirement already satisfied: terminado>=0.8.3 in /Library/Frameworks/Python.framework/Versions/3.12/lib/python3.12/site-packages (from jupyter-server<3,>=2.4.0->jupyterlab) (0.18.1)\n",
            "Requirement already satisfied: websocket-client>=1.7 in /Library/Frameworks/Python.framework/Versions/3.12/lib/python3.12/site-packages (from jupyter-server<3,>=2.4.0->jupyterlab) (1.8.0)\n",
            "Requirement already satisfied: babel>=2.10 in /Library/Frameworks/Python.framework/Versions/3.12/lib/python3.12/site-packages (from jupyterlab-server<3,>=2.27.1->jupyterlab) (2.16.0)\n",
            "Requirement already satisfied: json5>=0.9.0 in /Library/Frameworks/Python.framework/Versions/3.12/lib/python3.12/site-packages (from jupyterlab-server<3,>=2.27.1->jupyterlab) (0.9.25)\n",
            "Requirement already satisfied: jsonschema>=4.18.0 in /Library/Frameworks/Python.framework/Versions/3.12/lib/python3.12/site-packages (from jupyterlab-server<3,>=2.27.1->jupyterlab) (4.23.0)\n",
            "Requirement already satisfied: requests>=2.31 in /Library/Frameworks/Python.framework/Versions/3.12/lib/python3.12/site-packages (from jupyterlab-server<3,>=2.27.1->jupyterlab) (2.32.3)\n",
            "Requirement already satisfied: argon2-cffi-bindings in /Library/Frameworks/Python.framework/Versions/3.12/lib/python3.12/site-packages (from argon2-cffi>=21.1->jupyter-server<3,>=2.4.0->jupyterlab) (21.2.0)\n",
            "Requirement already satisfied: parso<0.9.0,>=0.8.3 in /Users/larissakemicloud.com/Library/Python/3.12/lib/python/site-packages (from jedi>=0.16->ipython>=6.1.0->ipywidgets) (0.8.4)\n",
            "Requirement already satisfied: attrs>=22.2.0 in /Library/Frameworks/Python.framework/Versions/3.12/lib/python3.12/site-packages (from jsonschema>=4.18.0->jupyterlab-server<3,>=2.27.1->jupyterlab) (23.2.0)\n",
            "Requirement already satisfied: jsonschema-specifications>=2023.03.6 in /Library/Frameworks/Python.framework/Versions/3.12/lib/python3.12/site-packages (from jsonschema>=4.18.0->jupyterlab-server<3,>=2.27.1->jupyterlab) (2023.12.1)\n",
            "Requirement already satisfied: referencing>=0.28.4 in /Library/Frameworks/Python.framework/Versions/3.12/lib/python3.12/site-packages (from jsonschema>=4.18.0->jupyterlab-server<3,>=2.27.1->jupyterlab) (0.35.1)\n",
            "Requirement already satisfied: rpds-py>=0.7.1 in /Library/Frameworks/Python.framework/Versions/3.12/lib/python3.12/site-packages (from jsonschema>=4.18.0->jupyterlab-server<3,>=2.27.1->jupyterlab) (0.20.0)\n",
            "Requirement already satisfied: python-dateutil>=2.8.2 in /Library/Frameworks/Python.framework/Versions/3.12/lib/python3.12/site-packages (from jupyter-client>=6.1.12->ipykernel>=6.5.0->jupyterlab) (2.9.0.post0)\n",
            "Requirement already satisfied: python-json-logger>=2.0.4 in /Library/Frameworks/Python.framework/Versions/3.12/lib/python3.12/site-packages (from jupyter-events>=0.9.0->jupyter-server<3,>=2.4.0->jupyterlab) (2.0.7)\n",
            "Requirement already satisfied: pyyaml>=5.3 in /Library/Frameworks/Python.framework/Versions/3.12/lib/python3.12/site-packages (from jupyter-events>=0.9.0->jupyter-server<3,>=2.4.0->jupyterlab) (6.0.2)\n",
            "Requirement already satisfied: rfc3339-validator in /Library/Frameworks/Python.framework/Versions/3.12/lib/python3.12/site-packages (from jupyter-events>=0.9.0->jupyter-server<3,>=2.4.0->jupyterlab) (0.1.4)\n",
            "Requirement already satisfied: rfc3986-validator>=0.1.1 in /Library/Frameworks/Python.framework/Versions/3.12/lib/python3.12/site-packages (from jupyter-events>=0.9.0->jupyter-server<3,>=2.4.0->jupyterlab) (0.1.1)\n",
            "Requirement already satisfied: beautifulsoup4 in /Library/Frameworks/Python.framework/Versions/3.12/lib/python3.12/site-packages (from nbconvert>=6.4.4->jupyter-server<3,>=2.4.0->jupyterlab) (4.12.3)\n",
            "Requirement already satisfied: bleach!=5.0.0 in /Library/Frameworks/Python.framework/Versions/3.12/lib/python3.12/site-packages (from nbconvert>=6.4.4->jupyter-server<3,>=2.4.0->jupyterlab) (6.1.0)\n",
            "Requirement already satisfied: defusedxml in /Library/Frameworks/Python.framework/Versions/3.12/lib/python3.12/site-packages (from nbconvert>=6.4.4->jupyter-server<3,>=2.4.0->jupyterlab) (0.7.1)\n",
            "Requirement already satisfied: jupyterlab-pygments in /Library/Frameworks/Python.framework/Versions/3.12/lib/python3.12/site-packages (from nbconvert>=6.4.4->jupyter-server<3,>=2.4.0->jupyterlab) (0.3.0)\n",
            "Requirement already satisfied: mistune<4,>=2.0.3 in /Library/Frameworks/Python.framework/Versions/3.12/lib/python3.12/site-packages (from nbconvert>=6.4.4->jupyter-server<3,>=2.4.0->jupyterlab) (3.0.2)\n",
            "Requirement already satisfied: nbclient>=0.5.0 in /Library/Frameworks/Python.framework/Versions/3.12/lib/python3.12/site-packages (from nbconvert>=6.4.4->jupyter-server<3,>=2.4.0->jupyterlab) (0.10.0)\n",
            "Requirement already satisfied: pandocfilters>=1.4.1 in /Library/Frameworks/Python.framework/Versions/3.12/lib/python3.12/site-packages (from nbconvert>=6.4.4->jupyter-server<3,>=2.4.0->jupyterlab) (1.5.1)\n",
            "Requirement already satisfied: tinycss2 in /Library/Frameworks/Python.framework/Versions/3.12/lib/python3.12/site-packages (from nbconvert>=6.4.4->jupyter-server<3,>=2.4.0->jupyterlab) (1.3.0)\n",
            "Requirement already satisfied: fastjsonschema>=2.15 in /Library/Frameworks/Python.framework/Versions/3.12/lib/python3.12/site-packages (from nbformat>=5.3.0->jupyter-server<3,>=2.4.0->jupyterlab) (2.20.0)\n",
            "Requirement already satisfied: ptyprocess>=0.5 in /Users/larissakemicloud.com/Library/Python/3.12/lib/python/site-packages (from pexpect>4.3->ipython>=6.1.0->ipywidgets) (0.7.0)\n",
            "Requirement already satisfied: wcwidth in /Users/larissakemicloud.com/Library/Python/3.12/lib/python/site-packages (from prompt-toolkit<3.1.0,>=3.0.41->ipython>=6.1.0->ipywidgets) (0.2.13)\n",
            "Requirement already satisfied: charset-normalizer<4,>=2 in /Library/Frameworks/Python.framework/Versions/3.12/lib/python3.12/site-packages (from requests>=2.31->jupyterlab-server<3,>=2.27.1->jupyterlab) (3.3.2)\n",
            "Requirement already satisfied: urllib3<3,>=1.21.1 in /Library/Frameworks/Python.framework/Versions/3.12/lib/python3.12/site-packages (from requests>=2.31->jupyterlab-server<3,>=2.27.1->jupyterlab) (2.2.2)\n",
            "Requirement already satisfied: executing>=1.2.0 in /Users/larissakemicloud.com/Library/Python/3.12/lib/python/site-packages (from stack-data->ipython>=6.1.0->ipywidgets) (2.1.0)\n",
            "Requirement already satisfied: asttokens>=2.1.0 in /Users/larissakemicloud.com/Library/Python/3.12/lib/python/site-packages (from stack-data->ipython>=6.1.0->ipywidgets) (2.4.1)\n",
            "Requirement already satisfied: pure-eval in /Users/larissakemicloud.com/Library/Python/3.12/lib/python/site-packages (from stack-data->ipython>=6.1.0->ipywidgets) (0.2.3)\n",
            "Requirement already satisfied: six>=1.12.0 in /Library/Frameworks/Python.framework/Versions/3.12/lib/python3.12/site-packages (from asttokens>=2.1.0->stack-data->ipython>=6.1.0->ipywidgets) (1.16.0)\n",
            "Requirement already satisfied: webencodings in /Library/Frameworks/Python.framework/Versions/3.12/lib/python3.12/site-packages (from bleach!=5.0.0->nbconvert>=6.4.4->jupyter-server<3,>=2.4.0->jupyterlab) (0.5.1)\n",
            "Requirement already satisfied: fqdn in /Library/Frameworks/Python.framework/Versions/3.12/lib/python3.12/site-packages (from jsonschema[format-nongpl]>=4.18.0->jupyter-events>=0.9.0->jupyter-server<3,>=2.4.0->jupyterlab) (1.5.1)\n",
            "Requirement already satisfied: isoduration in /Library/Frameworks/Python.framework/Versions/3.12/lib/python3.12/site-packages (from jsonschema[format-nongpl]>=4.18.0->jupyter-events>=0.9.0->jupyter-server<3,>=2.4.0->jupyterlab) (20.11.0)\n",
            "Requirement already satisfied: jsonpointer>1.13 in /Library/Frameworks/Python.framework/Versions/3.12/lib/python3.12/site-packages (from jsonschema[format-nongpl]>=4.18.0->jupyter-events>=0.9.0->jupyter-server<3,>=2.4.0->jupyterlab) (3.0.0)\n",
            "Requirement already satisfied: uri-template in /Library/Frameworks/Python.framework/Versions/3.12/lib/python3.12/site-packages (from jsonschema[format-nongpl]>=4.18.0->jupyter-events>=0.9.0->jupyter-server<3,>=2.4.0->jupyterlab) (1.3.0)\n",
            "Requirement already satisfied: webcolors>=24.6.0 in /Library/Frameworks/Python.framework/Versions/3.12/lib/python3.12/site-packages (from jsonschema[format-nongpl]>=4.18.0->jupyter-events>=0.9.0->jupyter-server<3,>=2.4.0->jupyterlab) (24.8.0)\n",
            "Requirement already satisfied: cffi>=1.0.1 in /Library/Frameworks/Python.framework/Versions/3.12/lib/python3.12/site-packages (from argon2-cffi-bindings->argon2-cffi>=21.1->jupyter-server<3,>=2.4.0->jupyterlab) (1.17.1)\n",
            "Requirement already satisfied: soupsieve>1.2 in /Library/Frameworks/Python.framework/Versions/3.12/lib/python3.12/site-packages (from beautifulsoup4->nbconvert>=6.4.4->jupyter-server<3,>=2.4.0->jupyterlab) (2.6)\n",
            "Requirement already satisfied: pycparser in /Library/Frameworks/Python.framework/Versions/3.12/lib/python3.12/site-packages (from cffi>=1.0.1->argon2-cffi-bindings->argon2-cffi>=21.1->jupyter-server<3,>=2.4.0->jupyterlab) (2.22)\n",
            "Requirement already satisfied: arrow>=0.15.0 in /Library/Frameworks/Python.framework/Versions/3.12/lib/python3.12/site-packages (from isoduration->jsonschema[format-nongpl]>=4.18.0->jupyter-events>=0.9.0->jupyter-server<3,>=2.4.0->jupyterlab) (1.3.0)\n",
            "Requirement already satisfied: types-python-dateutil>=2.8.10 in /Library/Frameworks/Python.framework/Versions/3.12/lib/python3.12/site-packages (from arrow>=0.15.0->isoduration->jsonschema[format-nongpl]>=4.18.0->jupyter-events>=0.9.0->jupyter-server<3,>=2.4.0->jupyterlab) (2.9.0.20240906)\n",
            "Note: you may need to restart the kernel to use updated packages.\n",
            "Requirement already satisfied: jupyterlab in /Library/Frameworks/Python.framework/Versions/3.12/lib/python3.12/site-packages (4.2.5)\n",
            "Requirement already satisfied: async-lru>=1.0.0 in /Library/Frameworks/Python.framework/Versions/3.12/lib/python3.12/site-packages (from jupyterlab) (2.0.4)\n",
            "Requirement already satisfied: httpx>=0.25.0 in /Library/Frameworks/Python.framework/Versions/3.12/lib/python3.12/site-packages (from jupyterlab) (0.27.2)\n",
            "Requirement already satisfied: ipykernel>=6.5.0 in /Users/larissakemicloud.com/Library/Python/3.12/lib/python/site-packages (from jupyterlab) (6.29.5)\n",
            "Requirement already satisfied: jinja2>=3.0.3 in /Library/Frameworks/Python.framework/Versions/3.12/lib/python3.12/site-packages (from jupyterlab) (3.1.4)\n",
            "Requirement already satisfied: jupyter-core in /Users/larissakemicloud.com/Library/Python/3.12/lib/python/site-packages (from jupyterlab) (5.7.2)\n",
            "Requirement already satisfied: jupyter-lsp>=2.0.0 in /Library/Frameworks/Python.framework/Versions/3.12/lib/python3.12/site-packages (from jupyterlab) (2.2.5)\n",
            "Requirement already satisfied: jupyter-server<3,>=2.4.0 in /Library/Frameworks/Python.framework/Versions/3.12/lib/python3.12/site-packages (from jupyterlab) (2.14.2)\n",
            "Requirement already satisfied: jupyterlab-server<3,>=2.27.1 in /Library/Frameworks/Python.framework/Versions/3.12/lib/python3.12/site-packages (from jupyterlab) (2.27.3)\n",
            "Requirement already satisfied: notebook-shim>=0.2 in /Library/Frameworks/Python.framework/Versions/3.12/lib/python3.12/site-packages (from jupyterlab) (0.2.4)\n",
            "Requirement already satisfied: packaging in /Library/Frameworks/Python.framework/Versions/3.12/lib/python3.12/site-packages (from jupyterlab) (23.2)\n",
            "Requirement already satisfied: setuptools>=40.1.0 in /Library/Frameworks/Python.framework/Versions/3.12/lib/python3.12/site-packages (from jupyterlab) (75.0.0)\n",
            "Requirement already satisfied: tornado>=6.2.0 in /Users/larissakemicloud.com/Library/Python/3.12/lib/python/site-packages (from jupyterlab) (6.4.1)\n",
            "Requirement already satisfied: traitlets in /Users/larissakemicloud.com/Library/Python/3.12/lib/python/site-packages (from jupyterlab) (5.14.3)\n",
            "Requirement already satisfied: anyio in /Library/Frameworks/Python.framework/Versions/3.12/lib/python3.12/site-packages (from httpx>=0.25.0->jupyterlab) (4.4.0)\n",
            "Requirement already satisfied: certifi in /Library/Frameworks/Python.framework/Versions/3.12/lib/python3.12/site-packages (from httpx>=0.25.0->jupyterlab) (2024.7.4)\n",
            "Requirement already satisfied: httpcore==1.* in /Library/Frameworks/Python.framework/Versions/3.12/lib/python3.12/site-packages (from httpx>=0.25.0->jupyterlab) (1.0.5)\n",
            "Requirement already satisfied: idna in /Library/Frameworks/Python.framework/Versions/3.12/lib/python3.12/site-packages (from httpx>=0.25.0->jupyterlab) (3.7)\n",
            "Requirement already satisfied: sniffio in /Library/Frameworks/Python.framework/Versions/3.12/lib/python3.12/site-packages (from httpx>=0.25.0->jupyterlab) (1.3.1)\n",
            "Requirement already satisfied: h11<0.15,>=0.13 in /Library/Frameworks/Python.framework/Versions/3.12/lib/python3.12/site-packages (from httpcore==1.*->httpx>=0.25.0->jupyterlab) (0.14.0)\n",
            "Requirement already satisfied: appnope in /Users/larissakemicloud.com/Library/Python/3.12/lib/python/site-packages (from ipykernel>=6.5.0->jupyterlab) (0.1.4)\n",
            "Requirement already satisfied: comm>=0.1.1 in /Users/larissakemicloud.com/Library/Python/3.12/lib/python/site-packages (from ipykernel>=6.5.0->jupyterlab) (0.2.2)\n",
            "Requirement already satisfied: debugpy>=1.6.5 in /Users/larissakemicloud.com/Library/Python/3.12/lib/python/site-packages (from ipykernel>=6.5.0->jupyterlab) (1.8.5)\n",
            "Requirement already satisfied: ipython>=7.23.1 in /Users/larissakemicloud.com/Library/Python/3.12/lib/python/site-packages (from ipykernel>=6.5.0->jupyterlab) (8.27.0)\n",
            "Requirement already satisfied: jupyter-client>=6.1.12 in /Users/larissakemicloud.com/Library/Python/3.12/lib/python/site-packages (from ipykernel>=6.5.0->jupyterlab) (8.6.2)\n",
            "Requirement already satisfied: matplotlib-inline>=0.1 in /Users/larissakemicloud.com/Library/Python/3.12/lib/python/site-packages (from ipykernel>=6.5.0->jupyterlab) (0.1.7)\n",
            "Requirement already satisfied: nest-asyncio in /Users/larissakemicloud.com/Library/Python/3.12/lib/python/site-packages (from ipykernel>=6.5.0->jupyterlab) (1.6.0)\n",
            "Requirement already satisfied: psutil in /Users/larissakemicloud.com/Library/Python/3.12/lib/python/site-packages (from ipykernel>=6.5.0->jupyterlab) (6.0.0)\n",
            "Requirement already satisfied: pyzmq>=24 in /Users/larissakemicloud.com/Library/Python/3.12/lib/python/site-packages (from ipykernel>=6.5.0->jupyterlab) (26.2.0)\n",
            "Requirement already satisfied: MarkupSafe>=2.0 in /Library/Frameworks/Python.framework/Versions/3.12/lib/python3.12/site-packages (from jinja2>=3.0.3->jupyterlab) (2.1.5)\n",
            "Requirement already satisfied: platformdirs>=2.5 in /Users/larissakemicloud.com/Library/Python/3.12/lib/python/site-packages (from jupyter-core->jupyterlab) (4.3.3)\n",
            "Requirement already satisfied: argon2-cffi>=21.1 in /Library/Frameworks/Python.framework/Versions/3.12/lib/python3.12/site-packages (from jupyter-server<3,>=2.4.0->jupyterlab) (23.1.0)\n",
            "Requirement already satisfied: jupyter-events>=0.9.0 in /Library/Frameworks/Python.framework/Versions/3.12/lib/python3.12/site-packages (from jupyter-server<3,>=2.4.0->jupyterlab) (0.10.0)\n",
            "Requirement already satisfied: jupyter-server-terminals>=0.4.4 in /Library/Frameworks/Python.framework/Versions/3.12/lib/python3.12/site-packages (from jupyter-server<3,>=2.4.0->jupyterlab) (0.5.3)\n",
            "Requirement already satisfied: nbconvert>=6.4.4 in /Library/Frameworks/Python.framework/Versions/3.12/lib/python3.12/site-packages (from jupyter-server<3,>=2.4.0->jupyterlab) (7.16.4)\n",
            "Requirement already satisfied: nbformat>=5.3.0 in /Library/Frameworks/Python.framework/Versions/3.12/lib/python3.12/site-packages (from jupyter-server<3,>=2.4.0->jupyterlab) (5.10.4)\n",
            "Requirement already satisfied: overrides>=5.0 in /Library/Frameworks/Python.framework/Versions/3.12/lib/python3.12/site-packages (from jupyter-server<3,>=2.4.0->jupyterlab) (7.7.0)\n",
            "Requirement already satisfied: prometheus-client>=0.9 in /Library/Frameworks/Python.framework/Versions/3.12/lib/python3.12/site-packages (from jupyter-server<3,>=2.4.0->jupyterlab) (0.21.0)\n",
            "Requirement already satisfied: send2trash>=1.8.2 in /Library/Frameworks/Python.framework/Versions/3.12/lib/python3.12/site-packages (from jupyter-server<3,>=2.4.0->jupyterlab) (1.8.3)\n",
            "Requirement already satisfied: terminado>=0.8.3 in /Library/Frameworks/Python.framework/Versions/3.12/lib/python3.12/site-packages (from jupyter-server<3,>=2.4.0->jupyterlab) (0.18.1)\n",
            "Requirement already satisfied: websocket-client>=1.7 in /Library/Frameworks/Python.framework/Versions/3.12/lib/python3.12/site-packages (from jupyter-server<3,>=2.4.0->jupyterlab) (1.8.0)\n",
            "Requirement already satisfied: babel>=2.10 in /Library/Frameworks/Python.framework/Versions/3.12/lib/python3.12/site-packages (from jupyterlab-server<3,>=2.27.1->jupyterlab) (2.16.0)\n",
            "Requirement already satisfied: json5>=0.9.0 in /Library/Frameworks/Python.framework/Versions/3.12/lib/python3.12/site-packages (from jupyterlab-server<3,>=2.27.1->jupyterlab) (0.9.25)\n",
            "Requirement already satisfied: jsonschema>=4.18.0 in /Library/Frameworks/Python.framework/Versions/3.12/lib/python3.12/site-packages (from jupyterlab-server<3,>=2.27.1->jupyterlab) (4.23.0)\n",
            "Requirement already satisfied: requests>=2.31 in /Library/Frameworks/Python.framework/Versions/3.12/lib/python3.12/site-packages (from jupyterlab-server<3,>=2.27.1->jupyterlab) (2.32.3)\n",
            "Requirement already satisfied: argon2-cffi-bindings in /Library/Frameworks/Python.framework/Versions/3.12/lib/python3.12/site-packages (from argon2-cffi>=21.1->jupyter-server<3,>=2.4.0->jupyterlab) (21.2.0)\n",
            "Requirement already satisfied: decorator in /Users/larissakemicloud.com/Library/Python/3.12/lib/python/site-packages (from ipython>=7.23.1->ipykernel>=6.5.0->jupyterlab) (5.1.1)\n",
            "Requirement already satisfied: jedi>=0.16 in /Users/larissakemicloud.com/Library/Python/3.12/lib/python/site-packages (from ipython>=7.23.1->ipykernel>=6.5.0->jupyterlab) (0.19.1)\n",
            "Requirement already satisfied: prompt-toolkit<3.1.0,>=3.0.41 in /Users/larissakemicloud.com/Library/Python/3.12/lib/python/site-packages (from ipython>=7.23.1->ipykernel>=6.5.0->jupyterlab) (3.0.47)\n",
            "Requirement already satisfied: pygments>=2.4.0 in /Users/larissakemicloud.com/Library/Python/3.12/lib/python/site-packages (from ipython>=7.23.1->ipykernel>=6.5.0->jupyterlab) (2.18.0)\n",
            "Requirement already satisfied: stack-data in /Users/larissakemicloud.com/Library/Python/3.12/lib/python/site-packages (from ipython>=7.23.1->ipykernel>=6.5.0->jupyterlab) (0.6.3)\n",
            "Requirement already satisfied: pexpect>4.3 in /Users/larissakemicloud.com/Library/Python/3.12/lib/python/site-packages (from ipython>=7.23.1->ipykernel>=6.5.0->jupyterlab) (4.9.0)\n",
            "Requirement already satisfied: attrs>=22.2.0 in /Library/Frameworks/Python.framework/Versions/3.12/lib/python3.12/site-packages (from jsonschema>=4.18.0->jupyterlab-server<3,>=2.27.1->jupyterlab) (23.2.0)\n",
            "Requirement already satisfied: jsonschema-specifications>=2023.03.6 in /Library/Frameworks/Python.framework/Versions/3.12/lib/python3.12/site-packages (from jsonschema>=4.18.0->jupyterlab-server<3,>=2.27.1->jupyterlab) (2023.12.1)\n",
            "Requirement already satisfied: referencing>=0.28.4 in /Library/Frameworks/Python.framework/Versions/3.12/lib/python3.12/site-packages (from jsonschema>=4.18.0->jupyterlab-server<3,>=2.27.1->jupyterlab) (0.35.1)\n",
            "Requirement already satisfied: rpds-py>=0.7.1 in /Library/Frameworks/Python.framework/Versions/3.12/lib/python3.12/site-packages (from jsonschema>=4.18.0->jupyterlab-server<3,>=2.27.1->jupyterlab) (0.20.0)\n",
            "Requirement already satisfied: python-dateutil>=2.8.2 in /Library/Frameworks/Python.framework/Versions/3.12/lib/python3.12/site-packages (from jupyter-client>=6.1.12->ipykernel>=6.5.0->jupyterlab) (2.9.0.post0)\n",
            "Requirement already satisfied: python-json-logger>=2.0.4 in /Library/Frameworks/Python.framework/Versions/3.12/lib/python3.12/site-packages (from jupyter-events>=0.9.0->jupyter-server<3,>=2.4.0->jupyterlab) (2.0.7)\n",
            "Requirement already satisfied: pyyaml>=5.3 in /Library/Frameworks/Python.framework/Versions/3.12/lib/python3.12/site-packages (from jupyter-events>=0.9.0->jupyter-server<3,>=2.4.0->jupyterlab) (6.0.2)\n",
            "Requirement already satisfied: rfc3339-validator in /Library/Frameworks/Python.framework/Versions/3.12/lib/python3.12/site-packages (from jupyter-events>=0.9.0->jupyter-server<3,>=2.4.0->jupyterlab) (0.1.4)\n",
            "Requirement already satisfied: rfc3986-validator>=0.1.1 in /Library/Frameworks/Python.framework/Versions/3.12/lib/python3.12/site-packages (from jupyter-events>=0.9.0->jupyter-server<3,>=2.4.0->jupyterlab) (0.1.1)\n",
            "Requirement already satisfied: beautifulsoup4 in /Library/Frameworks/Python.framework/Versions/3.12/lib/python3.12/site-packages (from nbconvert>=6.4.4->jupyter-server<3,>=2.4.0->jupyterlab) (4.12.3)\n",
            "Requirement already satisfied: bleach!=5.0.0 in /Library/Frameworks/Python.framework/Versions/3.12/lib/python3.12/site-packages (from nbconvert>=6.4.4->jupyter-server<3,>=2.4.0->jupyterlab) (6.1.0)\n",
            "Requirement already satisfied: defusedxml in /Library/Frameworks/Python.framework/Versions/3.12/lib/python3.12/site-packages (from nbconvert>=6.4.4->jupyter-server<3,>=2.4.0->jupyterlab) (0.7.1)\n",
            "Requirement already satisfied: jupyterlab-pygments in /Library/Frameworks/Python.framework/Versions/3.12/lib/python3.12/site-packages (from nbconvert>=6.4.4->jupyter-server<3,>=2.4.0->jupyterlab) (0.3.0)\n",
            "Requirement already satisfied: mistune<4,>=2.0.3 in /Library/Frameworks/Python.framework/Versions/3.12/lib/python3.12/site-packages (from nbconvert>=6.4.4->jupyter-server<3,>=2.4.0->jupyterlab) (3.0.2)\n",
            "Requirement already satisfied: nbclient>=0.5.0 in /Library/Frameworks/Python.framework/Versions/3.12/lib/python3.12/site-packages (from nbconvert>=6.4.4->jupyter-server<3,>=2.4.0->jupyterlab) (0.10.0)\n",
            "Requirement already satisfied: pandocfilters>=1.4.1 in /Library/Frameworks/Python.framework/Versions/3.12/lib/python3.12/site-packages (from nbconvert>=6.4.4->jupyter-server<3,>=2.4.0->jupyterlab) (1.5.1)\n",
            "Requirement already satisfied: tinycss2 in /Library/Frameworks/Python.framework/Versions/3.12/lib/python3.12/site-packages (from nbconvert>=6.4.4->jupyter-server<3,>=2.4.0->jupyterlab) (1.3.0)\n",
            "Requirement already satisfied: fastjsonschema>=2.15 in /Library/Frameworks/Python.framework/Versions/3.12/lib/python3.12/site-packages (from nbformat>=5.3.0->jupyter-server<3,>=2.4.0->jupyterlab) (2.20.0)\n",
            "Requirement already satisfied: charset-normalizer<4,>=2 in /Library/Frameworks/Python.framework/Versions/3.12/lib/python3.12/site-packages (from requests>=2.31->jupyterlab-server<3,>=2.27.1->jupyterlab) (3.3.2)\n",
            "Requirement already satisfied: urllib3<3,>=1.21.1 in /Library/Frameworks/Python.framework/Versions/3.12/lib/python3.12/site-packages (from requests>=2.31->jupyterlab-server<3,>=2.27.1->jupyterlab) (2.2.2)\n",
            "Requirement already satisfied: ptyprocess in /Users/larissakemicloud.com/Library/Python/3.12/lib/python/site-packages (from terminado>=0.8.3->jupyter-server<3,>=2.4.0->jupyterlab) (0.7.0)\n",
            "Requirement already satisfied: six>=1.9.0 in /Library/Frameworks/Python.framework/Versions/3.12/lib/python3.12/site-packages (from bleach!=5.0.0->nbconvert>=6.4.4->jupyter-server<3,>=2.4.0->jupyterlab) (1.16.0)\n",
            "Requirement already satisfied: webencodings in /Library/Frameworks/Python.framework/Versions/3.12/lib/python3.12/site-packages (from bleach!=5.0.0->nbconvert>=6.4.4->jupyter-server<3,>=2.4.0->jupyterlab) (0.5.1)\n",
            "Requirement already satisfied: parso<0.9.0,>=0.8.3 in /Users/larissakemicloud.com/Library/Python/3.12/lib/python/site-packages (from jedi>=0.16->ipython>=7.23.1->ipykernel>=6.5.0->jupyterlab) (0.8.4)\n",
            "Requirement already satisfied: fqdn in /Library/Frameworks/Python.framework/Versions/3.12/lib/python3.12/site-packages (from jsonschema[format-nongpl]>=4.18.0->jupyter-events>=0.9.0->jupyter-server<3,>=2.4.0->jupyterlab) (1.5.1)\n",
            "Requirement already satisfied: isoduration in /Library/Frameworks/Python.framework/Versions/3.12/lib/python3.12/site-packages (from jsonschema[format-nongpl]>=4.18.0->jupyter-events>=0.9.0->jupyter-server<3,>=2.4.0->jupyterlab) (20.11.0)\n",
            "Requirement already satisfied: jsonpointer>1.13 in /Library/Frameworks/Python.framework/Versions/3.12/lib/python3.12/site-packages (from jsonschema[format-nongpl]>=4.18.0->jupyter-events>=0.9.0->jupyter-server<3,>=2.4.0->jupyterlab) (3.0.0)\n",
            "Requirement already satisfied: uri-template in /Library/Frameworks/Python.framework/Versions/3.12/lib/python3.12/site-packages (from jsonschema[format-nongpl]>=4.18.0->jupyter-events>=0.9.0->jupyter-server<3,>=2.4.0->jupyterlab) (1.3.0)\n",
            "Requirement already satisfied: webcolors>=24.6.0 in /Library/Frameworks/Python.framework/Versions/3.12/lib/python3.12/site-packages (from jsonschema[format-nongpl]>=4.18.0->jupyter-events>=0.9.0->jupyter-server<3,>=2.4.0->jupyterlab) (24.8.0)\n",
            "Requirement already satisfied: wcwidth in /Users/larissakemicloud.com/Library/Python/3.12/lib/python/site-packages (from prompt-toolkit<3.1.0,>=3.0.41->ipython>=7.23.1->ipykernel>=6.5.0->jupyterlab) (0.2.13)\n",
            "Requirement already satisfied: cffi>=1.0.1 in /Library/Frameworks/Python.framework/Versions/3.12/lib/python3.12/site-packages (from argon2-cffi-bindings->argon2-cffi>=21.1->jupyter-server<3,>=2.4.0->jupyterlab) (1.17.1)\n",
            "Requirement already satisfied: soupsieve>1.2 in /Library/Frameworks/Python.framework/Versions/3.12/lib/python3.12/site-packages (from beautifulsoup4->nbconvert>=6.4.4->jupyter-server<3,>=2.4.0->jupyterlab) (2.6)\n",
            "Requirement already satisfied: executing>=1.2.0 in /Users/larissakemicloud.com/Library/Python/3.12/lib/python/site-packages (from stack-data->ipython>=7.23.1->ipykernel>=6.5.0->jupyterlab) (2.1.0)\n",
            "Requirement already satisfied: asttokens>=2.1.0 in /Users/larissakemicloud.com/Library/Python/3.12/lib/python/site-packages (from stack-data->ipython>=7.23.1->ipykernel>=6.5.0->jupyterlab) (2.4.1)\n",
            "Requirement already satisfied: pure-eval in /Users/larissakemicloud.com/Library/Python/3.12/lib/python/site-packages (from stack-data->ipython>=7.23.1->ipykernel>=6.5.0->jupyterlab) (0.2.3)\n",
            "Requirement already satisfied: pycparser in /Library/Frameworks/Python.framework/Versions/3.12/lib/python3.12/site-packages (from cffi>=1.0.1->argon2-cffi-bindings->argon2-cffi>=21.1->jupyter-server<3,>=2.4.0->jupyterlab) (2.22)\n",
            "Requirement already satisfied: arrow>=0.15.0 in /Library/Frameworks/Python.framework/Versions/3.12/lib/python3.12/site-packages (from isoduration->jsonschema[format-nongpl]>=4.18.0->jupyter-events>=0.9.0->jupyter-server<3,>=2.4.0->jupyterlab) (1.3.0)\n",
            "Requirement already satisfied: types-python-dateutil>=2.8.10 in /Library/Frameworks/Python.framework/Versions/3.12/lib/python3.12/site-packages (from arrow>=0.15.0->isoduration->jsonschema[format-nongpl]>=4.18.0->jupyter-events>=0.9.0->jupyter-server<3,>=2.4.0->jupyterlab) (2.9.0.20240906)\n",
            "Note: you may need to restart the kernel to use updated packages.\n",
            "Requirement already satisfied: sqlfluff in /Library/Frameworks/Python.framework/Versions/3.12/lib/python3.12/site-packages (3.2.0)\n",
            "Requirement already satisfied: appdirs in /Library/Frameworks/Python.framework/Versions/3.12/lib/python3.12/site-packages (from sqlfluff) (1.4.4)\n",
            "Requirement already satisfied: chardet in /Library/Frameworks/Python.framework/Versions/3.12/lib/python3.12/site-packages (from sqlfluff) (5.2.0)\n",
            "Requirement already satisfied: click in /Library/Frameworks/Python.framework/Versions/3.12/lib/python3.12/site-packages (from sqlfluff) (8.1.7)\n",
            "Requirement already satisfied: colorama>=0.3 in /Library/Frameworks/Python.framework/Versions/3.12/lib/python3.12/site-packages (from sqlfluff) (0.4.6)\n",
            "Requirement already satisfied: diff-cover>=2.5.0 in /Library/Frameworks/Python.framework/Versions/3.12/lib/python3.12/site-packages (from sqlfluff) (9.2.0)\n",
            "Requirement already satisfied: Jinja2 in /Library/Frameworks/Python.framework/Versions/3.12/lib/python3.12/site-packages (from sqlfluff) (3.1.4)\n",
            "Requirement already satisfied: pathspec in /Library/Frameworks/Python.framework/Versions/3.12/lib/python3.12/site-packages (from sqlfluff) (0.12.1)\n",
            "Requirement already satisfied: pytest in /Library/Frameworks/Python.framework/Versions/3.12/lib/python3.12/site-packages (from sqlfluff) (8.3.3)\n",
            "Requirement already satisfied: pyyaml>=5.1 in /Library/Frameworks/Python.framework/Versions/3.12/lib/python3.12/site-packages (from sqlfluff) (6.0.2)\n",
            "Requirement already satisfied: regex in /Library/Frameworks/Python.framework/Versions/3.12/lib/python3.12/site-packages (from sqlfluff) (2024.9.11)\n",
            "Requirement already satisfied: tblib in /Library/Frameworks/Python.framework/Versions/3.12/lib/python3.12/site-packages (from sqlfluff) (3.0.0)\n",
            "Requirement already satisfied: tqdm in /Library/Frameworks/Python.framework/Versions/3.12/lib/python3.12/site-packages (from sqlfluff) (4.66.5)\n",
            "Requirement already satisfied: Pygments<3.0.0,>=2.9.0 in /Users/larissakemicloud.com/Library/Python/3.12/lib/python/site-packages (from diff-cover>=2.5.0->sqlfluff) (2.18.0)\n",
            "Requirement already satisfied: pluggy<2,>=0.13.1 in /Library/Frameworks/Python.framework/Versions/3.12/lib/python3.12/site-packages (from diff-cover>=2.5.0->sqlfluff) (1.5.0)\n",
            "Requirement already satisfied: MarkupSafe>=2.0 in /Library/Frameworks/Python.framework/Versions/3.12/lib/python3.12/site-packages (from Jinja2->sqlfluff) (2.1.5)\n",
            "Requirement already satisfied: iniconfig in /Library/Frameworks/Python.framework/Versions/3.12/lib/python3.12/site-packages (from pytest->sqlfluff) (2.0.0)\n",
            "Requirement already satisfied: packaging in /Library/Frameworks/Python.framework/Versions/3.12/lib/python3.12/site-packages (from pytest->sqlfluff) (23.2)\n",
            "Note: you may need to restart the kernel to use updated packages.\n"
          ]
        }
      ],
      "source": [
        "%pip show llama-index\n",
        "%pip install yfiles-jupyter-graphs\n",
        "%pip install --upgrade yfiles-jupyter-graphs\n",
        "%pip install --upgrade jupyterlab ipywidgets\n",
        "%pip install jupyterlab\n",
        "%pip install sqlfluff"
      ]
    },
    {
      "cell_type": "code",
      "execution_count": 6,
      "metadata": {
        "id": "jPIRSGz4tHNV"
      },
      "outputs": [
        {
          "name": "stderr",
          "output_type": "stream",
          "text": [
            "/Users/larissakemicloud.com/Library/Python/3.12/lib/python/site-packages/IPython/core/interactiveshell.py:3577: LangChainDeprecationWarning: As of langchain-core 0.3.0, LangChain uses pydantic v2 internally. The langchain_core.pydantic_v1 module was a compatibility shim for pydantic v1, and should no longer be used. Please update the code to import from Pydantic directly.\n",
            "\n",
            "For example, replace imports like: `from langchain_core.pydantic_v1 import BaseModel`\n",
            "with: `from pydantic import BaseModel`\n",
            "or the v1 compatibility namespace if you are working in a code base that has not been fully upgraded to pydantic 2 yet. \tfrom pydantic.v1 import BaseModel\n",
            "\n",
            "  exec(code_obj, self.user_global_ns, self.user_ns)\n"
          ]
        },
        {
          "data": {
            "text/plain": [
              "True"
            ]
          },
          "execution_count": 6,
          "metadata": {},
          "output_type": "execute_result"
        }
      ],
      "source": [
        "from langchain_core.runnables import  RunnablePassthrough\n",
        "from langchain_core.prompts import ChatPromptTemplate\n",
        "from langchain_core.pydantic_v1 import BaseModel, Field\n",
        "from langchain_core.output_parsers import StrOutputParser\n",
        "import os\n",
        "from langchain_community.graphs import Neo4jGraph\n",
        "from langchain.text_splitter import RecursiveCharacterTextSplitter\n",
        "from langchain_openai import ChatOpenAI\n",
        "from langchain_community.chat_models import ChatOllama\n",
        "from langchain_experimental.graph_transformers import LLMGraphTransformer\n",
        "from neo4j import GraphDatabase\n",
        "from yfiles_jupyter_graphs import GraphWidget\n",
        "from langchain_community.vectorstores import Neo4jVector\n",
        "from langchain_openai import OpenAIEmbeddings\n",
        "from langchain_community.document_loaders import TextLoader\n",
        "from langchain_community.vectorstores.neo4j_vector import remove_lucene_chars\n",
        "import re\n",
        "\n",
        "from dotenv import load_dotenv\n",
        "\n",
        "load_dotenv()\n"
      ]
    },
    {
      "cell_type": "code",
      "execution_count": 17,
      "metadata": {},
      "outputs": [],
      "source": [
        "os.environ[\"NEO4J_URI\"] \n",
        "os.environ[\"NEO4J_USERNAME\"]\n",
        "os.environ[\"NEO4J_PASSWORD\"]\n",
        "\n",
        "# Agora você pode criar o gráfico sem passar os parâmetros diretamente\n",
        "graph = Neo4jGraph()"
      ]
    },
    {
      "cell_type": "code",
      "execution_count": 7,
      "metadata": {
        "colab": {
          "base_uri": "https://localhost:8080/"
        },
        "id": "sGhtLTAStHNW",
        "outputId": "39f65561-6c6b-4370-a51f-1d8118591158"
      },
      "outputs": [
        {
          "name": "stdout",
          "output_type": "stream",
          "text": [
            "Total de documentos divididos: 20\n",
            "Chunk 1:\n",
            "﻿CREATE TABLE [dbo].[ControleDeAcessoApiTokens]([ID] INT IDENTITY(1,1)NOT NULL,[ID_Empresa] INT NOT NULL,[ID_Usuario] INT NOT NULL,[Token] VARCHAR(500)NOT NULL,[TokenExpiration] DATETIME NULL,[DataDaUltimaAlteracao] DATETIME NOT NULL,[UltimoUsuarioQueAlterou] INT NOT NULL,CONSTRAINT [PK_ControleDeAcessoApiTokens] PRIMARY KEY CLUSTERED([ID] ASC),CONSTRAINT [FK_ControleDeAcessoApiTokens_ControleDeAcessoUsuario] FOREIGN KEY([ID_Usuario])REFERENCES [dbo].[ControleDeAcessoUsuario]([ID]),CONSTRAINT\n",
            "\n",
            "Chunk 2:\n",
            "[FK_ControleDeAcessoApiTokens_Empresa] FOREIGN KEY([ID_Empresa])REFERENCES [dbo].[Empresa]([ID]),CONSTRAINT [CK_ControleDeAcessoApiTokens_Token] UNIQUE NONCLUSTERED([Token] ASC),CONSTRAINT [CK_ControleDeAcessoApiTokens_Usuario] UNIQUE NONCLUSTERED([ID_Empresa] ASC,[ID_Usuario] ASC));\n",
            "\n",
            "Chunk 3:\n",
            "﻿CREATE TABLE [dbo].[ControleDeAcessoGrupo]([ID] INT IDENTITY(1,1)NOT NULL,[ID_Empresa] INT NOT NULL,[Nome] NVARCHAR(250)NOT NULL,[Descricao] NVARCHAR(600)NULL,[Tipo] NVARCHAR(100)NOT NULL,[Bloqueado] BIT NOT NULL,[DataDaUltimaAlteracao] DATETIME NOT NULL,[UltimoUsuarioQueAlterou] INT NOT NULL,[DataDeDelecao] DATETIME NULL,CONSTRAINT [PK_ControleDeAcessoGrupo] PRIMARY KEY CLUSTERED([ID] ASC));\n",
            "\n"
          ]
        }
      ],
      "source": [
        "# Função para limpar o código SQL\n",
        "def clean_sql_code(sql_code):\n",
        "    # Remover comentários de linha (--) e de bloco (/* ... */)\n",
        "    sql_code = re.sub(r'(--[^\\n]*)', '', sql_code)  # Remove comentários de linha\n",
        "    sql_code = re.sub(r'(/\\*[\\s\\S]*?\\*/)', '', sql_code)  # Remove comentários de bloco\n",
        "    \n",
        "    # Remover espaços extras\n",
        "    sql_code = re.sub(r'\\s+', ' ', sql_code)  # Substitui múltiplos espaços por um único espaço\n",
        "    sql_code = re.sub(r'\\s*([,;()=<>])\\s*', r'\\1', sql_code)  # Remove espaços em torno de pontuação\n",
        "    \n",
        "    # Remover linhas vazias ou com espaços em branco\n",
        "    sql_code = \"\\n\".join([line for line in sql_code.splitlines() if line.strip()])\n",
        "    \n",
        "    return sql_code.strip()  # Remove espaços no início e no final\n",
        "\n",
        "# Lista de caminhos de arquivos\n",
        "file_paths = [\n",
        "    \"/Users/larissakemicloud.com/Documents/GitHub/GraphRAG-with-Llama-3.1/tables/ControleDeAcessoApiTokens.sql\",\n",
        "    \"/Users/larissakemicloud.com/Documents/GitHub/GraphRAG-with-Llama-3.1/tables/ControleDeAcessoGrupo.sql\",\n",
        "    \"/Users/larissakemicloud.com/Documents/GitHub/GraphRAG-with-Llama-3.1/tables/ControleDeAcessoGrupoUsuario.sql\",\n",
        "    \"/Users/larissakemicloud.com/Documents/GitHub/GraphRAG-with-Llama-3.1/tables/ControleDeAcessoMenu.sql\",\n",
        "    \"/Users/larissakemicloud.com/Documents/GitHub/GraphRAG-with-Llama-3.1/tables/ControleDeAcessoModuloTela.sql\",\n",
        "    \"/Users/larissakemicloud.com/Documents/GitHub/GraphRAG-with-Llama-3.1/tables/ControleDeAcessoPermissao.sql\",\n",
        "    \"/Users/larissakemicloud.com/Documents/GitHub/GraphRAG-with-Llama-3.1/tables/ControleDeAcessoPermissaoMenu.sql\",\n",
        "    \"/Users/larissakemicloud.com/Documents/GitHub/GraphRAG-with-Llama-3.1/tables/ControleDeAcessoRecurso.sql\",\n",
        "    \"/Users/larissakemicloud.com/Documents/GitHub/GraphRAG-with-Llama-3.1/tables/ControleDeAcessoTela.sql\",\n",
        "    \"/Users/larissakemicloud.com/Documents/GitHub/GraphRAG-with-Llama-3.1/tables/ControleDeAcessoUsuario.sql\",\n",
        "    \"/Users/larissakemicloud.com/Documents/GitHub/GraphRAG-with-Llama-3.1/tables/ControleDeAcessoUsuarioCliente.sql\"\n",
        "]\n",
        "\n",
        "# Carregar os documentos\n",
        "docs = []\n",
        "for file_path in file_paths:\n",
        "    loader = TextLoader(file_path, encoding=\"utf-8\")\n",
        "    docs.extend(loader.load())  # Adicionar documentos carregados à lista\n",
        "\n",
        "# Limpar o código SQL antes de dividir\n",
        "for doc in docs:\n",
        "    doc.page_content = clean_sql_code(doc.page_content)\n",
        "\n",
        "# Dividir os documentos em chunks\n",
        "text_splitter = RecursiveCharacterTextSplitter(chunk_size=500, chunk_overlap=24)\n",
        "documents = text_splitter.split_documents(documents=docs)\n",
        "\n",
        "# Verificar os documentos divididos\n",
        "print(f\"Total de documentos divididos: {len(documents)}\")\n",
        "\n",
        "# Exibir os primeiros chunks para verificar a limpeza\n",
        "for idx, chunk in enumerate(documents[:3]):  # Mostrar os primeiros 3 chunks\n",
        "    print(f\"Chunk {idx + 1}:\\n{chunk.page_content}\\n\")"
      ]
    },
    {
      "cell_type": "code",
      "execution_count": 47,
      "metadata": {},
      "outputs": [
        {
          "name": "stdout",
          "output_type": "stream",
          "text": [
            "SQL Original:\n",
            "﻿CREATE TABLE [dbo].[ControleDeAcessoApiTokens] (\n",
            "    [ID]                      INT           IDENTITY (1, 1) NOT NULL,\n",
            "    [ID_Empresa]              INT           NOT NULL,\n",
            "    [ID_Usuario]              INT           NOT NULL,\n",
            "    [Token]                   VARCHAR (500) NOT NULL,\n",
            "    [TokenExpirati...\n",
            "SQL Limpo:\n",
            "﻿CREATE TABLE [dbo].[ControleDeAcessoApiTokens]([ID] INT IDENTITY(1,1)NOT NULL,[ID_Empresa] INT NOT NULL,[ID_Usuario] INT NOT NULL,[Token] VARCHAR(500)NOT NULL,[TokenExpiration] DATETIME NULL,[DataDaUltimaAlteracao] DATETIME NOT NULL,[UltimoUsuarioQueAlterou] INT NOT NULL,CONSTRAINT [PK_ControleDeAc...\n",
            "SQL Lintado:\n",
            "==== finding fixable violations ====\n",
            "...\n",
            "\n",
            "SQL Original:\n",
            "﻿CREATE TABLE [dbo].[ControleDeAcessoGrupo] (\n",
            "    [ID]                      INT            IDENTITY (1, 1) NOT NULL,\n",
            "    [ID_Empresa]              INT            NOT NULL,\n",
            "    [Nome]                    NVARCHAR (250) NOT NULL,\n",
            "    [Descricao]               NVARCHAR (600) NULL,\n",
            "    [Tipo]            ...\n",
            "SQL Limpo:\n",
            "﻿CREATE TABLE [dbo].[ControleDeAcessoGrupo]([ID] INT IDENTITY(1,1)NOT NULL,[ID_Empresa] INT NOT NULL,[Nome] NVARCHAR(250)NOT NULL,[Descricao] NVARCHAR(600)NULL,[Tipo] NVARCHAR(100)NOT NULL,[Bloqueado] BIT NOT NULL,[DataDaUltimaAlteracao] DATETIME NOT NULL,[UltimoUsuarioQueAlterou] INT NOT NULL,[Data...\n",
            "SQL Lintado:\n",
            "==== finding fixable violations ====\n",
            "...\n",
            "\n",
            "SQL Original:\n",
            "﻿CREATE TABLE [dbo].[ControleDeAcessoGrupoUsuario] (\n",
            "    [ID]         INT IDENTITY (1, 1) NOT NULL,\n",
            "    [ID_Grupo]   INT NULL,\n",
            "    [ID_Usuario] INT NULL,\n",
            "    CONSTRAINT [PK_ControleDeAcessoGrupoUsuario] PRIMARY KEY CLUSTERED ([ID] ASC),\n",
            "    CONSTRAINT [FK_ControleDeAcessoGrupoUsuario_ControleDeAcess...\n",
            "SQL Limpo:\n",
            "﻿CREATE TABLE [dbo].[ControleDeAcessoGrupoUsuario]([ID] INT IDENTITY(1,1)NOT NULL,[ID_Grupo] INT NULL,[ID_Usuario] INT NULL,CONSTRAINT [PK_ControleDeAcessoGrupoUsuario] PRIMARY KEY CLUSTERED([ID] ASC),CONSTRAINT [FK_ControleDeAcessoGrupoUsuario_ControleDeAcessoGrupo] FOREIGN KEY([ID_Grupo])REFERENCE...\n",
            "SQL Lintado:\n",
            "==== finding fixable violations ====\n",
            "...\n",
            "\n",
            "SQL Original:\n",
            "﻿CREATE TABLE [dbo].[ControleDeAcessoMenu] (\n",
            "    [ID]                      INT            IDENTITY (1, 1) NOT NULL,\n",
            "    [ID_MenuPai]              INT            NULL,\n",
            "    [Nome]                    NVARCHAR (100) NOT NULL,\n",
            "    [Endereco]                NVARCHAR (300) NULL,\n",
            "    [EnderecoIcone]        ...\n",
            "SQL Limpo:\n",
            "﻿CREATE TABLE [dbo].[ControleDeAcessoMenu]([ID] INT IDENTITY(1,1)NOT NULL,[ID_MenuPai] INT NULL,[Nome] NVARCHAR(100)NOT NULL,[Endereco] NVARCHAR(300)NULL,[EnderecoIcone] NVARCHAR(300)NULL,[Aplicativo] NVARCHAR(100)NOT NULL,[Ordem] INT NOT NULL,[PossuiFilho] BIT NOT NULL,[DataDeCadastro] DATETIME NOT...\n",
            "SQL Lintado:\n",
            "==== finding fixable violations ====\n",
            "...\n",
            "\n",
            "SQL Original:\n",
            "﻿CREATE TABLE [dbo].[ControleDeAcessoModuloTela] (\n",
            "    [ID]                        INT      IDENTITY (1, 1) NOT NULL,\n",
            "    [ID_ControleDeAcessoTela]   INT      NOT NULL,\n",
            "    [ID_ControleDeAcessoModulo] INT      NOT NULL,\n",
            "    [DataDeCadastro]            DATETIME NOT NULL,\n",
            "    [DataDaUltimaAlteracao]  ...\n",
            "SQL Limpo:\n",
            "﻿CREATE TABLE [dbo].[ControleDeAcessoModuloTela]([ID] INT IDENTITY(1,1)NOT NULL,[ID_ControleDeAcessoTela] INT NOT NULL,[ID_ControleDeAcessoModulo] INT NOT NULL,[DataDeCadastro] DATETIME NOT NULL,[DataDaUltimaAlteracao] DATETIME NOT NULL,[UtimoUsuarioQueAlterou] INT NOT NULL,CONSTRAINT [PK_ControleDe...\n",
            "SQL Lintado:\n",
            "==== finding fixable violations ====\n",
            "...\n",
            "\n",
            "SQL Original:\n",
            "﻿CREATE TABLE [dbo].[ControleDeAcessoPermissao] (\n",
            "    [ID]            INT         IDENTITY (1, 1) NOT NULL,\n",
            "    [ID_Recurso]    INT         NOT NULL,\n",
            "    [ID_Usuario]    INT         NULL,\n",
            "    [ID_Grupo]      INT         NULL,\n",
            "    [TipoPermissao] VARCHAR (5) NOT NULL,\n",
            "    CONSTRAINT [PK_ControleDeAce...\n",
            "SQL Limpo:\n",
            "﻿CREATE TABLE [dbo].[ControleDeAcessoPermissao]([ID] INT IDENTITY(1,1)NOT NULL,[ID_Recurso] INT NOT NULL,[ID_Usuario] INT NULL,[ID_Grupo] INT NULL,[TipoPermissao] VARCHAR(5)NOT NULL,CONSTRAINT [PK_ControleDeAcessoPermissao] PRIMARY KEY CLUSTERED([ID] ASC),CONSTRAINT [FK_ControleDeAcessoPermissao_Con...\n",
            "SQL Lintado:\n",
            "==== finding fixable violations ====\n",
            "...\n",
            "\n",
            "SQL Original:\n",
            "﻿CREATE TABLE [dbo].[ControleDeAcessoPermissaoMenu] (\n",
            "    [ID]                      INT          IDENTITY (1, 1) NOT NULL,\n",
            "    [ID_Menu]                 INT          NOT NULL,\n",
            "    [ID_Usuario]              INT          NULL,\n",
            "    [ID_Grupo]                INT          NULL,\n",
            "    [Ativo]               ...\n",
            "SQL Limpo:\n",
            "﻿CREATE TABLE [dbo].[ControleDeAcessoPermissaoMenu]([ID] INT IDENTITY(1,1)NOT NULL,[ID_Menu] INT NOT NULL,[ID_Usuario] INT NULL,[ID_Grupo] INT NULL,[Ativo] BIT NOT NULL,[TipoPermissao] NVARCHAR(5)NOT NULL,[DataDeCadastro] DATETIME NOT NULL,[DataDaUltimaAlteracao] DATETIME NOT NULL,[UltimoUsuarioQueA...\n",
            "SQL Lintado:\n",
            "==== finding fixable violations ====\n",
            "...\n",
            "\n",
            "SQL Original:\n",
            "﻿CREATE TABLE [dbo].[ControleDeAcessoRecurso] (\n",
            "    [ID]                      INT            IDENTITY (1, 1) NOT NULL,\n",
            "    [ID_Empresa]              INT            NOT NULL,\n",
            "    [ID_RecursoPai]           INT            NULL,\n",
            "    [Nome]                    VARCHAR (300)  NOT NULL,\n",
            "    [Codigo]        ...\n",
            "SQL Limpo:\n",
            "﻿CREATE TABLE [dbo].[ControleDeAcessoRecurso]([ID] INT IDENTITY(1,1)NOT NULL,[ID_Empresa] INT NOT NULL,[ID_RecursoPai] INT NULL,[Nome] VARCHAR(300)NOT NULL,[Codigo] NVARCHAR(300)NULL,[Aplicativo] NVARCHAR(150)NULL,[DataDaUltimaAtualizacao] DATETIME CONSTRAINT [DF_ControleDeAcessoRecurso_DataDaUltima...\n",
            "SQL Lintado:\n",
            "==== finding fixable violations ====\n",
            "...\n",
            "\n",
            "SQL Original:\n",
            "﻿CREATE TABLE [dbo].[ControleDeAcessoTela] (\n",
            "    [ID]                     INT        IDENTITY (1, 1) NOT NULL,\n",
            "    [NomeDaTela]             CHAR (100) NOT NULL,\n",
            "    [Endereco]               CHAR (200) NOT NULL,\n",
            "    [EnderecoIcone]          CHAR (200) NOT NULL,\n",
            "    [DataDeCadastro]         DATETIME  ...\n",
            "SQL Limpo:\n",
            "﻿CREATE TABLE [dbo].[ControleDeAcessoTela]([ID] INT IDENTITY(1,1)NOT NULL,[NomeDaTela] CHAR(100)NOT NULL,[Endereco] CHAR(200)NOT NULL,[EnderecoIcone] CHAR(200)NOT NULL,[DataDeCadastro] DATETIME NOT NULL,[DataDaUltimaAlteracao] DATETIME NOT NULL,[UtimoUsuarioQueAlterou] INT NOT NULL,CONSTRAINT [PK_Co...\n",
            "SQL Lintado:\n",
            "==== finding fixable violations ====\n",
            "...\n",
            "\n",
            "SQL Original:\n",
            "﻿CREATE TABLE [dbo].[ControleDeAcessoUsuario] (\n",
            "    [ID]                      INT            IDENTITY (1, 1) NOT NULL,\n",
            "    [ID_Empresa]              INT            NULL,\n",
            "    [Login]                   NVARCHAR (50)  NOT NULL,\n",
            "    [Senha]                   NVARCHAR (200) NOT NULL,\n",
            "    [Identificacao] ...\n",
            "SQL Limpo:\n",
            "﻿CREATE TABLE [dbo].[ControleDeAcessoUsuario]([ID] INT IDENTITY(1,1)NOT NULL,[ID_Empresa] INT NULL,[Login] NVARCHAR(50)NOT NULL,[Senha] NVARCHAR(200)NOT NULL,[Identificacao] NVARCHAR(50)NULL,[NomeCompleto] NVARCHAR(200)NULL,[Tipo] NVARCHAR(50)NULL,[Status] BIT NULL,[DataDeCriacao] DATETIME NOT NULL,...\n",
            "SQL Lintado:\n",
            "==== finding fixable violations ====\n",
            "...\n",
            "\n",
            "SQL Original:\n",
            "﻿CREATE TABLE [dbo].[ControleDeAcessoUsuarioCliente] (\n",
            "    [ID_Usuario] INT NOT NULL,\n",
            "    [ID_Cliente] INT NOT NULL,\n",
            "    [ID_Empresa] INT NOT NULL,\n",
            "    CONSTRAINT [PK_ControleDeAcessoUsuarioCliente] PRIMARY KEY CLUSTERED ([ID_Usuario] ASC, [ID_Cliente] ASC),\n",
            "    CONSTRAINT [FK_ControleDeAcessoUsuari...\n",
            "SQL Limpo:\n",
            "﻿CREATE TABLE [dbo].[ControleDeAcessoUsuarioCliente]([ID_Usuario] INT NOT NULL,[ID_Cliente] INT NOT NULL,[ID_Empresa] INT NOT NULL,CONSTRAINT [PK_ControleDeAcessoUsuarioCliente] PRIMARY KEY CLUSTERED([ID_Usuario] ASC,[ID_Cliente] ASC),CONSTRAINT [FK_ControleDeAcessoUsuarioCliente_ControleDeAcessoUsu...\n",
            "SQL Lintado:\n",
            "==== finding fixable violations ====\n",
            "...\n",
            "\n",
            "Total de documentos divididos: 11\n",
            "Chunk 1:\n",
            "==== finding fixable violations ====\n",
            "\n",
            "Chunk 2:\n",
            "==== finding fixable violations ====\n",
            "\n",
            "Chunk 3:\n",
            "==== finding fixable violations ====\n",
            "\n"
          ]
        }
      ],
      "source": [
        "import re\n",
        "import subprocess\n",
        "from langchain.document_loaders import TextLoader\n",
        "from langchain.text_splitter import RecursiveCharacterTextSplitter\n",
        "\n",
        "# Função para limpar o código SQL (remover comentários, espaços extras etc.)\n",
        "def clean_sql_code(sql_code):\n",
        "    # Remover comentários de linha (--) e de bloco (/* ... */)\n",
        "    sql_code = re.sub(r'(--[^\\n]*)', '', sql_code)  # Remove comentários de linha\n",
        "    sql_code = re.sub(r'(/\\*[\\s\\S]*?\\*/)', '', sql_code)  # Remove comentários de bloco\n",
        "    \n",
        "    # Remover espaços extras\n",
        "    sql_code = re.sub(r'\\s+', ' ', sql_code)  # Substitui múltiplos espaços por um único espaço\n",
        "    sql_code = re.sub(r'\\s*([,;()=<>])\\s*', r'\\1', sql_code)  # Remove espaços em torno de pontuação\n",
        "    \n",
        "    # Remover linhas vazias ou com espaços em branco\n",
        "    sql_code = \"\\n\".join([line for line in sql_code.splitlines() if line.strip()])\n",
        "    \n",
        "    return sql_code.strip()  # Remove espaços no início e no final\n",
        "\n",
        "# Função para aplicar linting com sqlfluff\n",
        "def lint_sql_code(sql_code):\n",
        "    # Escreve o código SQL em um arquivo temporário para o sqlfluff processar\n",
        "    with open(\"temp_sql_file.sql\", \"w\") as file:\n",
        "        file.write(sql_code)\n",
        "    \n",
        "    # Executa o sqlfluff para corrigir o código SQL\n",
        "    result = subprocess.run([\"sqlfluff\", \"fix\", \"temp_sql_file.sql\"], capture_output=True, text=True)\n",
        "    \n",
        "    # Retorna o SQL corrigido (pós-linting)\n",
        "    return result.stdout\n",
        "\n",
        "# Lista de caminhos de arquivos\n",
        "file_paths = [\n",
        "    \"/Users/larissakemicloud.com/Documents/GitHub/GraphRAG-with-Llama-3.1/tables/ControleDeAcessoApiTokens.sql\",\n",
        "    \"/Users/larissakemicloud.com/Documents/GitHub/GraphRAG-with-Llama-3.1/tables/ControleDeAcessoGrupo.sql\",\n",
        "    \"/Users/larissakemicloud.com/Documents/GitHub/GraphRAG-with-Llama-3.1/tables/ControleDeAcessoGrupoUsuario.sql\",\n",
        "    \"/Users/larissakemicloud.com/Documents/GitHub/GraphRAG-with-Llama-3.1/tables/ControleDeAcessoMenu.sql\",\n",
        "    \"/Users/larissakemicloud.com/Documents/GitHub/GraphRAG-with-Llama-3.1/tables/ControleDeAcessoModuloTela.sql\",\n",
        "    \"/Users/larissakemicloud.com/Documents/GitHub/GraphRAG-with-Llama-3.1/tables/ControleDeAcessoPermissao.sql\",\n",
        "    \"/Users/larissakemicloud.com/Documents/GitHub/GraphRAG-with-Llama-3.1/tables/ControleDeAcessoPermissaoMenu.sql\",\n",
        "    \"/Users/larissakemicloud.com/Documents/GitHub/GraphRAG-with-Llama-3.1/tables/ControleDeAcessoRecurso.sql\",\n",
        "    \"/Users/larissakemicloud.com/Documents/GitHub/GraphRAG-with-Llama-3.1/tables/ControleDeAcessoTela.sql\",\n",
        "    \"/Users/larissakemicloud.com/Documents/GitHub/GraphRAG-with-Llama-3.1/tables/ControleDeAcessoUsuario.sql\",\n",
        "    \"/Users/larissakemicloud.com/Documents/GitHub/GraphRAG-with-Llama-3.1/tables/ControleDeAcessoUsuarioCliente.sql\"\n",
        "]\n",
        "\n",
        "# Carregar os documentos\n",
        "docs = []\n",
        "for file_path in file_paths:\n",
        "    loader = TextLoader(file_path, encoding=\"utf-8\")\n",
        "    docs.extend(loader.load())  # Adicionar documentos carregados à lista\n",
        "\n",
        "# Limpar e aplicar linting no código SQL antes de dividir\n",
        "for doc in docs:\n",
        "    original_content = doc.page_content\n",
        "    # Passo 1: Limpeza básica do SQL\n",
        "    cleaned_sql = clean_sql_code(original_content)\n",
        "    \n",
        "    # Passo 2: Aplicar linting (formatação com sqlfluff)\n",
        "    linted_sql = lint_sql_code(cleaned_sql)\n",
        "    \n",
        "    # Atualizar o conteúdo do documento com o SQL limpo e corrigido\n",
        "    doc.page_content = linted_sql\n",
        "    \n",
        "    # Verificar SQL original, limpo e lintado\n",
        "    print(f\"SQL Original:\\n{original_content[:300]}...\")  # Primeiros 300 caracteres\n",
        "    print(f\"SQL Limpo:\\n{cleaned_sql[:300]}...\")  # SQL após a limpeza\n",
        "    print(f\"SQL Lintado:\\n{linted_sql[:300]}...\\n\")  # SQL após linting\n",
        "\n",
        "# Dividir os documentos em chunks\n",
        "text_splitter = RecursiveCharacterTextSplitter(chunk_size=500, chunk_overlap=24)\n",
        "documents = text_splitter.split_documents(documents=docs)\n",
        "\n",
        "# Verificar os documentos divididos\n",
        "print(f\"Total de documentos divididos: {len(documents)}\")\n",
        "\n",
        "# Exibir os primeiros chunks para verificar a limpeza e linting\n",
        "for idx, chunk in enumerate(documents[:3]):  # Mostrar os primeiros 3 chunks\n",
        "    print(f\"Chunk {idx + 1}:\\n{chunk.page_content}\\n\")\n"
      ]
    },
    {
      "cell_type": "code",
      "execution_count": 48,
      "metadata": {},
      "outputs": [
        {
          "data": {
            "text/plain": [
              "Document(metadata={'source': '/Users/larissakemicloud.com/Documents/GitHub/GraphRAG-with-Llama-3.1/tables/ControleDeAcessoApiTokens.sql'}, page_content='==== finding fixable violations ====')"
            ]
          },
          "execution_count": 48,
          "metadata": {},
          "output_type": "execute_result"
        }
      ],
      "source": [
        "documents[0]"
      ]
    },
    {
      "cell_type": "code",
      "execution_count": null,
      "metadata": {},
      "outputs": [],
      "source": [
        "# Obter as chaves da API\n",
        "openai_api_key = os.getenv(\"OPENAI_API_KEY\")\n",
        "llama_api_key = os.getenv(\"LLAMA_API_KEY\")\n",
        "\n",
        "# Definir qual LLM será utilizado\n",
        "llm_type = os.getenv(\"LLM_TYPE\", \"openai\")  # Valor padrão \"openai\" se não estiver definido\n",
        "\n",
        "if llm_type == \"ollama\":\n",
        "    # Usar o modelo LLaMA/Ollama e passar a chave de API da LLaMA\n",
        "    llm = ChatOllama(model=\"llama3.1\", temperature=0, api_key=llama_api_key)\n",
        "else:\n",
        "    # Usar o modelo OpenAI e passar a chave de API da OpenAI\n",
        "    llm = ChatOpenAI(temperature=0, model=\"gpt-4o\", api_key=openai_api_key)\n",
        "\n",
        "# Usar o modelo LLM no transformador de grafos\n",
        "llm_transformer = LLMGraphTransformer(llm=llm)\n",
        "\n",
        "# Converter documentos para o formato de grafo\n",
        "graph_documents = llm_transformer.convert_to_graph_documents(documents)"
      ]
    },
    {
      "cell_type": "code",
      "execution_count": 14,
      "metadata": {},
      "outputs": [
        {
          "name": "stdout",
          "output_type": "stream",
          "text": [
            "Grafo 1: nodes=[Node(id='Controledeacessoapitokens', type='Table', properties={}), Node(id='Controledeacessousuario', type='Table', properties={})] relationships=[Relationship(source=Node(id='Controledeacessoapitokens', type='Table', properties={}), target=Node(id='Controledeacessousuario', type='Table', properties={}), type='FOREIGN_KEY', properties={})] source=Document(metadata={}, page_content='Claro! Vamos analisar o código SQL fornecido e extrair as informações solicitadas.\\n\\n### 1. Tabelas\\n- **ControleDeAcessoApiTokens**\\n\\n### 2. Colunas em cada tabela\\n- **ControleDeAcessoApiTokens**\\n  - ID (INT, IDENTITY(1,1), NOT NULL)\\n  - ID_Empresa (INT, NOT NULL)\\n  - ID_Usuario (INT, NOT NULL)\\n  - Token (VARCHAR(500), NOT NULL)\\n  - TokenExpiration (DATETIME, NULL)\\n  - DataDaUltimaAlteracao (DATETIME, NOT NULL)\\n  - UltimoUsuarioQueAlterou (INT, NOT NULL)\\n\\n### 3. Chaves primárias e chaves estrangeiras\\n- **Chave Primária**\\n  - **ControleDeAcessoApiTokens**\\n    - PK_ControleDeAcessoApiTokens (ID)\\n\\n- **Chaves Estrangeiras**\\n  - **ControleDeAcessoApiTokens**\\n    - FK_ControleDeAcessoApiTokens_ControleDeAcessoUsuario (ID_Usuario) REFERENCES ControleDeAcessoUsuario(ID)\\n\\n### 4. Relacionamentos entre tabelas\\n- **ControleDeAcessoApiTokens** tem uma chave estrangeira **ID_Usuario** que referencia **ID** na tabela **ControleDeAcessoUsuario**.\\n\\n### Resumo das Informações Extraídas\\n- **Tabelas**\\n  - ControleDeAcessoApiTokens\\n\\n- **Colunas**\\n  - ControleDeAcessoApiTokens: ID, ID_Empresa, ID_Usuario, Token, TokenExpiration, DataDaUltimaAlteracao, UltimoUsuarioQueAlterou\\n\\n- **Chaves Primárias**\\n  - ControleDeAcessoApiTokens: ID\\n\\n- **Chaves Estrangeiras**\\n  - ControleDeAcessoApiTokens: ID_Usuario (REFERENCES ControleDeAcessoUsuario(ID))\\n\\n- **Relacionamentos**\\n  - ControleDeAcessoApiTokens.ID_Usuario -> ControleDeAcessoUsuario.ID\\n\\nAgora, vamos transformar essas informações em um grafo:\\n\\n### Grafo de Relacionamentos\\n\\n```\\n[ControleDeAcessoUsuario]\\n          |\\n          | (ID)\\n          |\\n          v\\n[ControleDeAcessoApiTokens]\\n(ID_Usuario)\\n```\\n\\nNeste grafo, a tabela **ControleDeAcessoApiTokens** tem uma relação de chave estrangeira com a tabela **ControleDeAcessoUsuario** através da coluna **ID_Usuario** que referencia a coluna **ID** na tabela **ControleDeAcessoUsuario**.')\n",
            "Grafo 2: nodes=[Node(id='Empresa', type='Table', properties={}), Node(id='Controledeacessoapitokens', type='Table', properties={}), Node(id='Id', type='Column', properties={}), Node(id='Id_Empresa', type='Column', properties={}), Node(id='Token', type='Column', properties={}), Node(id='Id_Usuario', type='Column', properties={})] relationships=[Relationship(source=Node(id='Empresa', type='Table', properties={}), target=Node(id='Id', type='Column', properties={}), type='HAS_COLUMN', properties={}), Relationship(source=Node(id='Controledeacessoapitokens', type='Table', properties={}), target=Node(id='Id_Empresa', type='Column', properties={}), type='HAS_COLUMN', properties={}), Relationship(source=Node(id='Controledeacessoapitokens', type='Table', properties={}), target=Node(id='Token', type='Column', properties={}), type='HAS_COLUMN', properties={}), Relationship(source=Node(id='Controledeacessoapitokens', type='Table', properties={}), target=Node(id='Id_Usuario', type='Column', properties={}), type='HAS_COLUMN', properties={}), Relationship(source=Node(id='Controledeacessoapitokens', type='Table', properties={}), target=Node(id='Empresa', type='Table', properties={}), type='REFERENCES', properties={})] source=Document(metadata={}, page_content='Para extrair as informações solicitadas do código SQL fornecido, vamos analisar cada parte do código:\\n\\n### 1. Tabelas\\n- **Empresa**\\n- **ControleDeAcessoApiTokens**\\n\\n### 2. Colunas em cada tabela\\n- **Empresa**\\n  - ID (presumido a partir da referência)\\n- **ControleDeAcessoApiTokens**\\n  - ID_Empresa\\n  - Token\\n  - ID_Usuario\\n\\n### 3. Chaves Primárias e Chaves Estrangeiras\\n- **Chaves Primárias**\\n  - Não explicitamente mencionadas no código fornecido, mas podemos inferir que a tabela **Empresa** tem a coluna **ID** como chave primária.\\n- **Chaves Estrangeiras**\\n  - **ControleDeAcessoApiTokens**\\n    - **ID_Empresa** é uma chave estrangeira que referencia **ID** na tabela **Empresa**.\\n\\n### 4. Relacionamentos entre Tabelas\\n- **ControleDeAcessoApiTokens** tem uma relação de chave estrangeira com **Empresa** através da coluna **ID_Empresa**.\\n\\n### Resumo das Informações Extraídas\\n- **Tabelas**\\n  - Empresa\\n  - ControleDeAcessoApiTokens\\n- **Colunas**\\n  - Empresa: ID\\n  - ControleDeAcessoApiTokens: ID_Empresa, Token, ID_Usuario\\n- **Chaves Primárias**\\n  - Empresa: ID (presumido)\\n- **Chaves Estrangeiras**\\n  - ControleDeAcessoApiTokens: ID_Empresa (referencia ID em Empresa)\\n- **Relacionamentos**\\n  - ControleDeAcessoApiTokens -> Empresa (ID_Empresa referencia ID)\\n\\n### Grafo de Relacionamentos\\n\\n```plaintext\\n[Empresa]\\n  |\\n  | ID\\n  |\\n  v\\n[ControleDeAcessoApiTokens]\\n  | ID_Empresa (FK -> Empresa.ID)\\n  | Token (Unique)\\n  | ID_Usuario (Unique junto com ID_Empresa)\\n```\\n\\nEste grafo mostra que a tabela **ControleDeAcessoApiTokens** tem uma chave estrangeira **ID_Empresa** que referencia a chave primária **ID** na tabela **Empresa**. Além disso, a tabela **ControleDeAcessoApiTokens** tem restrições de unicidade nas colunas **Token** e na combinação de **ID_Empresa** e **ID_Usuario**.')\n",
            "Grafo 3: nodes=[Node(id='Controledeacessogrupo', type='Table', properties={}), Node(id='Id', type='Column', properties={}), Node(id='Id_Empresa', type='Column', properties={}), Node(id='Nome', type='Column', properties={}), Node(id='Descricao', type='Column', properties={}), Node(id='Tipo', type='Column', properties={}), Node(id='Bloqueado', type='Column', properties={}), Node(id='Datadaultimaalteracao', type='Column', properties={}), Node(id='Ultimousuarioquealterou', type='Column', properties={}), Node(id='Datadedelecao', type='Column', properties={})] relationships=[Relationship(source=Node(id='Controledeacessogrupo', type='Table', properties={}), target=Node(id='Id', type='Column', properties={}), type='HAS_COLUMN', properties={}), Relationship(source=Node(id='Controledeacessogrupo', type='Table', properties={}), target=Node(id='Id_Empresa', type='Column', properties={}), type='HAS_COLUMN', properties={}), Relationship(source=Node(id='Controledeacessogrupo', type='Table', properties={}), target=Node(id='Nome', type='Column', properties={}), type='HAS_COLUMN', properties={}), Relationship(source=Node(id='Controledeacessogrupo', type='Table', properties={}), target=Node(id='Descricao', type='Column', properties={}), type='HAS_COLUMN', properties={}), Relationship(source=Node(id='Controledeacessogrupo', type='Table', properties={}), target=Node(id='Tipo', type='Column', properties={}), type='HAS_COLUMN', properties={}), Relationship(source=Node(id='Controledeacessogrupo', type='Table', properties={}), target=Node(id='Bloqueado', type='Column', properties={}), type='HAS_COLUMN', properties={}), Relationship(source=Node(id='Controledeacessogrupo', type='Table', properties={}), target=Node(id='Datadaultimaalteracao', type='Column', properties={}), type='HAS_COLUMN', properties={}), Relationship(source=Node(id='Controledeacessogrupo', type='Table', properties={}), target=Node(id='Ultimousuarioquealterou', type='Column', properties={}), type='HAS_COLUMN', properties={}), Relationship(source=Node(id='Controledeacessogrupo', type='Table', properties={}), target=Node(id='Datadedelecao', type='Column', properties={}), type='HAS_COLUMN', properties={}), Relationship(source=Node(id='Controledeacessogrupo', type='Table', properties={}), target=Node(id='Id', type='Column', properties={}), type='PRIMARY_KEY', properties={})] source=Document(metadata={}, page_content='Claro, vamos analisar o código SQL fornecido e extrair as informações solicitadas:\\n\\n### 1. Tabelas\\n- **ControleDeAcessoGrupo**\\n\\n### 2. Colunas em cada tabela\\n- **ControleDeAcessoGrupo**\\n  - ID (INT, IDENTITY(1,1), NOT NULL)\\n  - ID_Empresa (INT, NOT NULL)\\n  - Nome (NVARCHAR(250), NOT NULL)\\n  - Descricao (NVARCHAR(600), NULL)\\n  - Tipo (NVARCHAR(100), NOT NULL)\\n  - Bloqueado (BIT, NOT NULL)\\n  - DataDaUltimaAlteracao (DATETIME, NOT NULL)\\n  - UltimoUsuarioQueAlterou (INT, NOT NULL)\\n  - DataDeDelecao (DATETIME, NULL)\\n\\n### 3. Chaves primárias e chaves estrangeiras\\n- **Chave Primária**\\n  - ControleDeAcessoGrupo: ID\\n\\n- **Chaves Estrangeiras**\\n  - Não há chaves estrangeiras definidas explicitamente no código fornecido.\\n\\n### 4. Relacionamentos entre tabelas\\n- Não há relacionamentos explícitos definidos no código fornecido.\\n\\n### Resumo\\n- **Tabela:** ControleDeAcessoGrupo\\n  - **Colunas:**\\n    - ID (Chave Primária)\\n    - ID_Empresa\\n    - Nome\\n    - Descricao\\n    - Tipo\\n    - Bloqueado\\n    - DataDaUltimaAlteracao\\n    - UltimoUsuarioQueAlterou\\n    - DataDeDelecao\\n\\n- **Chave Primária:** ID\\n- **Chaves Estrangeiras:** Nenhuma definida\\n- **Relacionamentos:** Nenhum definido\\n\\nSe precisar de mais alguma informação ou de uma análise mais detalhada, por favor, me avise!')\n"
          ]
        }
      ],
      "source": [
        "from langchain.schema import Document\n",
        "\n",
        "# Obter as chaves da API\n",
        "openai_api_key = os.getenv(\"OPENAI_API_KEY\")\n",
        "llama_api_key = os.getenv(\"LLAMA_API_KEY\")\n",
        "\n",
        "# Definir qual LLM será utilizado\n",
        "llm_type = os.getenv(\"LLM_TYPE\", \"openai\")  # Valor padrão \"openai\" se não estiver definido\n",
        "\n",
        "if llm_type == \"ollama\":\n",
        "    # Usar o modelo LLaMA/Ollama e passar a chave de API da LLaMA\n",
        "    llm = ChatOllama(model=\"llama3.1\", temperature=0, api_key=llama_api_key)\n",
        "else:\n",
        "    # Usar o modelo OpenAI e passar a chave de API da OpenAI\n",
        "    llm = ChatOpenAI(temperature=0, model=\"gpt-4o\", api_key=openai_api_key)\n",
        "\n",
        "# Criar o prompt especializado para SQL\n",
        "def generate_sql_prompt(sql_code):\n",
        "    return f\"\"\"\n",
        "    Você está analisando um código SQL. Sua tarefa é identificar as seguintes informações:\n",
        "    1. Tabelas (com nomes).\n",
        "    2. Colunas em cada tabela.\n",
        "    3. Chaves primárias e chaves estrangeiras.\n",
        "    4. Relacionamentos entre tabelas.\n",
        "\n",
        "    Aqui está o código SQL:\n",
        "    {sql_code}\n",
        "\n",
        "    Extraia essas informações de forma clara e concisa antes de transformá-las em um grafo.\n",
        "    \"\"\"\n",
        "\n",
        "# Função para processar e transformar cada documento SQL em grafo\n",
        "def process_sql_documents(documents, llm, llm_transformer):\n",
        "    graph_documents = []\n",
        "\n",
        "    for doc in documents:\n",
        "        # Gerar o prompt especializado para SQL\n",
        "        prompt = generate_sql_prompt(doc.page_content)\n",
        "        \n",
        "        # Montar a mensagem no formato correto para o LLM\n",
        "        messages = [\n",
        "            {\"role\": \"system\", \"content\": \"Você é um assistente especializado em SQL.\"},\n",
        "            {\"role\": \"user\", \"content\": prompt}\n",
        "        ]\n",
        "        \n",
        "        # Usar o LLM diretamente para interpretar o SQL e extrair as informações\n",
        "        extracted_info = llm(messages=messages)  # Passando a lista de mensagens\n",
        "        \n",
        "        # Acessar diretamente o conteúdo da resposta\n",
        "        extracted_content = extracted_info.content\n",
        "        \n",
        "        # Criar um objeto Document a partir do conteúdo extraído\n",
        "        document = Document(page_content=extracted_content)\n",
        "        \n",
        "        # Usar o LLMGraphTransformer para transformar em grafo\n",
        "        graph_doc = llm_transformer.convert_to_graph_documents([document])\n",
        "        graph_documents.extend(graph_doc)\n",
        "    \n",
        "    return graph_documents\n",
        "\n",
        "# Usar o LLMGraphTransformer\n",
        "llm_transformer = LLMGraphTransformer(llm=llm)\n",
        "\n",
        "# Converter documentos SQL para o formato de grafo, extraindo as informações importantes primeiro\n",
        "graph_documents = process_sql_documents(documents, llm, llm_transformer)\n",
        "\n",
        "# Verificar os primeiros documentos de grafo gerados\n",
        "for idx, graph_doc in enumerate(graph_documents[:3]):\n",
        "    print(f\"Grafo {idx + 1}: {graph_doc}\")"
      ]
    },
    {
      "cell_type": "code",
      "execution_count": 15,
      "metadata": {},
      "outputs": [
        {
          "data": {
            "text/plain": [
              "GraphDocument(nodes=[Node(id='Controledeacessoapitokens', type='Table', properties={}), Node(id='Controledeacessousuario', type='Table', properties={})], relationships=[Relationship(source=Node(id='Controledeacessoapitokens', type='Table', properties={}), target=Node(id='Controledeacessousuario', type='Table', properties={}), type='FOREIGN_KEY', properties={})], source=Document(metadata={}, page_content='Claro! Vamos analisar o código SQL fornecido e extrair as informações solicitadas.\\n\\n### 1. Tabelas\\n- **ControleDeAcessoApiTokens**\\n\\n### 2. Colunas em cada tabela\\n- **ControleDeAcessoApiTokens**\\n  - ID (INT, IDENTITY(1,1), NOT NULL)\\n  - ID_Empresa (INT, NOT NULL)\\n  - ID_Usuario (INT, NOT NULL)\\n  - Token (VARCHAR(500), NOT NULL)\\n  - TokenExpiration (DATETIME, NULL)\\n  - DataDaUltimaAlteracao (DATETIME, NOT NULL)\\n  - UltimoUsuarioQueAlterou (INT, NOT NULL)\\n\\n### 3. Chaves primárias e chaves estrangeiras\\n- **Chave Primária**\\n  - **ControleDeAcessoApiTokens**\\n    - PK_ControleDeAcessoApiTokens (ID)\\n\\n- **Chaves Estrangeiras**\\n  - **ControleDeAcessoApiTokens**\\n    - FK_ControleDeAcessoApiTokens_ControleDeAcessoUsuario (ID_Usuario) REFERENCES ControleDeAcessoUsuario(ID)\\n\\n### 4. Relacionamentos entre tabelas\\n- **ControleDeAcessoApiTokens** tem uma chave estrangeira **ID_Usuario** que referencia **ID** na tabela **ControleDeAcessoUsuario**.\\n\\n### Resumo das Informações Extraídas\\n- **Tabelas**\\n  - ControleDeAcessoApiTokens\\n\\n- **Colunas**\\n  - ControleDeAcessoApiTokens: ID, ID_Empresa, ID_Usuario, Token, TokenExpiration, DataDaUltimaAlteracao, UltimoUsuarioQueAlterou\\n\\n- **Chaves Primárias**\\n  - ControleDeAcessoApiTokens: ID\\n\\n- **Chaves Estrangeiras**\\n  - ControleDeAcessoApiTokens: ID_Usuario (REFERENCES ControleDeAcessoUsuario(ID))\\n\\n- **Relacionamentos**\\n  - ControleDeAcessoApiTokens.ID_Usuario -> ControleDeAcessoUsuario.ID\\n\\nAgora, vamos transformar essas informações em um grafo:\\n\\n### Grafo de Relacionamentos\\n\\n```\\n[ControleDeAcessoUsuario]\\n          |\\n          | (ID)\\n          |\\n          v\\n[ControleDeAcessoApiTokens]\\n(ID_Usuario)\\n```\\n\\nNeste grafo, a tabela **ControleDeAcessoApiTokens** tem uma relação de chave estrangeira com a tabela **ControleDeAcessoUsuario** através da coluna **ID_Usuario** que referencia a coluna **ID** na tabela **ControleDeAcessoUsuario**.'))"
            ]
          },
          "execution_count": 15,
          "metadata": {},
          "output_type": "execute_result"
        }
      ],
      "source": [
        "graph_documents[0]"
      ]
    },
    {
      "cell_type": "code",
      "execution_count": 16,
      "metadata": {},
      "outputs": [],
      "source": [
        "graph.add_graph_documents(\n",
        "    graph_documents,\n",
        "    baseEntityLabel=True,\n",
        "    include_source=True\n",
        ")"
      ]
    },
    {
      "cell_type": "code",
      "execution_count": 37,
      "metadata": {
        "colab": {
          "base_uri": "https://localhost:8080/",
          "height": 817,
          "referenced_widgets": [
            "8e37edd9789a4d57a7be401628e7ff7f",
            "9bac7003afd84cecb4e67a81a396ec8d"
          ]
        },
        "id": "RMZlhtDmtHNW",
        "outputId": "86efa842-3297-45d6-dab2-681bbc836b4d"
      },
      "outputs": [
        {
          "data": {
            "application/vnd.jupyter.widget-view+json": {
              "model_id": "d133631aaef24769934eab3af521afb9",
              "version_major": 2,
              "version_minor": 0
            },
            "text/plain": [
              "GraphWidget(layout=Layout(height='800px', width='100%'))"
            ]
          },
          "metadata": {},
          "output_type": "display_data"
        }
      ],
      "source": [
        "def showGraph():\n",
        "    driver = GraphDatabase.driver(\n",
        "        uri = os.environ[\"NEO4J_URI\"],\n",
        "        auth = (os.environ[\"NEO4J_USERNAME\"],\n",
        "                os.environ[\"NEO4J_PASSWORD\"]))\n",
        "    \n",
        "    session = driver.session()\n",
        "    widget = GraphWidget(graph=session.run(\"MATCH (s)-[r:MENTIONS]->(t) RETURN s,r,t\").graph())\n",
        "    widget.node_label_mapping = 'id'\n",
        "    return widget\n",
        "\n",
        "showGraph()"
      ]
    },
    {
      "cell_type": "code",
      "execution_count": 38,
      "metadata": {},
      "outputs": [
        {
          "ename": "TypeError",
          "evalue": "'str' object is not callable",
          "output_type": "error",
          "traceback": [
            "\u001b[0;31m---------------------------------------------------------------------------\u001b[0m",
            "\u001b[0;31mTypeError\u001b[0m                                 Traceback (most recent call last)",
            "Cell \u001b[0;32mIn[38], line 1\u001b[0m\n\u001b[0;32m----> 1\u001b[0m \u001b[43mgraph\u001b[49m\u001b[38;5;241;43m.\u001b[39;49m\u001b[43mquery\u001b[49m\u001b[43m(\u001b[49m\u001b[38;5;124;43m\"\u001b[39;49m\u001b[38;5;124;43mSHOW INDEXES\u001b[39;49m\u001b[38;5;124;43m\"\u001b[39;49m\u001b[43m)\u001b[49m\n",
            "\u001b[0;31mTypeError\u001b[0m: 'str' object is not callable"
          ]
        }
      ],
      "source": [
        "graph.query(\"SHOW INDEXES\")"
      ]
    },
    {
      "cell_type": "code",
      "execution_count": 27,
      "metadata": {
        "id": "GHbJPMfDtHNW"
      },
      "outputs": [],
      "source": [
        "# Cria uma vectorstore\n",
        "vector_index = Neo4jVector.from_existing_graph(\n",
        "    OpenAIEmbeddings(),\n",
        "    search_type=\"hybrid\",\n",
        "    node_label=\"Document\",\n",
        "    text_node_properties=[\"text\"],\n",
        "    embedding_node_property=\"embedding\"\n",
        ")\n",
        "vector_retriever = vector_index.as_retriever()"
      ]
    },
    {
      "cell_type": "code",
      "execution_count": 39,
      "metadata": {},
      "outputs": [
        {
          "name": "stdout",
          "output_type": "stream",
          "text": [
            "Node properties:\n",
            "Document {id: STRING, text: STRING, embedding: LIST}\n",
            "Column {id: STRING}\n",
            "Table {id: STRING}\n",
            "Primary_key {id: STRING}\n",
            "Foreign_key {id: STRING}\n",
            "Relationship properties:\n",
            "\n",
            "The relationships:\n",
            "(:Document)-[:MENTIONS]->(:Table)\n",
            "(:Document)-[:MENTIONS]->(:Column)\n",
            "(:Document)-[:MENTIONS]->(:Foreign_key)\n",
            "(:Document)-[:MENTIONS]->(:Primary_key)\n",
            "(:Column)-[:PRIMARY_KEY]->(:Table)\n",
            "(:Column)-[:REFERENCES]->(:Table)\n",
            "(:Column)-[:REFERENCES]->(:Column)\n",
            "(:Column)-[:FOREIGN_KEY]->(:Column)\n",
            "(:Table)-[:HAS_COLUMN]->(:Column)\n",
            "(:Table)-[:FOREIGN_KEY]->(:Table)\n",
            "(:Table)-[:FOREIGN_KEY]->(:Column)\n",
            "(:Table)-[:REFERENCES]->(:Table)\n",
            "(:Table)-[:PRIMARY_KEY]->(:Column)\n",
            "(:Table)-[:HAS_PRIMARY_KEY]->(:Primary_key)\n",
            "(:Table)-[:HAS_FOREIGN_KEY]->(:Foreign_key)\n",
            "(:Foreign_key)-[:REFERENCES]->(:Table)\n"
          ]
        }
      ],
      "source": [
        "schema_data = print(graph.schema)"
      ]
    },
    {
      "cell_type": "code",
      "execution_count": 29,
      "metadata": {},
      "outputs": [
        {
          "name": "stdout",
          "output_type": "stream",
          "text": [
            "\n",
            "\n",
            "\u001b[1m> Entering new GraphCypherQAChain chain...\u001b[0m\n",
            "Generated Cypher:\n",
            "\u001b[32;1m\u001b[1;3mMATCH (t:Table {id: \"Controledeacessomenu\"})-[:HAS_COLUMN]->(c:Column)\n",
            "RETURN COUNT(c) as total_relacoes;\u001b[0m\n",
            "Full Context:\n",
            "\u001b[32;1m\u001b[1;3m[{'total_relacoes': 11}]\u001b[0m\n",
            "\n",
            "\u001b[1m> Finished chain.\u001b[0m\n",
            "Cypher gerada: A tabela Controledeacessomenu possui um total de 11 relações.\n"
          ]
        }
      ],
      "source": [
        "# Perguntas básicas sobre o Graph\n",
        "from langchain.chains import GraphCypherQAChain\n",
        "from langchain_community.graphs import Neo4jGraph\n",
        "from langchain_openai import ChatOpenAI\n",
        "from langchain_core.prompts import PromptTemplate\n",
        "\n",
        "# Definir o template para geração de Cypher\n",
        "CYPHER_GENERATION_TEMPLATE = \"\"\"Task: Gerar uma instrução Cypher para consultar um banco de dados gráfico com base no esquema SQL fornecido. \n",
        "Instruções:\n",
        "- Verifique o esquema do banco de dados SQL consultando o Neo4j para obter os nomes das tabelas e colunas.\n",
        "- Construa uma consulta SQL com base nas informações extraídas do gráfico.\n",
        "- Certifique-se de verificar os relacionamentos (chaves estrangeiras) no banco de dados gráfico para garantir que a query SQL seja válida.\n",
        "- Não inclua explicações ou desculpas em suas respostas. Apenas forneça a query SQL gerada.\n",
        "- Não responda a perguntas que solicitem qualquer coisa além da construção de uma instrução Cypher.\n",
        "- Não inclua nenhum texto além da instrução Cypher gerada.\n",
        "Task: Gerar uma instrução SQL válida com base nas informações de um banco de dados gráfico Neo4j. \n",
        "Schema:\n",
        "{schema}\n",
        "\n",
        "The question is:\n",
        "{query}\"\"\"\n",
        "\n",
        "# Criar o template para o prompt\n",
        "CYPHER_GENERATION_PROMPT = PromptTemplate(\n",
        "    input_variables=[\"schema\", \"query\"], template=CYPHER_GENERATION_TEMPLATE\n",
        ")\n",
        "\n",
        "# Conectar ao modelo da OpenAI\n",
        "llm = ChatOpenAI(temperature=0)\n",
        "\n",
        "# Conectar ao Neo4j e criar o chain, permitindo solicitações \"perigosas\"\n",
        "chain = GraphCypherQAChain.from_llm(\n",
        "    llm,\n",
        "    graph=graph,  # Passa a conexão ao banco de dados Neo4j\n",
        "    verbose=True,\n",
        "    cypher_prompt=CYPHER_GENERATION_PROMPT,\n",
        "    allow_dangerous_requests=True,  # Permitir consultas perigosas\n",
        ")\n",
        "\n",
        "# Obter o esquema do banco de dados Neo4j automaticamente\n",
        "schema_data = graph.schema  # Supondo que graph.schema retorne o esquema em texto\n",
        "\n",
        "# Definir a query\n",
        "query = \"Quantas relacoes no total a tabela Controledeacessomenu possui?\"\n",
        "\n",
        "# Executar a cadeia para gerar a consulta Cypher a partir do schema e da query\n",
        "result = chain.run({\"schema\": schema_data, \"query\": query})\n",
        "\n",
        "# Imprimir a consulta Cypher gerada\n",
        "print(f\"Cypher gerada: {result}\")"
      ]
    },
    {
      "cell_type": "code",
      "execution_count": 56,
      "metadata": {},
      "outputs": [
        {
          "name": "stderr",
          "output_type": "stream",
          "text": [
            "2024-09-29 20:12:25,654 - INFO - HTTP Request: POST https://api.openai.com/v1/chat/completions \"HTTP/1.1 200 OK\"\n"
          ]
        },
        {
          "name": "stdout",
          "output_type": "stream",
          "text": [
            "Query SQL inicial gerada:\n",
            "```sql\n",
            "SELECT COUNT(id_pedido) AS quantidade_pedidos\n",
            "FROM pedidos\n",
            "WHERE YEAR(data_pedido) = YEAR(CURRENT_DATE)\n",
            "```\n",
            "\n",
            "\n",
            "\u001b[1m> Entering new GraphCypherQAChain chain...\u001b[0m\n"
          ]
        },
        {
          "name": "stderr",
          "output_type": "stream",
          "text": [
            "2024-09-29 20:12:26,493 - INFO - HTTP Request: POST https://api.openai.com/v1/chat/completions \"HTTP/1.1 200 OK\"\n"
          ]
        },
        {
          "name": "stdout",
          "output_type": "stream",
          "text": [
            "Generated Cypher:\n",
            "\u001b[32;1m\u001b[1;3mMATCH (t:Table)-[:HAS_COLUMN]->(c:Column)\n",
            "WHERE t.id = 'pedidos' AND c.id = 'id_pedido'\n",
            "RETURN COUNT(c) AS quantidade_pedidos;\u001b[0m\n",
            "Full Context:\n",
            "\u001b[32;1m\u001b[1;3m[{'quantidade_pedidos': 0}]\u001b[0m\n"
          ]
        },
        {
          "name": "stderr",
          "output_type": "stream",
          "text": [
            "2024-09-29 20:12:27,562 - INFO - HTTP Request: POST https://api.openai.com/v1/chat/completions \"HTTP/1.1 200 OK\"\n"
          ]
        },
        {
          "name": "stdout",
          "output_type": "stream",
          "text": [
            "\n",
            "\u001b[1m> Finished chain.\u001b[0m\n",
            "Query SQL final gerada:\n",
            "```sql\n",
            "SELECT COUNT(id_pedido) AS quantidade_pedidos\n",
            "FROM pedidos\n",
            "WHERE YEAR(data_pedido) = YEAR(CURRENT_DATE)\n",
            "```\n"
          ]
        }
      ],
      "source": [
        "import os\n",
        "import re\n",
        "from typing import List, Dict\n",
        "from langchain_openai import ChatOpenAI\n",
        "from langchain_community.graphs import Neo4jGraph\n",
        "from langchain.chains import GraphCypherQAChain\n",
        "from langchain_core.prompts import PromptTemplate\n",
        "from langchain_core.messages import SystemMessage, HumanMessage\n",
        "\n",
        "# Configurações via variáveis de ambiente\n",
        "neo4j_uri = os.getenv(\"NEO4J_URI\")  # URI do Neo4j\n",
        "neo4j_username = os.getenv(\"NEO4J_USERNAME\")  # Nome de usuário do Neo4j\n",
        "neo4j_password = os.getenv(\"NEO4J_PASSWORD\")  # Senha do Neo4j\n",
        "\n",
        "# Conectar ao Neo4j usando as variáveis de ambiente\n",
        "graph = Neo4jGraph(\n",
        "    url=neo4j_uri,\n",
        "    username=neo4j_username,\n",
        "    password=neo4j_password\n",
        ")\n",
        "\n",
        "# Definir o template para geração de Cypher\n",
        "CYPHER_GENERATION_TEMPLATE = \"\"\"Task: Gerar uma instrução Cypher para consultar um banco de dados gráfico com base no esquema SQL fornecido. \n",
        "Instruções:\n",
        "- Verifique o esquema do banco de dados SQL consultando o Neo4j para obter os nomes das tabelas e colunas.\n",
        "- Construa uma consulta SQL com base nas informações extraídas do gráfico.\n",
        "- Certifique-se de verificar os relacionamentos (chaves estrangeiras) no banco de dados gráfico para garantir que a query SQL seja válida.\n",
        "- Não inclua explicações ou desculpas em suas respostas. Apenas forneça a query SQL gerada.\n",
        "- Não responda a perguntas que solicitem qualquer coisa além da construção de uma instrução Cypher.\n",
        "- Não inclua nenhum texto além da instrução Cypher gerada.\n",
        "Task: Verificar se a tabela '{table}' e as colunas '{columns}' existem no banco de dados gráfico Neo4j. \n",
        "Schema:\n",
        "{schema}\n",
        "\n",
        "The question is:\n",
        "{query}\"\"\"\n",
        "\n",
        "# Criar o template para o prompt\n",
        "CYPHER_GENERATION_PROMPT = PromptTemplate(\n",
        "    input_variables=[\"schema\", \"table\", \"columns\", \"query\"], template=CYPHER_GENERATION_TEMPLATE\n",
        ")\n",
        "\n",
        "# Conectar ao modelo da OpenAI\n",
        "llm = ChatOpenAI(temperature=0)\n",
        "\n",
        "# Conectar ao Neo4j e criar o chain, permitindo solicitações \"perigosas\"\n",
        "chain = GraphCypherQAChain.from_llm(\n",
        "    llm,\n",
        "    graph=graph,  # Conexão com o banco de dados Neo4j\n",
        "    verbose=True,\n",
        "    cypher_prompt=CYPHER_GENERATION_PROMPT,\n",
        "    allow_dangerous_requests=True  # Permitir consultas perigosas\n",
        ")\n",
        "\n",
        "# Função para gerar a query SQL inicial com base na pergunta\n",
        "def generate_initial_sql_query(question: str) -> str:\n",
        "    SQL_GENERATION_TEMPLATE = \"\"\"Task: Gerar uma instrução SQL válida com base na pergunta do usuário.\n",
        "    Instruções:\n",
        "    - Gere a query SQL com base na pergunta fornecida, assumindo que todas as tabelas e colunas estão disponíveis.\n",
        "    - A query não deve incluir SELECT *, deve especificar todas as colunas.\n",
        "    - A questão é:\n",
        "    {query}\n",
        "    \"\"\"\n",
        "    messages = [\n",
        "        SystemMessage(content=SQL_GENERATION_TEMPLATE.format(query=question))\n",
        "    ]\n",
        "    response = llm.invoke(messages)\n",
        "    return response.content\n",
        "\n",
        "# Obter o esquema do banco de dados Neo4j automaticamente\n",
        "schema_data = graph.schema  # Supondo que graph.schema retorne o esquema em texto\n",
        "\n",
        "# Função para verificar o esquema no Neo4j com Cypher e retornar confirmação\n",
        "def verify_schema_with_chain(schema: str, table: str, columns: List[str]) -> str:\n",
        "    # Executa o chain de verificação de Cypher\n",
        "    column_list = \", \".join(columns)\n",
        "    result = chain.run({\"schema\": schema, \"table\": table, \"columns\": column_list, \"query\": f\"Verifique se a tabela '{table}' e as colunas {column_list} existem.\"})\n",
        "    return result\n",
        "\n",
        "# Função para extrair tabelas e colunas da query SQL gerada\n",
        "def extract_tables_and_columns(sql_query: str) -> Dict[str, List[str]]:\n",
        "    # Aqui você pode ajustar a lógica de regex para extrair as tabelas e colunas da query SQL\n",
        "    table_column_mapping = {}\n",
        "    table_matches = re.findall(r'FROM\\s+(\\w+)', sql_query, re.IGNORECASE)\n",
        "    column_matches = re.findall(r'SELECT\\s+(.*?)\\s+FROM', sql_query, re.IGNORECASE)\n",
        "\n",
        "    for table, columns in zip(table_matches, column_matches):\n",
        "        columns_list = [col.strip() for col in columns.split(\",\")]\n",
        "        table_column_mapping[table] = columns_list\n",
        "\n",
        "    return table_column_mapping\n",
        "\n",
        "# Função principal para gerar a query SQL final\n",
        "def generate_final_sql(question: str):\n",
        "    # 1. Gerar a query SQL inicial\n",
        "    sql_query = generate_initial_sql_query(question)\n",
        "    print(f\"Query SQL inicial gerada:\\n{sql_query}\")\n",
        "    \n",
        "    # 2. Extrair tabelas e colunas da query SQL gerada\n",
        "    tables_and_columns = extract_tables_and_columns(sql_query)\n",
        "    \n",
        "    # 3. Verificar cada tabela e suas colunas no Neo4j\n",
        "    for table, columns in tables_and_columns.items():\n",
        "        result = verify_schema_with_chain(schema_data, table, columns)\n",
        "        if \"não existem\" in result:\n",
        "            raise ValueError(f\"A tabela '{table}' ou as colunas '{columns}' não existem no banco de dados Neo4j.\")\n",
        "    \n",
        "    # 4. Se tudo estiver correto, retorne a query SQL final\n",
        "    return sql_query\n",
        "\n",
        "# Exemplo de uso\n",
        "try:\n",
        "    question = \"Qual é a quantidade de pedidos no ano?\"\n",
        "    final_sql = generate_final_sql(question)\n",
        "    print(f\"Query SQL final gerada:\\n{final_sql}\")\n",
        "except ValueError as e:\n",
        "    print(f\"Erro: {e}\")"
      ]
    }
  ],
  "metadata": {
    "colab": {
      "include_colab_link": true,
      "provenance": []
    },
    "kernelspec": {
      "display_name": "Python 3 (ipykernel)",
      "language": "python",
      "name": "python3"
    },
    "language_info": {
      "codemirror_mode": {
        "name": "ipython",
        "version": 3
      },
      "file_extension": ".py",
      "mimetype": "text/x-python",
      "name": "python",
      "nbconvert_exporter": "python",
      "pygments_lexer": "ipython3",
      "version": "3.12.4"
    },
    "widgets": {
      "application/vnd.jupyter.widget-state+json": {
        "8e37edd9789a4d57a7be401628e7ff7f": {
          "model_module": "yfiles-jupyter-graphs",
          "model_module_version": "^1.6.1",
          "model_name": "GraphModel",
          "state": {
            "_context_pane_mapping": [
              {
                "id": "Neighborhood",
                "title": "Neighborhood"
              },
              {
                "id": "Data",
                "title": "Data"
              },
              {
                "id": "Search",
                "title": "Search"
              },
              {
                "id": "About",
                "title": "About"
              }
            ],
            "_data_importer": "neo4j",
            "_directed": true,
            "_dom_classes": [],
            "_edges": [
              {
                "color": "#9C27B0",
                "directed": true,
                "end": 2,
                "id": 14,
                "label": "RULED",
                "properties": {
                  "label": "RULED"
                },
                "start": 1,
                "thickness_factor": 1
              },
              {
                "color": "#9C27B0",
                "directed": true,
                "end": 3,
                "id": 15,
                "label": "RULED",
                "properties": {
                  "label": "RULED"
                },
                "start": 1,
                "thickness_factor": 1
              },
              {
                "color": "#2196F3",
                "directed": true,
                "end": 4,
                "id": 16,
                "label": "BELONGED_TO",
                "properties": {
                  "label": "BELONGED_TO"
                },
                "start": 1,
                "thickness_factor": 1
              },
              {
                "color": "#4CAF50",
                "directed": true,
                "end": 5,
                "id": 17,
                "label": "PARENT",
                "properties": {
                  "label": "PARENT"
                },
                "start": 1,
                "thickness_factor": 1
              },
              {
                "color": "#4CAF50",
                "directed": true,
                "end": 6,
                "id": 18,
                "label": "PARENT",
                "properties": {
                  "label": "PARENT"
                },
                "start": 1,
                "thickness_factor": 1
              },
              {
                "color": "#F44336",
                "directed": true,
                "end": 6,
                "id": 19,
                "label": "SPOUSE",
                "properties": {
                  "label": "SPOUSE"
                },
                "start": 5,
                "thickness_factor": 1
              },
              {
                "color": "#4CAF50",
                "directed": true,
                "end": 7,
                "id": 20,
                "label": "PARENT",
                "properties": {
                  "label": "PARENT"
                },
                "start": 5,
                "thickness_factor": 1
              },
              {
                "color": "#607D8B",
                "directed": true,
                "end": 8,
                "id": 21,
                "label": "BEQUEATHED_CROWN_TO",
                "properties": {
                  "label": "BEQUEATHED_CROWN_TO"
                },
                "start": 7,
                "thickness_factor": 1
              },
              {
                "color": "#673AB7",
                "directed": true,
                "end": 9,
                "id": 22,
                "label": "IGNORED_CLAIMS_OF",
                "properties": {
                  "label": "IGNORED_CLAIMS_OF"
                },
                "start": 7,
                "thickness_factor": 1
              },
              {
                "color": "#673AB7",
                "directed": true,
                "end": 1,
                "id": 23,
                "label": "IGNORED_CLAIMS_OF",
                "properties": {
                  "label": "IGNORED_CLAIMS_OF"
                },
                "start": 7,
                "thickness_factor": 1
              },
              {
                "color": "#CDDC39",
                "directed": true,
                "end": 1,
                "id": 24,
                "label": "IMPRISONED",
                "properties": {
                  "label": "IMPRISONED"
                },
                "start": 9,
                "thickness_factor": 1
              },
              {
                "color": "#9E9E9E",
                "directed": true,
                "end": 10,
                "id": 25,
                "label": "DEPENDED_ON",
                "properties": {
                  "label": "DEPENDED_ON"
                },
                "start": 1,
                "thickness_factor": 1
              },
              {
                "color": "#9C27B0",
                "directed": true,
                "end": 11,
                "id": 26,
                "label": "CREATED_TITLE",
                "properties": {
                  "label": "CREATED_TITLE"
                },
                "start": 1,
                "thickness_factor": 1
              },
              {
                "color": "#2196F3",
                "directed": true,
                "end": 12,
                "id": 27,
                "label": "SUCCEEDED_BY",
                "properties": {
                  "label": "SUCCEEDED_BY"
                },
                "start": 1,
                "thickness_factor": 1
              },
              {
                "color": "#4CAF50",
                "directed": true,
                "end": 12,
                "id": 28,
                "label": "PARENT",
                "properties": {
                  "label": "PARENT"
                },
                "start": 13,
                "thickness_factor": 1
              },
              {
                "color": "#9E9E9E",
                "directed": true,
                "end": 14,
                "id": 29,
                "label": "DEPENDED_ON",
                "properties": {
                  "label": "DEPENDED_ON"
                },
                "start": 1,
                "thickness_factor": 1
              },
              {
                "color": "#4CAF50",
                "directed": true,
                "end": 17,
                "id": 40,
                "label": "WAR",
                "properties": {
                  "label": "WAR"
                },
                "start": 16,
                "thickness_factor": 1
              },
              {
                "color": "#4CAF50",
                "directed": true,
                "end": 18,
                "id": 41,
                "label": "WAR",
                "properties": {
                  "label": "WAR"
                },
                "start": 16,
                "thickness_factor": 1
              },
              {
                "color": "#4CAF50",
                "directed": true,
                "end": 19,
                "id": 42,
                "label": "WAR",
                "properties": {
                  "label": "WAR"
                },
                "start": 16,
                "thickness_factor": 1
              },
              {
                "color": "#4CAF50",
                "directed": true,
                "end": 3,
                "id": 43,
                "label": "WAR",
                "properties": {
                  "label": "WAR"
                },
                "start": 16,
                "thickness_factor": 1
              },
              {
                "color": "#F44336",
                "directed": true,
                "end": 20,
                "id": 44,
                "label": "LEAD",
                "properties": {
                  "label": "LEAD"
                },
                "start": 16,
                "thickness_factor": 1
              },
              {
                "color": "#F44336",
                "directed": true,
                "end": 21,
                "id": 45,
                "label": "LEAD",
                "properties": {
                  "label": "LEAD"
                },
                "start": 16,
                "thickness_factor": 1
              },
              {
                "color": "#F44336",
                "directed": true,
                "end": 22,
                "id": 46,
                "label": "LEAD",
                "properties": {
                  "label": "LEAD"
                },
                "start": 16,
                "thickness_factor": 1
              },
              {
                "color": "#F44336",
                "directed": true,
                "end": 23,
                "id": 47,
                "label": "LEAD",
                "properties": {
                  "label": "LEAD"
                },
                "start": 16,
                "thickness_factor": 1
              },
              {
                "color": "#607D8B",
                "directed": true,
                "end": 24,
                "id": 48,
                "label": "DEFEAT",
                "properties": {
                  "label": "DEFEAT"
                },
                "start": 16,
                "thickness_factor": 1
              },
              {
                "color": "#673AB7",
                "directed": true,
                "end": 12,
                "id": 64,
                "label": "SUCCESSOR",
                "properties": {
                  "label": "SUCCESSOR"
                },
                "start": 1,
                "thickness_factor": 1
              },
              {
                "color": "#673AB7",
                "directed": true,
                "end": 7,
                "id": 65,
                "label": "SUCCESSOR",
                "properties": {
                  "label": "SUCCESSOR"
                },
                "start": 5,
                "thickness_factor": 1
              },
              {
                "color": "#673AB7",
                "directed": true,
                "end": 29,
                "id": 66,
                "label": "SUCCESSOR",
                "properties": {
                  "label": "SUCCESSOR"
                },
                "start": 5,
                "thickness_factor": 1
              },
              {
                "color": "#673AB7",
                "directed": true,
                "end": 1,
                "id": 67,
                "label": "SUCCESSOR",
                "properties": {
                  "label": "SUCCESSOR"
                },
                "start": 5,
                "thickness_factor": 1
              },
              {
                "color": "#673AB7",
                "directed": true,
                "end": 30,
                "id": 68,
                "label": "SUCCESSOR",
                "properties": {
                  "label": "SUCCESSOR"
                },
                "start": 5,
                "thickness_factor": 1
              },
              {
                "color": "#673AB7",
                "directed": true,
                "end": 31,
                "id": 69,
                "label": "SUCCESSOR",
                "properties": {
                  "label": "SUCCESSOR"
                },
                "start": 5,
                "thickness_factor": 1
              },
              {
                "color": "#673AB7",
                "directed": true,
                "end": 32,
                "id": 70,
                "label": "SUCCESSOR",
                "properties": {
                  "label": "SUCCESSOR"
                },
                "start": 5,
                "thickness_factor": 1
              },
              {
                "color": "#673AB7",
                "directed": true,
                "end": 33,
                "id": 71,
                "label": "SUCCESSOR",
                "properties": {
                  "label": "SUCCESSOR"
                },
                "start": 5,
                "thickness_factor": 1
              },
              {
                "color": "#CDDC39",
                "directed": true,
                "end": 34,
                "id": 72,
                "label": "PREFERRED_SUCCESSOR",
                "properties": {
                  "label": "PREFERRED_SUCCESSOR"
                },
                "start": 29,
                "thickness_factor": 1
              },
              {
                "color": "#9E9E9E",
                "directed": true,
                "end": 35,
                "id": 73,
                "label": "FAMILY_RELATION",
                "properties": {
                  "label": "FAMILY_RELATION"
                },
                "start": 34,
                "thickness_factor": 1
              },
              {
                "color": "#9C27B0",
                "directed": true,
                "end": 13,
                "id": 74,
                "label": "MARRIAGE",
                "properties": {
                  "label": "MARRIAGE"
                },
                "start": 35,
                "thickness_factor": 1
              },
              {
                "color": "#2196F3",
                "directed": true,
                "end": 37,
                "id": 91,
                "label": "GRANDPARENT",
                "properties": {
                  "label": "GRANDPARENT"
                },
                "start": 39,
                "thickness_factor": 1
              },
              {
                "color": "#2196F3",
                "directed": true,
                "end": 38,
                "id": 92,
                "label": "GRANDPARENT",
                "properties": {
                  "label": "GRANDPARENT"
                },
                "start": 39,
                "thickness_factor": 1
              },
              {
                "color": "#4CAF50",
                "directed": true,
                "end": 40,
                "id": 93,
                "label": "PARENT",
                "properties": {
                  "label": "PARENT"
                },
                "start": 34,
                "thickness_factor": 1
              },
              {
                "color": "#4CAF50",
                "directed": true,
                "end": 38,
                "id": 94,
                "label": "PARENT",
                "properties": {
                  "label": "PARENT"
                },
                "start": 40,
                "thickness_factor": 1
              },
              {
                "color": "#4CAF50",
                "directed": true,
                "end": 37,
                "id": 95,
                "label": "PARENT",
                "properties": {
                  "label": "PARENT"
                },
                "start": 13,
                "thickness_factor": 1
              },
              {
                "color": "#4CAF50",
                "directed": true,
                "end": 16,
                "id": 96,
                "label": "CONTENDER",
                "properties": {
                  "label": "CONTENDER"
                },
                "start": 13,
                "thickness_factor": 1
              },
              {
                "color": "#4CAF50",
                "directed": true,
                "end": 8,
                "id": 97,
                "label": "PARENT",
                "properties": {
                  "label": "PARENT"
                },
                "start": 41,
                "thickness_factor": 1
              },
              {
                "color": "#4CAF50",
                "directed": true,
                "end": 46,
                "id": 98,
                "label": "PARENT",
                "properties": {
                  "label": "PARENT"
                },
                "start": 41,
                "thickness_factor": 1
              },
              {
                "color": "#4CAF50",
                "directed": true,
                "end": 47,
                "id": 99,
                "label": "PARENT",
                "properties": {
                  "label": "PARENT"
                },
                "start": 41,
                "thickness_factor": 1
              },
              {
                "color": "#F44336",
                "directed": true,
                "end": 41,
                "id": 100,
                "label": "SPOUSE",
                "properties": {
                  "label": "SPOUSE"
                },
                "start": 44,
                "thickness_factor": 1
              },
              {
                "color": "#F44336",
                "directed": true,
                "end": 42,
                "id": 101,
                "label": "SPOUSE",
                "properties": {
                  "label": "SPOUSE"
                },
                "start": 44,
                "thickness_factor": 1
              },
              {
                "color": "#F44336",
                "directed": true,
                "end": 41,
                "id": 102,
                "label": "SPOUSE",
                "properties": {
                  "label": "SPOUSE"
                },
                "start": 45,
                "thickness_factor": 1
              },
              {
                "color": "#F44336",
                "directed": true,
                "end": 48,
                "id": 103,
                "label": "SPOUSE",
                "properties": {
                  "label": "SPOUSE"
                },
                "start": 46,
                "thickness_factor": 1
              },
              {
                "color": "#F44336",
                "directed": true,
                "end": 51,
                "id": 117,
                "label": "HELD_TITLE",
                "properties": {
                  "label": "HELD_TITLE"
                },
                "start": 50,
                "thickness_factor": 1
              }
            ],
            "_graph_layout": {},
            "_highlight": [],
            "_license": {},
            "_model_module": "yfiles-jupyter-graphs",
            "_model_module_version": "^1.6.1",
            "_model_name": "GraphModel",
            "_neighborhood": {},
            "_nodes": [
              {
                "color": "#2196F3",
                "id": 1,
                "label": "Elizabeth I",
                "position": [
                  0,
                  0
                ],
                "properties": {
                  "id": "Elizabeth I",
                  "label": "Person:__Entity__"
                },
                "scale_factor": 1,
                "size": [
                  55,
                  55
                ],
                "styles": {},
                "type": "#2196F3"
              },
              {
                "color": "#4CAF50",
                "id": 2,
                "label": "England",
                "position": [
                  0,
                  0
                ],
                "properties": {
                  "id": "England",
                  "label": "Country:__Entity__"
                },
                "scale_factor": 1,
                "size": [
                  55,
                  55
                ],
                "styles": {},
                "type": "#4CAF50"
              },
              {
                "color": "#4CAF50",
                "id": 3,
                "label": "Ireland",
                "position": [
                  0,
                  0
                ],
                "properties": {
                  "id": "Ireland",
                  "label": "Country:__Entity__"
                },
                "scale_factor": 1,
                "size": [
                  55,
                  55
                ],
                "styles": {},
                "type": "#4CAF50"
              },
              {
                "color": "#F44336",
                "id": 4,
                "label": "House Of Tudor",
                "position": [
                  0,
                  0
                ],
                "properties": {
                  "id": "House Of Tudor",
                  "label": "__Entity__:Royal family"
                },
                "scale_factor": 1,
                "size": [
                  55,
                  55
                ],
                "styles": {},
                "type": "#F44336"
              },
              {
                "color": "#2196F3",
                "id": 5,
                "label": "Henry Viii",
                "position": [
                  0,
                  0
                ],
                "properties": {
                  "id": "Henry Viii",
                  "label": "Person:__Entity__"
                },
                "scale_factor": 1,
                "size": [
                  55,
                  55
                ],
                "styles": {},
                "type": "#2196F3"
              },
              {
                "color": "#2196F3",
                "id": 6,
                "label": "Anne Boleyn",
                "position": [
                  0,
                  0
                ],
                "properties": {
                  "id": "Anne Boleyn",
                  "label": "Person:__Entity__"
                },
                "scale_factor": 1,
                "size": [
                  55,
                  55
                ],
                "styles": {},
                "type": "#2196F3"
              },
              {
                "color": "#2196F3",
                "id": 7,
                "label": "Edward Vi",
                "position": [
                  0,
                  0
                ],
                "properties": {
                  "id": "Edward Vi",
                  "label": "Person:__Entity__"
                },
                "scale_factor": 1,
                "size": [
                  55,
                  55
                ],
                "styles": {},
                "type": "#2196F3"
              },
              {
                "color": "#2196F3",
                "id": 8,
                "label": "Lady Jane Grey",
                "position": [
                  0,
                  0
                ],
                "properties": {
                  "id": "Lady Jane Grey",
                  "label": "Person:__Entity__"
                },
                "scale_factor": 1,
                "size": [
                  55,
                  55
                ],
                "styles": {},
                "type": "#2196F3"
              },
              {
                "color": "#2196F3",
                "id": 9,
                "label": "Mary",
                "position": [
                  0,
                  0
                ],
                "properties": {
                  "id": "Mary",
                  "label": "Person:__Entity__"
                },
                "scale_factor": 1,
                "size": [
                  55,
                  55
                ],
                "styles": {},
                "type": "#2196F3"
              },
              {
                "color": "#2196F3",
                "id": 10,
                "label": "William Cecil",
                "position": [
                  0,
                  0
                ],
                "properties": {
                  "id": "William Cecil",
                  "label": "Person:__Entity__"
                },
                "scale_factor": 1,
                "size": [
                  55,
                  55
                ],
                "styles": {},
                "type": "#2196F3"
              },
              {
                "color": "#607D8B",
                "id": 11,
                "label": "Baron Burghley",
                "position": [
                  0,
                  0
                ],
                "properties": {
                  "id": "Baron Burghley",
                  "label": "Title:__Entity__"
                },
                "scale_factor": 1,
                "size": [
                  55,
                  55
                ],
                "styles": {},
                "type": "#607D8B"
              },
              {
                "color": "#2196F3",
                "id": 12,
                "label": "James Vi Of Scotland",
                "position": [
                  0,
                  0
                ],
                "properties": {
                  "id": "James Vi Of Scotland",
                  "label": "Person:__Entity__"
                },
                "scale_factor": 1,
                "size": [
                  55,
                  55
                ],
                "styles": {},
                "type": "#2196F3"
              },
              {
                "color": "#2196F3",
                "id": 13,
                "label": "Mary, Queen Of Scots",
                "position": [
                  0,
                  0
                ],
                "properties": {
                  "id": "Mary, Queen Of Scots",
                  "label": "Person:__Entity__"
                },
                "scale_factor": 1,
                "size": [
                  55,
                  55
                ],
                "styles": {},
                "type": "#2196F3"
              },
              {
                "color": "#2196F3",
                "id": 14,
                "label": "Francis Walsingham",
                "position": [
                  0,
                  0
                ],
                "properties": {
                  "id": "Francis Walsingham",
                  "label": "Person:__Entity__"
                },
                "scale_factor": 1,
                "size": [
                  55,
                  55
                ],
                "styles": {},
                "type": "#2196F3"
              },
              {
                "color": "#2196F3",
                "id": 16,
                "label": "Elizabeth",
                "position": [
                  0,
                  0
                ],
                "properties": {
                  "id": "Elizabeth",
                  "label": "Person:__Entity__"
                },
                "scale_factor": 1,
                "size": [
                  55,
                  55
                ],
                "styles": {},
                "type": "#2196F3"
              },
              {
                "color": "#4CAF50",
                "id": 17,
                "label": "Spain",
                "position": [
                  0,
                  0
                ],
                "properties": {
                  "id": "Spain",
                  "label": "Country:__Entity__"
                },
                "scale_factor": 1,
                "size": [
                  55,
                  55
                ],
                "styles": {},
                "type": "#4CAF50"
              },
              {
                "color": "#4CAF50",
                "id": 18,
                "label": "Netherlands",
                "position": [
                  0,
                  0
                ],
                "properties": {
                  "id": "Netherlands",
                  "label": "Country:__Entity__"
                },
                "scale_factor": 1,
                "size": [
                  55,
                  55
                ],
                "styles": {},
                "type": "#4CAF50"
              },
              {
                "color": "#4CAF50",
                "id": 19,
                "label": "France",
                "position": [
                  0,
                  0
                ],
                "properties": {
                  "id": "France",
                  "label": "Country:__Entity__"
                },
                "scale_factor": 1,
                "size": [
                  55,
                  55
                ],
                "styles": {},
                "type": "#4CAF50"
              },
              {
                "color": "#673AB7",
                "id": 20,
                "label": "William Shakespeare",
                "position": [
                  0,
                  0
                ],
                "properties": {
                  "id": "William Shakespeare",
                  "label": "Playwright:__Entity__"
                },
                "scale_factor": 1,
                "size": [
                  55,
                  55
                ],
                "styles": {},
                "type": "#673AB7"
              },
              {
                "color": "#673AB7",
                "id": 21,
                "label": "Christopher Marlowe",
                "position": [
                  0,
                  0
                ],
                "properties": {
                  "id": "Christopher Marlowe",
                  "label": "Playwright:__Entity__"
                },
                "scale_factor": 1,
                "size": [
                  55,
                  55
                ],
                "styles": {},
                "type": "#673AB7"
              },
              {
                "color": "#CDDC39",
                "id": 22,
                "label": "Francis Drake",
                "position": [
                  0,
                  0
                ],
                "properties": {
                  "id": "Francis Drake",
                  "label": "Explorer:__Entity__"
                },
                "scale_factor": 1,
                "size": [
                  55,
                  55
                ],
                "styles": {},
                "type": "#CDDC39"
              },
              {
                "color": "#CDDC39",
                "id": 23,
                "label": "Walter Raleigh",
                "position": [
                  0,
                  0
                ],
                "properties": {
                  "id": "Walter Raleigh",
                  "label": "Explorer:__Entity__"
                },
                "scale_factor": 1,
                "size": [
                  55,
                  55
                ],
                "styles": {},
                "type": "#CDDC39"
              },
              {
                "color": "#9E9E9E",
                "id": 24,
                "label": "Spanish Armada",
                "position": [
                  0,
                  0
                ],
                "properties": {
                  "id": "Spanish Armada",
                  "label": "Event:__Entity__"
                },
                "scale_factor": 1,
                "size": [
                  55,
                  55
                ],
                "styles": {},
                "type": "#9E9E9E"
              },
              {
                "color": "#2196F3",
                "id": 29,
                "label": "Mary I",
                "position": [
                  0,
                  0
                ],
                "properties": {
                  "id": "Mary I",
                  "label": "Person:__Entity__"
                },
                "scale_factor": 1,
                "size": [
                  55,
                  55
                ],
                "styles": {},
                "type": "#2196F3"
              },
              {
                "color": "#2196F3",
                "id": 30,
                "label": "Jane Grey",
                "position": [
                  0,
                  0
                ],
                "properties": {
                  "id": "Jane Grey",
                  "label": "Person:__Entity__"
                },
                "scale_factor": 1,
                "size": [
                  55,
                  55
                ],
                "styles": {},
                "type": "#2196F3"
              },
              {
                "color": "#2196F3",
                "id": 31,
                "label": "Katherine Grey",
                "position": [
                  0,
                  0
                ],
                "properties": {
                  "id": "Katherine Grey",
                  "label": "Person:__Entity__"
                },
                "scale_factor": 1,
                "size": [
                  55,
                  55
                ],
                "styles": {},
                "type": "#2196F3"
              },
              {
                "color": "#2196F3",
                "id": 32,
                "label": "Mary Grey",
                "position": [
                  0,
                  0
                ],
                "properties": {
                  "id": "Mary Grey",
                  "label": "Person:__Entity__"
                },
                "scale_factor": 1,
                "size": [
                  55,
                  55
                ],
                "styles": {},
                "type": "#2196F3"
              },
              {
                "color": "#2196F3",
                "id": 33,
                "label": "Margaret Clifford",
                "position": [
                  0,
                  0
                ],
                "properties": {
                  "id": "Margaret Clifford",
                  "label": "Person:__Entity__"
                },
                "scale_factor": 1,
                "size": [
                  55,
                  55
                ],
                "styles": {},
                "type": "#2196F3"
              },
              {
                "color": "#2196F3",
                "id": 34,
                "label": "Margaret Douglas",
                "position": [
                  0,
                  0
                ],
                "properties": {
                  "id": "Margaret Douglas",
                  "label": "Person:__Entity__"
                },
                "scale_factor": 1,
                "size": [
                  55,
                  55
                ],
                "styles": {},
                "type": "#2196F3"
              },
              {
                "color": "#2196F3",
                "id": 35,
                "label": "Henry Stuart, Lord Darnley",
                "position": [
                  0,
                  0
                ],
                "properties": {
                  "id": "Henry Stuart, Lord Darnley",
                  "label": "Person:__Entity__"
                },
                "scale_factor": 1,
                "size": [
                  55,
                  55
                ],
                "styles": {},
                "type": "#2196F3"
              },
              {
                "color": "#2196F3",
                "id": 39,
                "label": "Margaret Tudor",
                "position": [
                  0,
                  0
                ],
                "properties": {
                  "id": "Margaret Tudor",
                  "label": "Person:__Entity__"
                },
                "scale_factor": 1,
                "size": [
                  55,
                  55
                ],
                "styles": {},
                "type": "#2196F3"
              },
              {
                "color": "#2196F3",
                "id": 37,
                "label": "James Vi",
                "position": [
                  0,
                  0
                ],
                "properties": {
                  "id": "James Vi",
                  "label": "Person:__Entity__"
                },
                "scale_factor": 1,
                "size": [
                  55,
                  55
                ],
                "styles": {},
                "type": "#2196F3"
              },
              {
                "color": "#2196F3",
                "id": 38,
                "label": "Arbella Stuart",
                "position": [
                  0,
                  0
                ],
                "properties": {
                  "id": "Arbella Stuart",
                  "label": "Person:__Entity__"
                },
                "scale_factor": 1,
                "size": [
                  55,
                  55
                ],
                "styles": {},
                "type": "#2196F3"
              },
              {
                "color": "#2196F3",
                "id": 40,
                "label": "Charles Stuart",
                "position": [
                  0,
                  0
                ],
                "properties": {
                  "id": "Charles Stuart",
                  "label": "Person:__Entity__"
                },
                "scale_factor": 1,
                "size": [
                  55,
                  55
                ],
                "styles": {},
                "type": "#2196F3"
              },
              {
                "color": "#2196F3",
                "id": 41,
                "label": "Frances Grey",
                "position": [
                  0,
                  0
                ],
                "properties": {
                  "id": "Frances Grey",
                  "label": "Person:__Entity__"
                },
                "scale_factor": 1,
                "size": [
                  55,
                  55
                ],
                "styles": {},
                "type": "#2196F3"
              },
              {
                "color": "#2196F3",
                "id": 46,
                "label": "Lady Catherine Grey",
                "position": [
                  0,
                  0
                ],
                "properties": {
                  "id": "Lady Catherine Grey",
                  "label": "Person:__Entity__"
                },
                "scale_factor": 1,
                "size": [
                  55,
                  55
                ],
                "styles": {},
                "type": "#2196F3"
              },
              {
                "color": "#2196F3",
                "id": 47,
                "label": "Lady Mary Grey",
                "position": [
                  0,
                  0
                ],
                "properties": {
                  "id": "Lady Mary Grey",
                  "label": "Person:__Entity__"
                },
                "scale_factor": 1,
                "size": [
                  55,
                  55
                ],
                "styles": {},
                "type": "#2196F3"
              },
              {
                "color": "#2196F3",
                "id": 44,
                "label": "Charles Brandon",
                "position": [
                  0,
                  0
                ],
                "properties": {
                  "id": "Charles Brandon",
                  "label": "Person:__Entity__"
                },
                "scale_factor": 1,
                "size": [
                  55,
                  55
                ],
                "styles": {},
                "type": "#2196F3"
              },
              {
                "color": "#2196F3",
                "id": 42,
                "label": "Eleanor Clifford",
                "position": [
                  0,
                  0
                ],
                "properties": {
                  "id": "Eleanor Clifford",
                  "label": "Person:__Entity__"
                },
                "scale_factor": 1,
                "size": [
                  55,
                  55
                ],
                "styles": {},
                "type": "#2196F3"
              },
              {
                "color": "#2196F3",
                "id": 45,
                "label": "Henry Grey",
                "position": [
                  0,
                  0
                ],
                "properties": {
                  "id": "Henry Grey",
                  "label": "Person:__Entity__"
                },
                "scale_factor": 1,
                "size": [
                  55,
                  55
                ],
                "styles": {},
                "type": "#2196F3"
              },
              {
                "color": "#2196F3",
                "id": 48,
                "label": "Henry Herbert",
                "position": [
                  0,
                  0
                ],
                "properties": {
                  "id": "Henry Herbert",
                  "label": "Person:__Entity__"
                },
                "scale_factor": 1,
                "size": [
                  55,
                  55
                ],
                "styles": {},
                "type": "#2196F3"
              },
              {
                "color": "#2196F3",
                "id": 50,
                "label": "Elizabeth Petrovna",
                "position": [
                  0,
                  0
                ],
                "properties": {
                  "id": "Elizabeth Petrovna",
                  "label": "Person:__Entity__"
                },
                "scale_factor": 1,
                "size": [
                  55,
                  55
                ],
                "styles": {},
                "type": "#2196F3"
              },
              {
                "color": "#607D8B",
                "id": 51,
                "label": "Empress Of Russia",
                "position": [
                  0,
                  0
                ],
                "properties": {
                  "id": "Empress Of Russia",
                  "label": "Title:__Entity__"
                },
                "scale_factor": 1,
                "size": [
                  55,
                  55
                ],
                "styles": {},
                "type": "#607D8B"
              }
            ],
            "_overview": {
              "enabled": null,
              "overview_set": false
            },
            "_selected_graph": [
              [],
              []
            ],
            "_sidebar": {
              "enabled": true,
              "start_with": ""
            },
            "_view_count": null,
            "_view_module": "yfiles-jupyter-graphs",
            "_view_module_version": "^1.6.1",
            "_view_name": "GraphView",
            "layout": "IPY_MODEL_9bac7003afd84cecb4e67a81a396ec8d"
          }
        },
        "9bac7003afd84cecb4e67a81a396ec8d": {
          "model_module": "@jupyter-widgets/base",
          "model_module_version": "1.2.0",
          "model_name": "LayoutModel",
          "state": {
            "_model_module": "@jupyter-widgets/base",
            "_model_module_version": "1.2.0",
            "_model_name": "LayoutModel",
            "_view_count": null,
            "_view_module": "@jupyter-widgets/base",
            "_view_module_version": "1.2.0",
            "_view_name": "LayoutView",
            "align_content": null,
            "align_items": null,
            "align_self": null,
            "border": null,
            "bottom": null,
            "display": null,
            "flex": null,
            "flex_flow": null,
            "grid_area": null,
            "grid_auto_columns": null,
            "grid_auto_flow": null,
            "grid_auto_rows": null,
            "grid_column": null,
            "grid_gap": null,
            "grid_row": null,
            "grid_template_areas": null,
            "grid_template_columns": null,
            "grid_template_rows": null,
            "height": "800px",
            "justify_content": null,
            "justify_items": null,
            "left": null,
            "margin": null,
            "max_height": null,
            "max_width": null,
            "min_height": null,
            "min_width": null,
            "object_fit": null,
            "object_position": null,
            "order": null,
            "overflow": null,
            "overflow_x": null,
            "overflow_y": null,
            "padding": null,
            "right": null,
            "top": null,
            "visibility": null,
            "width": "100%"
          }
        }
      }
    }
  },
  "nbformat": 4,
  "nbformat_minor": 0
}
